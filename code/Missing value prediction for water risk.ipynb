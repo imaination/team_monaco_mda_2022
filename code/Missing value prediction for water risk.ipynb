{
 "cells": [
  {
   "cell_type": "code",
   "execution_count": 1,
   "metadata": {
    "executionInfo": {
     "elapsed": 3,
     "status": "ok",
     "timestamp": 1654352293636,
     "user": {
      "displayName": "Eva Rolland",
      "userId": "01449613398367393128"
     },
     "user_tz": -120
    },
    "id": "dRmywNXTQ7kM"
   },
   "outputs": [],
   "source": [
    "# Load Modules\n",
    "import numpy as np\n",
    "import pandas as pd\n",
    "from sklearn.preprocessing import MinMaxScaler, StandardScaler\n",
    "import plotly.graph_objects as go\n",
    "import ipywidgets as widgets\n",
    "import lightgbm as lgb\n",
    "from sklearn.model_selection import KFold\n",
    "from sklearn.metrics import mean_squared_error, mean_absolute_error\n",
    "import gc\n",
    "import plotly.express as px\n",
    "import matplotlib.pyplot as plt\n",
    "from bayes_opt import BayesianOptimization, UtilityFunction\n",
    "import zipfile"
   ]
  },
  {
   "cell_type": "code",
   "execution_count": 2,
   "metadata": {},
   "outputs": [],
   "source": [
    "# unzip folder to extract data\n",
    "with zipfile.ZipFile('../data/Aqueduct Water Risk.zip', 'r') as zip_ref:\n",
    "    zip_ref.extractall('../data/')"
   ]
  },
  {
   "cell_type": "code",
   "execution_count": 4,
   "metadata": {
    "colab": {
     "base_uri": "https://localhost:8080/"
    },
    "executionInfo": {
     "elapsed": 4184,
     "status": "ok",
     "timestamp": 1654352304602,
     "user": {
      "displayName": "Eva Rolland",
      "userId": "01449613398367393128"
     },
     "user_tz": -120
    },
    "id": "gPN6gr6l-CsE",
    "outputId": "36344043-6470-47ee-df1f-173b752ebc34"
   },
   "outputs": [],
   "source": [
    "data_all = pd.read_csv('../data/Aqueduct Water Risk.csv', low_memory=False, encoding = 'latin-1')"
   ]
  },
  {
   "cell_type": "code",
   "execution_count": 21,
   "metadata": {
    "colab": {
     "base_uri": "https://localhost:8080/"
    },
    "executionInfo": {
     "elapsed": 10307,
     "status": "ok",
     "timestamp": 1654352316957,
     "user": {
      "displayName": "Eva Rolland",
      "userId": "01449613398367393128"
     },
     "user_tz": -120
    },
    "id": "n2GfXRRlSXp9",
    "outputId": "a6fdcab8-286b-4214-9a05-265ba4c22a9b"
   },
   "outputs": [
    {
     "name": "stderr",
     "output_type": "stream",
     "text": [
      "/usr/local/lib/python3.7/dist-packages/IPython/core/interactiveshell.py:2882: DtypeWarning:\n",
      "\n",
      "Columns (12,16,20,24,32,36,40,48) have mixed types.Specify dtype option on import or set low_memory=False.\n",
      "\n"
     ]
    }
   ],
   "source": [
    "us_state_abbrev = {\n",
    "    'Alabama': 'AL',\n",
    "    'Alaska': 'AK',\n",
    "    'American Samoa': 'AS',\n",
    "    'Arizona': 'AZ',\n",
    "    'Arkansas': 'AR',\n",
    "    'California': 'CA',\n",
    "    'Colorado': 'CO',\n",
    "    'Connecticut': 'CT',\n",
    "    'Delaware': 'DE',\n",
    "    'District of Columbia': 'DC',\n",
    "    'Florida': 'FL',\n",
    "    'Georgia': 'GA',\n",
    "    'Guam': 'GU',\n",
    "    'Hawaii': 'HI',\n",
    "    'Idaho': 'ID',\n",
    "    'Illinois': 'IL',\n",
    "    'Indiana': 'IN',\n",
    "    'Iowa': 'IA',\n",
    "    'Kansas': 'KS',\n",
    "    'Kentucky': 'KY',\n",
    "    'Louisiana': 'LA',\n",
    "    'Maine': 'ME',\n",
    "    'Maryland': 'MD',\n",
    "    'Massachusetts': 'MA',\n",
    "    'Michigan': 'MI',\n",
    "    'Minnesota': 'MN',\n",
    "    'Mississippi': 'MS',\n",
    "    'Missouri': 'MO',\n",
    "    'Montana': 'MT',\n",
    "    'Nebraska': 'NE',\n",
    "    'Nevada': 'NV',\n",
    "    'New Hampshire': 'NH',\n",
    "    'New Jersey': 'NJ',\n",
    "    'New Mexico': 'NM',\n",
    "    'New York': 'NY',\n",
    "    'North Carolina': 'NC',\n",
    "    'North Dakota': 'ND',\n",
    "    'Northern Mariana Islands':'MP',\n",
    "    'Ohio': 'OH',\n",
    "    'Oklahoma': 'OK',\n",
    "    'Oregon': 'OR',\n",
    "    'Pennsylvania': 'PA',\n",
    "    'Puerto Rico': 'PR',\n",
    "    'Rhode Island': 'RI',\n",
    "    'South Carolina': 'SC',\n",
    "    'South Dakota': 'SD',\n",
    "    'Tennessee': 'TN',\n",
    "    'Texas': 'TX',\n",
    "    'Utah': 'UT',\n",
    "    'Vermont': 'VT',\n",
    "    'Virgin Islands': 'VI',\n",
    "    'Virginia': 'VA',\n",
    "    'Washington': 'WA',\n",
    "    'West Virginia': 'WV',\n",
    "    'Wisconsin': 'WI',\n",
    "    'Wyoming': 'WY'\n",
    "}\n",
    "# create state variable\n",
    "data_all['name_1'] = data_all['name_1'].replace(us_state_abbrev)"
   ]
  },
  {
   "cell_type": "code",
   "execution_count": 22,
   "metadata": {
    "executionInfo": {
     "elapsed": 214,
     "status": "ok",
     "timestamp": 1654352320129,
     "user": {
      "displayName": "Eva Rolland",
      "userId": "01449613398367393128"
     },
     "user_tz": -120
    },
    "id": "uJEh0IDBSa67"
   },
   "outputs": [],
   "source": [
    "water_score = data_all.loc[data_all['gid_0'] == \"USA\"]\n",
    "# get columns with iav score and cfr score\n",
    "# this is for later - does not affect prediction\n",
    "water_score_other_scores = water_score[['aq30_id','iav_score', 'cfr_score']]\n",
    "# keep only certain columns\n",
    "water_score = water_score[['aq30_id','name_1', 'bws_score', 'bwd_score',  'sev_score', 'gtd_score',\n",
    "            'rfr_score',  'drr_score',  'cep_score', 'udw_score', 'usa_score'#,'w_awr_def_tot_score' 'iav_score','cfr_score',\n",
    "            ]]\n",
    "water_score = water_score.sort_values('name_1')\n",
    "#water_score = water_score.replace(-9999, np.nan)\n",
    "# drop rows having NA on score 'cep' (needed to do this!)\n",
    "water_score['cep_score'] = water_score[\"cep_score\"].replace(-9999, np.nan)\n",
    "water_score.dropna(subset = [\"cep_score\"], inplace=True)\n",
    "# Remove Hawaii\n",
    "water_score = water_score[water_score.name_1 != \"HI\"]\n",
    "#water_score\n"
   ]
  },
  {
   "cell_type": "code",
   "execution_count": 23,
   "metadata": {
    "executionInfo": {
     "elapsed": 658,
     "status": "ok",
     "timestamp": 1654352324059,
     "user": {
      "displayName": "Eva Rolland",
      "userId": "01449613398367393128"
     },
     "user_tz": -120
    },
    "id": "zirTMDNASiVu"
   },
   "outputs": [],
   "source": [
    "#Helper Functions\n",
    "#split train and test dataset based on prediction type\n",
    "def select_target(data, target):\n",
    "  if target == 'gtd_score':\n",
    "    model_df = data[data['gtd_score'] != -9999].drop('drr_score',axis=1)\n",
    "    test_set = data[data['gtd_score'] == -9999].drop('drr_score',axis=1)\n",
    "    model_df = model_df.replace(-9999, np.nan)\n",
    "    model_df.dropna(subset=['bws_score', 'bwd_score',  'sev_score', 'gtd_score',\n",
    "            'rfr_score', 'cep_score', 'udw_score', 'usa_score'], inplace=True)\n",
    "    model_df = model_df.reset_index(drop=True)\n",
    "    test_set = test_set.reset_index(drop=True)\n",
    "\n",
    "    \n",
    "  elif target == 'drr_score':\n",
    "    model_df = data[data['drr_score'] != -9999].drop('gtd_score',axis=1)\n",
    "    test_set = data[data['drr_score'] == -9999].drop('gtd_score',axis=1)\n",
    "    model_df = model_df.replace(-9999, np.nan)\n",
    "    model_df.dropna(subset=['bws_score', 'bwd_score',  'sev_score', \n",
    "            'rfr_score',  'drr_score',  'cep_score', 'udw_score', 'usa_score'], inplace=True)\n",
    "    model_df = model_df.reset_index(drop=True)\n",
    "    test_set = test_set.reset_index(drop=True)\n",
    "  return model_df, test_set\n",
    "\n",
    "# Define the black box function to optimize hyperparameters.\n",
    "def bayes_parameter_opt_lgb(data, target, init_round=20, opt_round=25, \n",
    "                            n_folds=5, random_seed=42, n_estimators=5000, output_process=False):\n",
    "    model_df, test_set = select_target(data, target)\n",
    "    y_train = model_df[target]\n",
    "    x_train =model_df.drop([target, 'name_1', 'aq30_id'], axis=1)\n",
    "    train_data = lgb.Dataset(data=x_train, label=y_train)\n",
    "    def lgb_eval(num_leaves, feature_fraction,learning_rate, bagging_fraction ,max_bin,bagging_freq #,reg_lambda, reg_alpha\n",
    "                 ):\n",
    "        params = {'objective':'regression','num_iterations':5000, 'early_stopping_round':200, 'metric':'rmse','bagging_seed':7,'feature_fraction_seed':7}\n",
    "        params[\"num_leaves\"] = round(num_leaves)\n",
    "        params['learning_rate'] = max(learning_rate, 0)\n",
    "        params['feature_fraction'] = max(min(feature_fraction, 1), 0)\n",
    "        params['bagging_fraction'] = max(min(bagging_fraction, 1), 0)\n",
    "        params['max_bin'] = round(max_bin)\n",
    "        params['bagging_freq'] = round(bagging_freq)\n",
    "\n",
    "                  \n",
    "        cv_result = lgb.cv(params, train_data, nfold=n_folds, seed=random_seed, stratified=False ,shuffle=False,verbose_eval =200)\n",
    "        #return max(cv_result['rmse-mean'])\n",
    "        return (-1.0 * np.array(cv_result['rmse-mean'])).max()\n",
    "    # range \n",
    "    lgbBO = BayesianOptimization(lgb_eval, {'num_leaves': (5, 15),\n",
    "                                            'learning_rate': (0.01, 1),\n",
    "                                        'feature_fraction': (0.1, 0.9),\n",
    "                                        'bagging_fraction': (0.8, 1),\n",
    "                                        'max_bin': (50, 200),\n",
    "                                        'bagging_freq' : (1, 10)},\n",
    "                                        random_state=42)                                    \n",
    "    # optimize\n",
    "    lgbBO.maximize(init_points=init_round, n_iter=opt_round,acq='ei')\n",
    "  \n",
    "    #return lgbBO.res['max']['max_params']\n",
    "    # return best parameters\n",
    "    \n",
    "    return max(lgbBO.res, key=lambda x:x['target'])['params']\n",
    "\n",
    "# lightgbm regression model with kfold cross-validation\n",
    "def model(features_train, features_test, best_params, target, n_folds=5, scaler=MinMaxScaler()):\n",
    "    \n",
    "    train_ids = features_train['name_1']\n",
    "    test_ids = features_test['name_1']\n",
    "    test_aq30_id = features_test['aq30_id']\n",
    "    targets = features_train[target]\n",
    "    features_train =features_train.drop([target, 'name_1', 'aq30_id'], axis=1)\n",
    "    features_test = features_test.drop([target, 'name_1', 'aq30_id'], axis=1)\n",
    "    #features_train, features_test = features_train.align(features_test, join='inner', axis=1)\n",
    "    print('training data shape:', features_train.shape)\n",
    "    print('testing data shape:', features_test.shape)\n",
    "    \n",
    "    feature_names = list(features_train.columns)\n",
    "    features_train = np.array(features_train)\n",
    "    features_test = np.array(features_test)\n",
    "    feature_importance_values = np.zeros(len(feature_names))\n",
    "    test_predictions = np.zeros(features_test.shape[0])\n",
    "    out_of_fold = np.zeros(features_train.shape[0])\n",
    "\n",
    "\n",
    "    #create kfold object to maintain same class distribution\n",
    "    kfold = KFold(n_splits = n_folds, shuffle=True, random_state=42)\n",
    "    #iterate through each fold\n",
    "    for train_indices, valid_indices in kfold.split(features_train, targets):\n",
    "        tr_features, tr_targets = features_train[train_indices], targets[train_indices]\n",
    "        val_features, val_targets = features_train[valid_indices], targets[valid_indices]\n",
    "\n",
    "        #scale the features\n",
    "        tr_features = scaler.fit_transform(tr_features)\n",
    "        val_featuress= scaler.transform(val_features)\n",
    "       \n",
    "        model = lgb.LGBMRegressor(n_estimators=5000, objective='regression',\n",
    "                                  bagging_seed=7,\n",
    "                                  feature_fraction_seed=7,\n",
    "                                  num_leaves=int(best_params['num_leaves']),\n",
    "                                  learning_rate=best_params['learning_rate'],\n",
    "                                  max_bin=int(best_params['max_bin']), \n",
    "                                  bagging_fraction=best_params['bagging_fraction'],\n",
    "                                  bagging_freq=int(best_params['bagging_freq']),\n",
    "                                  feature_fraction=best_params['feature_fraction'],\n",
    "                                  verbose=-1,\n",
    "                                  random_state=42)\n",
    "        #train the model\n",
    "        model.fit(tr_features, tr_targets, eval_metric='mae', \n",
    "                  eval_set=[(val_features, val_targets), (tr_features, tr_targets)],\n",
    "                  eval_names=['valid', 'train'],categorical_feature = 'auto', early_stopping_rounds=200, verbose=200)\n",
    "       #record the best iteration\n",
    "        best_iteration = model.best_iteration_\n",
    "        #record the feature importance\n",
    "        feature_importance_values += model.feature_importances_ / kfold.n_splits\n",
    "        #make predictions\n",
    "        test_predictions += model.predict(features_test, num_interation =best_iteration)/ kfold.n_splits\n",
    "        #record the out of fold predictions\n",
    "        out_of_fold[valid_indices] = model.predict(val_features, num_iteration=best_iteration)\n",
    "        \n",
    "        #clean up memory\n",
    "        gc.enable()\n",
    "        del model, tr_features, val_features\n",
    "        gc.collect()\n",
    "      \n",
    "    \n",
    "    \n",
    "    #make feature importance dataframe\n",
    "    feature_importances = pd.DataFrame({'feature': feature_names, 'importance': feature_importance_values})\n",
    "    missing_value_prediction = pd.DataFrame({'state': test_ids, 'aq30_id' : test_aq30_id,'prediction': test_predictions})\n",
    "    #overall validation score\n",
    "    valid_mae = mean_absolute_error(targets, out_of_fold)\n",
    "    #valid_rmse =mean_squared_error(targets, out_of_fold, squared=False)\n",
    "    print('overall validation score')\n",
    "    print(valid_mae)\n",
    "\n",
    "    return  missing_value_prediction, feature_importances\n",
    "\n",
    "#plot normalised feature importance\n",
    "def plot_feature_importances(df):\n",
    "    \"\"\"\n",
    "    Plot importances returned by a model. This can work with any measure of\n",
    "    feature importance provided that higher importance is better. \n",
    "    \n",
    "    Args:\n",
    "        df (dataframe): feature importances. Must have the features in a column\n",
    "        called `features` and the importances in a column called `importance\n",
    "        \n",
    "    Returns:\n",
    "        shows a plot of the 15 most importance features\n",
    "        \n",
    "        df (dataframe): feature importances sorted by importance (highest to lowest) \n",
    "        with a column for normalized importance\n",
    "        \"\"\"\n",
    "    # Sort features according to importance\n",
    "    df = df.sort_values('importance', ascending = False).reset_index()\n",
    "    \n",
    "    # Normalize the feature importances to add up to one\n",
    "    df['importance_normalized'] = df['importance'] / df['importance'].sum()\n",
    "\n",
    "    # Make a horizontal bar chart of feature importances\n",
    "    plt.figure(figsize = (14, 8))\n",
    "    ax = plt.subplot()\n",
    "    \n",
    "    # Need to reverse the index to plot most important on top\n",
    "    ax.barh(list(reversed(list(df.index[:20]))), \n",
    "            df['importance_normalized'].head(20), \n",
    "            align = 'center', edgecolor = 'k')\n",
    "    \n",
    "    # Set the yticks and labels\n",
    "    ax.set_yticks(list(reversed(list(df.index[:20]))))\n",
    "    ax.set_yticklabels(df['feature'].head(20))\n",
    "    \n",
    "    # Plot labeling\n",
    "    plt.xlabel('Normalized Importance'); plt.title('Feature Importances')\n",
    "    plt.show()\n",
    "    \n",
    "    return df"
   ]
  },
  {
   "cell_type": "code",
   "execution_count": 24,
   "metadata": {
    "executionInfo": {
     "elapsed": 275,
     "status": "ok",
     "timestamp": 1654352328641,
     "user": {
      "displayName": "Eva Rolland",
      "userId": "01449613398367393128"
     },
     "user_tz": -120
    },
    "id": "vvXRTdpBSlAJ"
   },
   "outputs": [],
   "source": [
    "def prediction(data, target, data_or_plot):\n",
    "  model_df, test_set = select_target(data, target)\n",
    "  opt_params = bayes_parameter_opt_lgb(water_score, picked.value, init_round=20, opt_round=25, n_folds=5, random_seed=42, n_estimators=5000)\n",
    "  missing_value_prediction, fi= model(model_df, test_set, opt_params, target)\n",
    "  # will give plot if apecified\n",
    "  if data_or_plot == \"plot\":\n",
    "    fi_sorted = plot_feature_importances(fi)\n",
    "\n",
    "    df_geo = missing_value_prediction.groupby('state').agg({'prediction':'mean'})\n",
    "    df_geo = df_geo.reset_index()\n",
    "    fig = go.Figure()\n",
    "    layout = dict(\n",
    "      title_text = f'{target} prediction',\n",
    "      geo_scope='usa')\n",
    "\n",
    "    fig.add_trace(\n",
    "      go.Choropleth(\n",
    "          locations=df_geo.state,\n",
    "          zmax=1,\n",
    "          z = df_geo.prediction,\n",
    "          locationmode = 'USA-states', # set of locations match entries in `locations`\n",
    "          #lon = df5['Longitude'],\n",
    "          #lat = df5['Latitude'],\n",
    "          marker_line_color='grey',\n",
    "          geo='geo',\n",
    "          colorscale=px.colors.sequential.Blues))           \n",
    "    fig.update_layout(layout)   \n",
    "    fig.show()\n",
    "  # predicted scores required to combine with other scores\n",
    "  if data_or_plot == \"data\":\n",
    "    return(missing_value_prediction)\n",
    "  #US_NA_prediction = missing_value_prediction['aq30_id','prediction']\n",
    "  # write code to target\n",
    "  #if data_or_not == 'gtd_score':\n",
    "  #  missing_value_prediction.to_csv('/content/drive/My Drive/gtd_NA_prediction.csv')\n",
    "  #if target == 'drr_score':\n",
    "  #  missing_value_prediction.to_csv('/content/drive/My Drive/drr_NA_prediction.csv')\n",
    " "
   ]
  },
  {
   "cell_type": "code",
   "execution_count": null,
   "metadata": {
    "colab": {
     "base_uri": "https://localhost:8080/",
     "height": 49,
     "referenced_widgets": [
      "69897c3d81494b8381fefb4c81023b19",
      "7f922869c25747079f29e1b91874169a",
      "6f4010fb287745258dc14780cdf4f94e"
     ]
    },
    "executionInfo": {
     "elapsed": 234,
     "status": "ok",
     "timestamp": 1654351641440,
     "user": {
      "displayName": "Eva Rolland",
      "userId": "01449613398367393128"
     },
     "user_tz": -120
    },
    "id": "Yunts5XiSnH2",
    "outputId": "53bbce8c-29a4-47de-aeb5-3e5f80da366d"
   },
   "outputs": [
    {
     "data": {
      "application/vnd.jupyter.widget-view+json": {
       "model_id": "69897c3d81494b8381fefb4c81023b19",
       "version_major": 2,
       "version_minor": 0
      },
      "text/plain": [
       "Dropdown(description='Water Risk Prediction:', options=(('Groundwater table decline', 'gtd_score'), ('Drought …"
      ]
     },
     "metadata": {},
     "output_type": "display_data"
    }
   ],
   "source": [
    "picked = widgets.Dropdown(\n",
    "  options=[('Groundwater table decline', 'gtd_score'), ('Drought risk', 'drr_score')],\n",
    "  value='gtd_score',\n",
    "  description='Water Risk Prediction:',\n",
    ")\n",
    "picked\n"
   ]
  },
  {
   "cell_type": "code",
   "execution_count": 25,
   "metadata": {
    "colab": {
     "base_uri": "https://localhost:8080/",
     "height": 1000
    },
    "executionInfo": {
     "elapsed": 39567,
     "status": "ok",
     "timestamp": 1654352372015,
     "user": {
      "displayName": "Eva Rolland",
      "userId": "01449613398367393128"
     },
     "user_tz": -120
    },
    "id": "MlCvF9zVSpeq",
    "outputId": "39076b7b-941f-45b4-80e9-15ed21080fec"
   },
   "outputs": [
    {
     "name": "stdout",
     "output_type": "stream",
     "text": [
      "|   iter    |  target   | baggin... | baggin... | featur... | learni... |  max_bin  | num_le... |\n",
      "-------------------------------------------------------------------------------------------------\n"
     ]
    },
    {
     "name": "stderr",
     "output_type": "stream",
     "text": [
      "/usr/local/lib/python3.7/dist-packages/lightgbm/engine.py:430: UserWarning:\n",
      "\n",
      "Found `num_iterations` in params. Will use it instead of argument\n",
      "\n",
      "/usr/local/lib/python3.7/dist-packages/lightgbm/engine.py:435: UserWarning:\n",
      "\n",
      "Found `early_stopping_round` in params. Will use it instead of argument\n",
      "\n"
     ]
    },
    {
     "name": "stdout",
     "output_type": "stream",
     "text": [
      "[200]\tcv_agg's rmse: 0.761112 + 0.174869\n",
      "| \u001b[0m 1       \u001b[0m | \u001b[0m-0.7185  \u001b[0m | \u001b[0m 0.8749  \u001b[0m | \u001b[0m 9.556   \u001b[0m | \u001b[0m 0.6856  \u001b[0m | \u001b[0m 0.6027  \u001b[0m | \u001b[0m 73.4    \u001b[0m | \u001b[0m 6.56    \u001b[0m |\n",
      "[200]\tcv_agg's rmse: 0.799407 + 0.185324\n",
      "| \u001b[0m 2       \u001b[0m | \u001b[0m-0.7625  \u001b[0m | \u001b[0m 0.8116  \u001b[0m | \u001b[0m 8.796   \u001b[0m | \u001b[0m 0.5809  \u001b[0m | \u001b[0m 0.711   \u001b[0m | \u001b[0m 53.09   \u001b[0m | \u001b[0m 14.7    \u001b[0m |\n",
      "[200]\tcv_agg's rmse: 0.729765 + 0.163184\n",
      "| \u001b[95m 3       \u001b[0m | \u001b[95m-0.7134  \u001b[0m | \u001b[95m 0.9665  \u001b[0m | \u001b[95m 2.911   \u001b[0m | \u001b[95m 0.2455  \u001b[0m | \u001b[95m 0.1916  \u001b[0m | \u001b[95m 95.64   \u001b[0m | \u001b[95m 10.25   \u001b[0m |\n",
      "[200]\tcv_agg's rmse: 0.717823 + 0.182651\n",
      "| \u001b[95m 4       \u001b[0m | \u001b[95m-0.6896  \u001b[0m | \u001b[95m 0.8864  \u001b[0m | \u001b[95m 3.621   \u001b[0m | \u001b[95m 0.5895  \u001b[0m | \u001b[95m 0.1481  \u001b[0m | \u001b[95m 93.82   \u001b[0m | \u001b[95m 8.664   \u001b[0m |\n",
      "[200]\tcv_agg's rmse: 0.741501 + 0.146674\n",
      "| \u001b[0m 5       \u001b[0m | \u001b[0m-0.7203  \u001b[0m | \u001b[0m 0.8912  \u001b[0m | \u001b[0m 8.067   \u001b[0m | \u001b[0m 0.2597  \u001b[0m | \u001b[0m 0.5191  \u001b[0m | \u001b[0m 138.9   \u001b[0m | \u001b[0m 5.465   \u001b[0m |\n",
      "[200]\tcv_agg's rmse: 0.804161 + 0.148454\n",
      "| \u001b[0m 6       \u001b[0m | \u001b[0m-0.7548  \u001b[0m | \u001b[0m 0.9215  \u001b[0m | \u001b[0m 2.535   \u001b[0m | \u001b[0m 0.152   \u001b[0m | \u001b[0m 0.9494  \u001b[0m | \u001b[0m 194.8   \u001b[0m | \u001b[0m 13.08   \u001b[0m |\n",
      "[200]\tcv_agg's rmse: 0.744177 + 0.172154\n",
      "| \u001b[0m 7       \u001b[0m | \u001b[0m-0.7258  \u001b[0m | \u001b[0m 0.8609  \u001b[0m | \u001b[0m 1.879   \u001b[0m | \u001b[0m 0.6474  \u001b[0m | \u001b[0m 0.4458  \u001b[0m | \u001b[0m 68.31   \u001b[0m | \u001b[0m 9.952   \u001b[0m |\n",
      "[200]\tcv_agg's rmse: 0.794781 + 0.163168\n",
      "| \u001b[0m 8       \u001b[0m | \u001b[0m-0.7418  \u001b[0m | \u001b[0m 0.8069  \u001b[0m | \u001b[0m 9.184   \u001b[0m | \u001b[0m 0.307   \u001b[0m | \u001b[0m 0.6659  \u001b[0m | \u001b[0m 96.76   \u001b[0m | \u001b[0m 10.2    \u001b[0m |\n",
      "[200]\tcv_agg's rmse: 0.799334 + 0.164661\n",
      "| \u001b[0m 9       \u001b[0m | \u001b[0m-0.72    \u001b[0m | \u001b[0m 0.9093  \u001b[0m | \u001b[0m 2.664   \u001b[0m | \u001b[0m 0.8757  \u001b[0m | \u001b[0m 0.7774  \u001b[0m | \u001b[0m 190.9   \u001b[0m | \u001b[0m 13.95   \u001b[0m |\n",
      "[200]\tcv_agg's rmse: 0.722376 + 0.166617\n",
      "| \u001b[0m 10      \u001b[0m | \u001b[0m-0.7115  \u001b[0m | \u001b[0m 0.9196  \u001b[0m | \u001b[0m 9.297   \u001b[0m | \u001b[0m 0.1708  \u001b[0m | \u001b[0m 0.204   \u001b[0m | \u001b[0m 56.78   \u001b[0m | \u001b[0m 8.253   \u001b[0m |\n",
      "[200]\tcv_agg's rmse: 0.729693 + 0.184115\n",
      "| \u001b[95m 11      \u001b[0m | \u001b[95m-0.6884  \u001b[0m | \u001b[95m 0.8777  \u001b[0m | \u001b[95m 3.442   \u001b[0m | \u001b[95m 0.763   \u001b[0m | \u001b[95m 0.3632  \u001b[0m | \u001b[95m 92.14   \u001b[0m | \u001b[95m 10.43   \u001b[0m |\n",
      "[200]\tcv_agg's rmse: 0.794494 + 0.131432\n",
      "| \u001b[0m 12      \u001b[0m | \u001b[0m-0.7513  \u001b[0m | \u001b[0m 0.8282  \u001b[0m | \u001b[0m 8.22    \u001b[0m | \u001b[0m 0.1596  \u001b[0m | \u001b[0m 0.987   \u001b[0m | \u001b[0m 165.8   \u001b[0m | \u001b[0m 6.987   \u001b[0m |\n",
      "[200]\tcv_agg's rmse: 0.752156 + 0.174833\n",
      "| \u001b[0m 13      \u001b[0m | \u001b[0m-0.7253  \u001b[0m | \u001b[0m 0.8011  \u001b[0m | \u001b[0m 8.339   \u001b[0m | \u001b[0m 0.6655  \u001b[0m | \u001b[0m 0.7317  \u001b[0m | \u001b[0m 165.7   \u001b[0m | \u001b[0m 5.74    \u001b[0m |\n",
      "[200]\tcv_agg's rmse: 0.750687 + 0.151352\n",
      "| \u001b[0m 14      \u001b[0m | \u001b[0m-0.717   \u001b[0m | \u001b[0m 0.8717  \u001b[0m | \u001b[0m 2.043   \u001b[0m | \u001b[0m 0.7905  \u001b[0m | \u001b[0m 0.6271  \u001b[0m | \u001b[0m 99.63   \u001b[0m | \u001b[0m 5.636   \u001b[0m |\n",
      "[200]\tcv_agg's rmse: 0.781578 + 0.16993\n",
      "| \u001b[0m 15      \u001b[0m | \u001b[0m-0.737   \u001b[0m | \u001b[0m 0.8622  \u001b[0m | \u001b[0m 3.927   \u001b[0m | \u001b[0m 0.6837  \u001b[0m | \u001b[0m 0.6412  \u001b[0m | \u001b[0m 183.1   \u001b[0m | \u001b[0m 9.722   \u001b[0m |\n",
      "[200]\tcv_agg's rmse: 0.793185 + 0.204943\n",
      "| \u001b[0m 16      \u001b[0m | \u001b[0m-0.7407  \u001b[0m | \u001b[0m 0.8239  \u001b[0m | \u001b[0m 7.419   \u001b[0m | \u001b[0m 0.7086  \u001b[0m | \u001b[0m 0.5657  \u001b[0m | \u001b[0m 165.6   \u001b[0m | \u001b[0m 9.938   \u001b[0m |\n",
      "[200]\tcv_agg's rmse: 0.724142 + 0.160759\n",
      "| \u001b[0m 17      \u001b[0m | \u001b[0m-0.7193  \u001b[0m | \u001b[0m 0.9045  \u001b[0m | \u001b[0m 4.848   \u001b[0m | \u001b[0m 0.1203  \u001b[0m | \u001b[0m 0.1168  \u001b[0m | \u001b[0m 54.71   \u001b[0m | \u001b[0m 11.36   \u001b[0m |\n",
      "[200]\tcv_agg's rmse: 0.720246 + 0.183074\n",
      "| \u001b[0m 18      \u001b[0m | \u001b[0m-0.6962  \u001b[0m | \u001b[0m 0.8629  \u001b[0m | \u001b[0m 5.577   \u001b[0m | \u001b[0m 0.8261  \u001b[0m | \u001b[0m 0.2568  \u001b[0m | \u001b[0m 111.6   \u001b[0m | \u001b[0m 12.56   \u001b[0m |\n",
      "[200]\tcv_agg's rmse: 0.719182 + 0.15833\n",
      "| \u001b[0m 19      \u001b[0m | \u001b[0m-0.6969  \u001b[0m | \u001b[0m 0.8458  \u001b[0m | \u001b[0m 1.693   \u001b[0m | \u001b[0m 0.3318  \u001b[0m | \u001b[0m 0.1696  \u001b[0m | \u001b[0m 189.5   \u001b[0m | \u001b[0m 13.08   \u001b[0m |\n",
      "[200]\tcv_agg's rmse: 0.693696 + 0.179637\n",
      "| \u001b[95m 20      \u001b[0m | \u001b[95m-0.6838  \u001b[0m | \u001b[95m 0.9267  \u001b[0m | \u001b[95m 8.843   \u001b[0m | \u001b[95m 0.7429  \u001b[0m | \u001b[95m 0.1947  \u001b[0m | \u001b[95m 183.9   \u001b[0m | \u001b[95m 10.39   \u001b[0m |\n"
     ]
    },
    {
     "name": "stderr",
     "output_type": "stream",
     "text": [
      "/usr/local/lib/python3.7/dist-packages/lightgbm/engine.py:430: UserWarning:\n",
      "\n",
      "Found `num_iterations` in params. Will use it instead of argument\n",
      "\n",
      "/usr/local/lib/python3.7/dist-packages/lightgbm/engine.py:435: UserWarning:\n",
      "\n",
      "Found `early_stopping_round` in params. Will use it instead of argument\n",
      "\n"
     ]
    },
    {
     "name": "stdout",
     "output_type": "stream",
     "text": [
      "[200]\tcv_agg's rmse: 0.710343 + 0.179876\n",
      "| \u001b[0m 21      \u001b[0m | \u001b[0m-0.6926  \u001b[0m | \u001b[0m 0.8722  \u001b[0m | \u001b[0m 3.414   \u001b[0m | \u001b[0m 0.758   \u001b[0m | \u001b[0m 0.2371  \u001b[0m | \u001b[0m 92.49   \u001b[0m | \u001b[0m 9.122   \u001b[0m |\n"
     ]
    },
    {
     "name": "stderr",
     "output_type": "stream",
     "text": [
      "/usr/local/lib/python3.7/dist-packages/lightgbm/engine.py:430: UserWarning:\n",
      "\n",
      "Found `num_iterations` in params. Will use it instead of argument\n",
      "\n",
      "/usr/local/lib/python3.7/dist-packages/lightgbm/engine.py:435: UserWarning:\n",
      "\n",
      "Found `early_stopping_round` in params. Will use it instead of argument\n",
      "\n"
     ]
    },
    {
     "name": "stdout",
     "output_type": "stream",
     "text": [
      "[200]\tcv_agg's rmse: 0.717267 + 0.164742\n",
      "| \u001b[0m 22      \u001b[0m | \u001b[0m-0.6906  \u001b[0m | \u001b[0m 0.8668  \u001b[0m | \u001b[0m 9.38    \u001b[0m | \u001b[0m 0.4865  \u001b[0m | \u001b[0m 0.223   \u001b[0m | \u001b[0m 184.6   \u001b[0m | \u001b[0m 10.72   \u001b[0m |\n"
     ]
    },
    {
     "name": "stderr",
     "output_type": "stream",
     "text": [
      "/usr/local/lib/python3.7/dist-packages/lightgbm/engine.py:430: UserWarning:\n",
      "\n",
      "Found `num_iterations` in params. Will use it instead of argument\n",
      "\n",
      "/usr/local/lib/python3.7/dist-packages/lightgbm/engine.py:435: UserWarning:\n",
      "\n",
      "Found `early_stopping_round` in params. Will use it instead of argument\n",
      "\n"
     ]
    },
    {
     "name": "stdout",
     "output_type": "stream",
     "text": [
      "[200]\tcv_agg's rmse: 0.720138 + 0.172833\n",
      "[400]\tcv_agg's rmse: 0.691703 + 0.17853\n",
      "[600]\tcv_agg's rmse: 0.68427 + 0.180425\n",
      "[800]\tcv_agg's rmse: 0.683509 + 0.180152\n",
      "| \u001b[95m 23      \u001b[0m | \u001b[95m-0.6818  \u001b[0m | \u001b[95m 1.0     \u001b[0m | \u001b[95m 9.609   \u001b[0m | \u001b[95m 0.9     \u001b[0m | \u001b[95m 0.01    \u001b[0m | \u001b[95m 183.0   \u001b[0m | \u001b[95m 10.07   \u001b[0m |\n"
     ]
    },
    {
     "name": "stderr",
     "output_type": "stream",
     "text": [
      "/usr/local/lib/python3.7/dist-packages/lightgbm/engine.py:430: UserWarning:\n",
      "\n",
      "Found `num_iterations` in params. Will use it instead of argument\n",
      "\n",
      "/usr/local/lib/python3.7/dist-packages/lightgbm/engine.py:435: UserWarning:\n",
      "\n",
      "Found `early_stopping_round` in params. Will use it instead of argument\n",
      "\n"
     ]
    },
    {
     "name": "stdout",
     "output_type": "stream",
     "text": [
      "[200]\tcv_agg's rmse: 0.701275 + 0.188058\n",
      "| \u001b[95m 24      \u001b[0m | \u001b[95m-0.6663  \u001b[0m | \u001b[95m 1.0     \u001b[0m | \u001b[95m 9.32    \u001b[0m | \u001b[95m 0.9     \u001b[0m | \u001b[95m 0.2764  \u001b[0m | \u001b[95m 183.6   \u001b[0m | \u001b[95m 8.928   \u001b[0m |\n"
     ]
    },
    {
     "name": "stderr",
     "output_type": "stream",
     "text": [
      "/usr/local/lib/python3.7/dist-packages/lightgbm/engine.py:430: UserWarning:\n",
      "\n",
      "Found `num_iterations` in params. Will use it instead of argument\n",
      "\n",
      "/usr/local/lib/python3.7/dist-packages/lightgbm/engine.py:435: UserWarning:\n",
      "\n",
      "Found `early_stopping_round` in params. Will use it instead of argument\n",
      "\n"
     ]
    },
    {
     "name": "stdout",
     "output_type": "stream",
     "text": [
      "[200]\tcv_agg's rmse: 0.735623 + 0.169444\n",
      "[400]\tcv_agg's rmse: 0.698005 + 0.179508\n",
      "[600]\tcv_agg's rmse: 0.691341 + 0.18011\n",
      "[800]\tcv_agg's rmse: 0.687949 + 0.18163\n",
      "| \u001b[0m 25      \u001b[0m | \u001b[0m-0.6878  \u001b[0m | \u001b[0m 1.0     \u001b[0m | \u001b[0m 9.48    \u001b[0m | \u001b[0m 0.9     \u001b[0m | \u001b[0m 0.01    \u001b[0m | \u001b[0m 183.9   \u001b[0m | \u001b[0m 7.806   \u001b[0m |\n"
     ]
    },
    {
     "name": "stderr",
     "output_type": "stream",
     "text": [
      "/usr/local/lib/python3.7/dist-packages/lightgbm/engine.py:430: UserWarning:\n",
      "\n",
      "Found `num_iterations` in params. Will use it instead of argument\n",
      "\n",
      "/usr/local/lib/python3.7/dist-packages/lightgbm/engine.py:435: UserWarning:\n",
      "\n",
      "Found `early_stopping_round` in params. Will use it instead of argument\n",
      "\n"
     ]
    },
    {
     "name": "stdout",
     "output_type": "stream",
     "text": [
      "[200]\tcv_agg's rmse: 0.789226 + 0.175559\n",
      "| \u001b[0m 26      \u001b[0m | \u001b[0m-0.7226  \u001b[0m | \u001b[0m 0.966   \u001b[0m | \u001b[0m 8.865   \u001b[0m | \u001b[0m 0.6393  \u001b[0m | \u001b[0m 0.9036  \u001b[0m | \u001b[0m 183.6   \u001b[0m | \u001b[0m 8.498   \u001b[0m |\n"
     ]
    },
    {
     "name": "stderr",
     "output_type": "stream",
     "text": [
      "/usr/local/lib/python3.7/dist-packages/lightgbm/engine.py:430: UserWarning:\n",
      "\n",
      "Found `num_iterations` in params. Will use it instead of argument\n",
      "\n",
      "/usr/local/lib/python3.7/dist-packages/lightgbm/engine.py:435: UserWarning:\n",
      "\n",
      "Found `early_stopping_round` in params. Will use it instead of argument\n",
      "\n"
     ]
    },
    {
     "name": "stdout",
     "output_type": "stream",
     "text": [
      "[200]\tcv_agg's rmse: 0.695475 + 0.171115\n",
      "| \u001b[0m 27      \u001b[0m | \u001b[0m-0.6889  \u001b[0m | \u001b[0m 0.9857  \u001b[0m | \u001b[0m 9.369   \u001b[0m | \u001b[0m 0.3358  \u001b[0m | \u001b[0m 0.15    \u001b[0m | \u001b[0m 184.3   \u001b[0m | \u001b[0m 9.355   \u001b[0m |\n"
     ]
    },
    {
     "name": "stderr",
     "output_type": "stream",
     "text": [
      "/usr/local/lib/python3.7/dist-packages/lightgbm/engine.py:430: UserWarning:\n",
      "\n",
      "Found `num_iterations` in params. Will use it instead of argument\n",
      "\n",
      "/usr/local/lib/python3.7/dist-packages/lightgbm/engine.py:435: UserWarning:\n",
      "\n",
      "Found `early_stopping_round` in params. Will use it instead of argument\n",
      "\n"
     ]
    },
    {
     "name": "stdout",
     "output_type": "stream",
     "text": [
      "[200]\tcv_agg's rmse: 0.724256 + 0.172572\n",
      "| \u001b[0m 28      \u001b[0m | \u001b[0m-0.7057  \u001b[0m | \u001b[0m 0.8517  \u001b[0m | \u001b[0m 9.543   \u001b[0m | \u001b[0m 0.6909  \u001b[0m | \u001b[0m 0.3769  \u001b[0m | \u001b[0m 183.4   \u001b[0m | \u001b[0m 8.822   \u001b[0m |\n"
     ]
    },
    {
     "name": "stderr",
     "output_type": "stream",
     "text": [
      "/usr/local/lib/python3.7/dist-packages/lightgbm/engine.py:430: UserWarning:\n",
      "\n",
      "Found `num_iterations` in params. Will use it instead of argument\n",
      "\n",
      "/usr/local/lib/python3.7/dist-packages/lightgbm/engine.py:435: UserWarning:\n",
      "\n",
      "Found `early_stopping_round` in params. Will use it instead of argument\n",
      "\n"
     ]
    },
    {
     "name": "stdout",
     "output_type": "stream",
     "text": [
      "[200]\tcv_agg's rmse: 0.759537 + 0.13702\n",
      "| \u001b[0m 29      \u001b[0m | \u001b[0m-0.7069  \u001b[0m | \u001b[0m 0.915   \u001b[0m | \u001b[0m 9.535   \u001b[0m | \u001b[0m 0.8998  \u001b[0m | \u001b[0m 0.8522  \u001b[0m | \u001b[0m 184.3   \u001b[0m | \u001b[0m 9.564   \u001b[0m |\n"
     ]
    },
    {
     "name": "stderr",
     "output_type": "stream",
     "text": [
      "/usr/local/lib/python3.7/dist-packages/lightgbm/engine.py:430: UserWarning:\n",
      "\n",
      "Found `num_iterations` in params. Will use it instead of argument\n",
      "\n",
      "/usr/local/lib/python3.7/dist-packages/lightgbm/engine.py:435: UserWarning:\n",
      "\n",
      "Found `early_stopping_round` in params. Will use it instead of argument\n",
      "\n"
     ]
    },
    {
     "name": "stdout",
     "output_type": "stream",
     "text": [
      "[200]\tcv_agg's rmse: 0.807599 + 0.16638\n",
      "| \u001b[0m 30      \u001b[0m | \u001b[0m-0.7372  \u001b[0m | \u001b[0m 0.9751  \u001b[0m | \u001b[0m 4.011   \u001b[0m | \u001b[0m 0.3688  \u001b[0m | \u001b[0m 0.9414  \u001b[0m | \u001b[0m 132.1   \u001b[0m | \u001b[0m 7.241   \u001b[0m |\n"
     ]
    },
    {
     "name": "stderr",
     "output_type": "stream",
     "text": [
      "/usr/local/lib/python3.7/dist-packages/lightgbm/engine.py:430: UserWarning:\n",
      "\n",
      "Found `num_iterations` in params. Will use it instead of argument\n",
      "\n",
      "/usr/local/lib/python3.7/dist-packages/lightgbm/engine.py:435: UserWarning:\n",
      "\n",
      "Found `early_stopping_round` in params. Will use it instead of argument\n",
      "\n"
     ]
    },
    {
     "name": "stdout",
     "output_type": "stream",
     "text": [
      "[200]\tcv_agg's rmse: 0.720295 + 0.17496\n",
      "| \u001b[0m 31      \u001b[0m | \u001b[0m-0.7034  \u001b[0m | \u001b[0m 0.902   \u001b[0m | \u001b[0m 9.844   \u001b[0m | \u001b[0m 0.6547  \u001b[0m | \u001b[0m 0.3177  \u001b[0m | \u001b[0m 183.7   \u001b[0m | \u001b[0m 10.07   \u001b[0m |\n"
     ]
    },
    {
     "name": "stderr",
     "output_type": "stream",
     "text": [
      "/usr/local/lib/python3.7/dist-packages/lightgbm/engine.py:430: UserWarning:\n",
      "\n",
      "Found `num_iterations` in params. Will use it instead of argument\n",
      "\n",
      "/usr/local/lib/python3.7/dist-packages/lightgbm/engine.py:435: UserWarning:\n",
      "\n",
      "Found `early_stopping_round` in params. Will use it instead of argument\n",
      "\n"
     ]
    },
    {
     "name": "stdout",
     "output_type": "stream",
     "text": [
      "[200]\tcv_agg's rmse: 0.710704 + 0.177608\n",
      "| \u001b[0m 32      \u001b[0m | \u001b[0m-0.6869  \u001b[0m | \u001b[0m 0.8525  \u001b[0m | \u001b[0m 9.772   \u001b[0m | \u001b[0m 0.576   \u001b[0m | \u001b[0m 0.2243  \u001b[0m | \u001b[0m 184.4   \u001b[0m | \u001b[0m 8.473   \u001b[0m |\n"
     ]
    },
    {
     "name": "stderr",
     "output_type": "stream",
     "text": [
      "/usr/local/lib/python3.7/dist-packages/lightgbm/engine.py:430: UserWarning:\n",
      "\n",
      "Found `num_iterations` in params. Will use it instead of argument\n",
      "\n",
      "/usr/local/lib/python3.7/dist-packages/lightgbm/engine.py:435: UserWarning:\n",
      "\n",
      "Found `early_stopping_round` in params. Will use it instead of argument\n",
      "\n"
     ]
    },
    {
     "name": "stdout",
     "output_type": "stream",
     "text": [
      "[200]\tcv_agg's rmse: 0.722731 + 0.176583\n",
      "| \u001b[0m 33      \u001b[0m | \u001b[0m-0.6855  \u001b[0m | \u001b[0m 0.9293  \u001b[0m | \u001b[0m 8.576   \u001b[0m | \u001b[0m 0.4745  \u001b[0m | \u001b[0m 0.3676  \u001b[0m | \u001b[0m 183.8   \u001b[0m | \u001b[0m 9.544   \u001b[0m |\n"
     ]
    },
    {
     "name": "stderr",
     "output_type": "stream",
     "text": [
      "/usr/local/lib/python3.7/dist-packages/lightgbm/engine.py:430: UserWarning:\n",
      "\n",
      "Found `num_iterations` in params. Will use it instead of argument\n",
      "\n",
      "/usr/local/lib/python3.7/dist-packages/lightgbm/engine.py:435: UserWarning:\n",
      "\n",
      "Found `early_stopping_round` in params. Will use it instead of argument\n",
      "\n"
     ]
    },
    {
     "name": "stdout",
     "output_type": "stream",
     "text": [
      "[200]\tcv_agg's rmse: 0.739913 + 0.187885\n",
      "| \u001b[0m 34      \u001b[0m | \u001b[0m-0.6979  \u001b[0m | \u001b[0m 0.9148  \u001b[0m | \u001b[0m 8.609   \u001b[0m | \u001b[0m 0.7737  \u001b[0m | \u001b[0m 0.3414  \u001b[0m | \u001b[0m 184.3   \u001b[0m | \u001b[0m 9.927   \u001b[0m |\n"
     ]
    },
    {
     "name": "stderr",
     "output_type": "stream",
     "text": [
      "/usr/local/lib/python3.7/dist-packages/lightgbm/engine.py:430: UserWarning:\n",
      "\n",
      "Found `num_iterations` in params. Will use it instead of argument\n",
      "\n",
      "/usr/local/lib/python3.7/dist-packages/lightgbm/engine.py:435: UserWarning:\n",
      "\n",
      "Found `early_stopping_round` in params. Will use it instead of argument\n",
      "\n"
     ]
    },
    {
     "name": "stdout",
     "output_type": "stream",
     "text": [
      "[200]\tcv_agg's rmse: 0.684986 + 0.184798\n",
      "| \u001b[0m 35      \u001b[0m | \u001b[0m-0.6812  \u001b[0m | \u001b[0m 0.8966  \u001b[0m | \u001b[0m 3.05    \u001b[0m | \u001b[0m 0.6271  \u001b[0m | \u001b[0m 0.08545 \u001b[0m | \u001b[0m 92.55   \u001b[0m | \u001b[0m 10.15   \u001b[0m |\n"
     ]
    },
    {
     "name": "stderr",
     "output_type": "stream",
     "text": [
      "/usr/local/lib/python3.7/dist-packages/lightgbm/engine.py:430: UserWarning:\n",
      "\n",
      "Found `num_iterations` in params. Will use it instead of argument\n",
      "\n",
      "/usr/local/lib/python3.7/dist-packages/lightgbm/engine.py:435: UserWarning:\n",
      "\n",
      "Found `early_stopping_round` in params. Will use it instead of argument\n",
      "\n"
     ]
    },
    {
     "name": "stdout",
     "output_type": "stream",
     "text": [
      "[200]\tcv_agg's rmse: 0.733789 + 0.185734\n",
      "| \u001b[0m 36      \u001b[0m | \u001b[0m-0.6897  \u001b[0m | \u001b[0m 0.9923  \u001b[0m | \u001b[0m 9.018   \u001b[0m | \u001b[0m 0.855   \u001b[0m | \u001b[0m 0.3406  \u001b[0m | \u001b[0m 183.2   \u001b[0m | \u001b[0m 9.478   \u001b[0m |\n"
     ]
    },
    {
     "name": "stderr",
     "output_type": "stream",
     "text": [
      "/usr/local/lib/python3.7/dist-packages/lightgbm/engine.py:430: UserWarning:\n",
      "\n",
      "Found `num_iterations` in params. Will use it instead of argument\n",
      "\n",
      "/usr/local/lib/python3.7/dist-packages/lightgbm/engine.py:435: UserWarning:\n",
      "\n",
      "Found `early_stopping_round` in params. Will use it instead of argument\n",
      "\n"
     ]
    },
    {
     "name": "stdout",
     "output_type": "stream",
     "text": [
      "[200]\tcv_agg's rmse: 0.687822 + 0.178123\n",
      "| \u001b[0m 37      \u001b[0m | \u001b[0m-0.682   \u001b[0m | \u001b[0m 0.997   \u001b[0m | \u001b[0m 8.981   \u001b[0m | \u001b[0m 0.8016  \u001b[0m | \u001b[0m 0.091   \u001b[0m | \u001b[0m 184.8   \u001b[0m | \u001b[0m 8.76    \u001b[0m |\n"
     ]
    },
    {
     "name": "stderr",
     "output_type": "stream",
     "text": [
      "/usr/local/lib/python3.7/dist-packages/lightgbm/engine.py:430: UserWarning:\n",
      "\n",
      "Found `num_iterations` in params. Will use it instead of argument\n",
      "\n",
      "/usr/local/lib/python3.7/dist-packages/lightgbm/engine.py:435: UserWarning:\n",
      "\n",
      "Found `early_stopping_round` in params. Will use it instead of argument\n",
      "\n"
     ]
    },
    {
     "name": "stdout",
     "output_type": "stream",
     "text": [
      "[200]\tcv_agg's rmse: 0.680822 + 0.185687\n",
      "[400]\tcv_agg's rmse: 0.682064 + 0.181068\n",
      "| \u001b[0m 38      \u001b[0m | \u001b[0m-0.6792  \u001b[0m | \u001b[0m 0.8664  \u001b[0m | \u001b[0m 8.674   \u001b[0m | \u001b[0m 0.7892  \u001b[0m | \u001b[0m 0.05515 \u001b[0m | \u001b[0m 183.9   \u001b[0m | \u001b[0m 8.134   \u001b[0m |\n"
     ]
    },
    {
     "name": "stderr",
     "output_type": "stream",
     "text": [
      "/usr/local/lib/python3.7/dist-packages/lightgbm/engine.py:430: UserWarning:\n",
      "\n",
      "Found `num_iterations` in params. Will use it instead of argument\n",
      "\n",
      "/usr/local/lib/python3.7/dist-packages/lightgbm/engine.py:435: UserWarning:\n",
      "\n",
      "Found `early_stopping_round` in params. Will use it instead of argument\n",
      "\n"
     ]
    },
    {
     "name": "stdout",
     "output_type": "stream",
     "text": [
      "[200]\tcv_agg's rmse: 0.682506 + 0.173124\n",
      "[400]\tcv_agg's rmse: 0.684957 + 0.170887\n",
      "| \u001b[0m 39      \u001b[0m | \u001b[0m-0.6804  \u001b[0m | \u001b[0m 0.9308  \u001b[0m | \u001b[0m 2.884   \u001b[0m | \u001b[0m 0.3241  \u001b[0m | \u001b[0m 0.04166 \u001b[0m | \u001b[0m 93.47   \u001b[0m | \u001b[0m 9.411   \u001b[0m |\n"
     ]
    },
    {
     "name": "stderr",
     "output_type": "stream",
     "text": [
      "/usr/local/lib/python3.7/dist-packages/lightgbm/engine.py:430: UserWarning:\n",
      "\n",
      "Found `num_iterations` in params. Will use it instead of argument\n",
      "\n",
      "/usr/local/lib/python3.7/dist-packages/lightgbm/engine.py:435: UserWarning:\n",
      "\n",
      "Found `early_stopping_round` in params. Will use it instead of argument\n",
      "\n"
     ]
    },
    {
     "name": "stdout",
     "output_type": "stream",
     "text": [
      "[200]\tcv_agg's rmse: 0.731232 + 0.171342\n",
      "[400]\tcv_agg's rmse: 0.697231 + 0.17905\n",
      "[600]\tcv_agg's rmse: 0.687991 + 0.181687\n",
      "[800]\tcv_agg's rmse: 0.687715 + 0.180102\n",
      "| \u001b[0m 40      \u001b[0m | \u001b[0m-0.6865  \u001b[0m | \u001b[0m 1.0     \u001b[0m | \u001b[0m 9.141   \u001b[0m | \u001b[0m 0.9     \u001b[0m | \u001b[0m 0.01    \u001b[0m | \u001b[0m 183.9   \u001b[0m | \u001b[0m 8.93    \u001b[0m |\n"
     ]
    },
    {
     "name": "stderr",
     "output_type": "stream",
     "text": [
      "/usr/local/lib/python3.7/dist-packages/lightgbm/engine.py:430: UserWarning:\n",
      "\n",
      "Found `num_iterations` in params. Will use it instead of argument\n",
      "\n",
      "/usr/local/lib/python3.7/dist-packages/lightgbm/engine.py:435: UserWarning:\n",
      "\n",
      "Found `early_stopping_round` in params. Will use it instead of argument\n",
      "\n"
     ]
    },
    {
     "name": "stdout",
     "output_type": "stream",
     "text": [
      "[200]\tcv_agg's rmse: 0.726662 + 0.164076\n",
      "| \u001b[0m 41      \u001b[0m | \u001b[0m-0.7176  \u001b[0m | \u001b[0m 0.8556  \u001b[0m | \u001b[0m 9.273   \u001b[0m | \u001b[0m 0.1881  \u001b[0m | \u001b[0m 0.2021  \u001b[0m | \u001b[0m 184.2   \u001b[0m | \u001b[0m 9.122   \u001b[0m |\n"
     ]
    },
    {
     "name": "stderr",
     "output_type": "stream",
     "text": [
      "/usr/local/lib/python3.7/dist-packages/lightgbm/engine.py:430: UserWarning:\n",
      "\n",
      "Found `num_iterations` in params. Will use it instead of argument\n",
      "\n",
      "/usr/local/lib/python3.7/dist-packages/lightgbm/engine.py:435: UserWarning:\n",
      "\n",
      "Found `early_stopping_round` in params. Will use it instead of argument\n",
      "\n"
     ]
    },
    {
     "name": "stdout",
     "output_type": "stream",
     "text": [
      "[200]\tcv_agg's rmse: 0.72868 + 0.162676\n",
      "| \u001b[0m 42      \u001b[0m | \u001b[0m-0.7128  \u001b[0m | \u001b[0m 0.9938  \u001b[0m | \u001b[0m 9.607   \u001b[0m | \u001b[0m 0.1986  \u001b[0m | \u001b[0m 0.2081  \u001b[0m | \u001b[0m 184.4   \u001b[0m | \u001b[0m 9.779   \u001b[0m |\n"
     ]
    },
    {
     "name": "stderr",
     "output_type": "stream",
     "text": [
      "/usr/local/lib/python3.7/dist-packages/lightgbm/engine.py:430: UserWarning:\n",
      "\n",
      "Found `num_iterations` in params. Will use it instead of argument\n",
      "\n",
      "/usr/local/lib/python3.7/dist-packages/lightgbm/engine.py:435: UserWarning:\n",
      "\n",
      "Found `early_stopping_round` in params. Will use it instead of argument\n",
      "\n"
     ]
    },
    {
     "name": "stdout",
     "output_type": "stream",
     "text": [
      "[200]\tcv_agg's rmse: 0.73767 + 0.14261\n",
      "[400]\tcv_agg's rmse: 0.700348 + 0.159876\n",
      "[600]\tcv_agg's rmse: 0.690967 + 0.167487\n",
      "[800]\tcv_agg's rmse: 0.689536 + 0.169059\n",
      "| \u001b[0m 43      \u001b[0m | \u001b[0m-0.6885  \u001b[0m | \u001b[0m 0.8197  \u001b[0m | \u001b[0m 3.226   \u001b[0m | \u001b[0m 0.289   \u001b[0m | \u001b[0m 0.01207 \u001b[0m | \u001b[0m 93.26   \u001b[0m | \u001b[0m 9.927   \u001b[0m |\n"
     ]
    },
    {
     "name": "stderr",
     "output_type": "stream",
     "text": [
      "/usr/local/lib/python3.7/dist-packages/lightgbm/engine.py:430: UserWarning:\n",
      "\n",
      "Found `num_iterations` in params. Will use it instead of argument\n",
      "\n",
      "/usr/local/lib/python3.7/dist-packages/lightgbm/engine.py:435: UserWarning:\n",
      "\n",
      "Found `early_stopping_round` in params. Will use it instead of argument\n",
      "\n"
     ]
    },
    {
     "name": "stdout",
     "output_type": "stream",
     "text": [
      "[200]\tcv_agg's rmse: 0.903345 + 0.183213\n",
      "| \u001b[0m 44      \u001b[0m | \u001b[0m-0.7723  \u001b[0m | \u001b[0m 0.8131  \u001b[0m | \u001b[0m 3.863   \u001b[0m | \u001b[0m 0.4464  \u001b[0m | \u001b[0m 0.9987  \u001b[0m | \u001b[0m 59.65   \u001b[0m | \u001b[0m 11.96   \u001b[0m |\n"
     ]
    },
    {
     "name": "stderr",
     "output_type": "stream",
     "text": [
      "/usr/local/lib/python3.7/dist-packages/lightgbm/engine.py:430: UserWarning:\n",
      "\n",
      "Found `num_iterations` in params. Will use it instead of argument\n",
      "\n",
      "/usr/local/lib/python3.7/dist-packages/lightgbm/engine.py:435: UserWarning:\n",
      "\n",
      "Found `early_stopping_round` in params. Will use it instead of argument\n",
      "\n"
     ]
    },
    {
     "name": "stdout",
     "output_type": "stream",
     "text": [
      "[200]\tcv_agg's rmse: 0.7716 + 0.145529\n",
      "| \u001b[0m 45      \u001b[0m | \u001b[0m-0.7364  \u001b[0m | \u001b[0m 0.9068  \u001b[0m | \u001b[0m 5.256   \u001b[0m | \u001b[0m 0.1168  \u001b[0m | \u001b[0m 0.5827  \u001b[0m | \u001b[0m 144.4   \u001b[0m | \u001b[0m 11.32   \u001b[0m |\n",
      "=================================================================================================\n",
      "training data shape: (1080, 7)\n",
      "testing data shape: (2237, 7)\n",
      "Training until validation scores don't improve for 200 rounds.\n",
      "[200]\ttrain's l1: 0.226989\ttrain's l2: 0.148616\tvalid's l1: 1.00874\tvalid's l2: 1.37751\n",
      "Early stopping, best iteration is:\n",
      "[1]\ttrain's l1: 0.561655\ttrain's l2: 0.608707\tvalid's l1: 0.667029\tvalid's l2: 0.827827\n",
      "Training until validation scores don't improve for 200 rounds.\n",
      "[200]\ttrain's l1: 0.216554\ttrain's l2: 0.141209\tvalid's l1: 0.811939\tvalid's l2: 1.17254\n",
      "Early stopping, best iteration is:\n",
      "[1]\ttrain's l1: 0.565744\ttrain's l2: 0.61024\tvalid's l1: 0.648249\tvalid's l2: 0.749859\n",
      "Training until validation scores don't improve for 200 rounds.\n",
      "[200]\ttrain's l1: 0.226315\ttrain's l2: 0.14318\tvalid's l1: 0.84523\tvalid's l2: 1.11917\n",
      "Early stopping, best iteration is:\n",
      "[1]\ttrain's l1: 0.572805\ttrain's l2: 0.618412\tvalid's l1: 0.713905\tvalid's l2: 0.773885\n",
      "Training until validation scores don't improve for 200 rounds.\n",
      "[200]\ttrain's l1: 0.232632\ttrain's l2: 0.155648\tvalid's l1: 0.773394\tvalid's l2: 1.01565\n",
      "Early stopping, best iteration is:\n",
      "[14]\ttrain's l1: 0.407098\ttrain's l2: 0.332357\tvalid's l1: 0.735072\tvalid's l2: 0.808666\n",
      "Training until validation scores don't improve for 200 rounds.\n",
      "[200]\ttrain's l1: 0.214723\ttrain's l2: 0.129314\tvalid's l1: 0.748633\tvalid's l2: 0.97843\n",
      "Early stopping, best iteration is:\n",
      "[14]\ttrain's l1: 0.376384\ttrain's l2: 0.297999\tvalid's l1: 0.639814\tvalid's l2: 0.7284\n",
      "overall validation score\n",
      "0.6808139978131396\n"
     ]
    },
    {
     "data": {
      "image/png": "[encoded data removed]",
      "text/plain": [
       "<Figure size 1008x576 with 1 Axes>"
      ]
     },
     "metadata": {
      "needs_background": "light"
     },
     "output_type": "display_data"
    },
    {
     "data": {
      "text/html": [
       "<html>\n",
       "<head><meta charset=\"utf-8\" /></head>\n",
       "<body>\n",
       "    <div>            <script src=\"https://cdnjs.cloudflare.com/ajax/libs/mathjax/2.7.5/MathJax.js?config=TeX-AMS-MML_SVG\"></script><script type=\"text/javascript\">if (window.MathJax) {MathJax.Hub.Config({SVG: {font: \"STIX-Web\"}});}</script>                <script type=\"text/javascript\">window.PlotlyConfig = {MathJaxConfig: 'local'};</script>\n",
       "        <script src=\"https://cdn.plot.ly/plotly-2.8.3.min.js\"></script>                <div id=\"28f9b23b-048d-4f66-8a51-a88fec252aaf\" class=\"plotly-graph-div\" style=\"height:525px; width:100%;\"></div>            <script type=\"text/javascript\">                                    window.PLOTLYENV=window.PLOTLYENV || {};                                    if (document.getElementById(\"28f9b23b-048d-4f66-8a51-a88fec252aaf\")) {                    Plotly.newPlot(                        \"28f9b23b-048d-4f66-8a51-a88fec252aaf\",                        [{\"colorscale\":[[0.0,\"rgb(247,251,255)\"],[0.125,\"rgb(222,235,247)\"],[0.25,\"rgb(198,219,239)\"],[0.375,\"rgb(158,202,225)\"],[0.5,\"rgb(107,174,214)\"],[0.625,\"rgb(66,146,198)\"],[0.75,\"rgb(33,113,181)\"],[0.875,\"rgb(8,81,156)\"],[1.0,\"rgb(8,48,107)\"]],\"geo\":\"geo\",\"locationmode\":\"USA-states\",\"locations\":[\"AK\",\"AL\",\"AR\",\"AZ\",\"CA\",\"CO\",\"CT\",\"DC\",\"DE\",\"FL\",\"GA\",\"IA\",\"ID\",\"IL\",\"IN\",\"KS\",\"KY\",\"LA\",\"MA\",\"MD\",\"ME\",\"MI\",\"MN\",\"MO\",\"MS\",\"MT\",\"NC\",\"ND\",\"NE\",\"NH\",\"NJ\",\"NM\",\"NV\",\"NY\",\"OH\",\"OK\",\"OR\",\"PA\",\"RI\",\"SC\",\"SD\",\"TN\",\"TX\",\"UT\",\"VA\",\"VT\",\"WA\",\"WI\",\"WV\",\"WY\"],\"marker\":{\"line\":{\"color\":\"grey\"}},\"z\":[1.7748211754226366,1.682477644364801,1.6402445232096539,1.7520908486171243,1.7935737087490775,1.6488117600316041,1.9946377427695126,1.919857299831012,1.991533631213525,1.757422292907112,1.706102083748555,1.674226542323603,1.6677833716740764,1.6786099234716705,1.7683911698210353,1.7861881515688134,1.6709650730764534,1.6660422851050138,1.8795799885319373,1.7666799466390728,1.6461212504331442,1.7056753644435978,1.690665493694339,1.6793348739415097,1.6823894465753615,1.6548968143027145,1.7247565763653736,1.6629663000973116,1.7052812230956067,1.7335341591149998,2.037169156761734,1.762268152118813,1.7721856745340683,1.8280033454466558,1.7668768144840028,1.7860719680055537,1.7217704227729835,1.7691650646551622,1.9408498277243738,1.7717944834879378,1.6654927775550104,1.642625609821626,1.823907750739402,1.7544483271939326,1.7367083773546366,1.778380791781149,1.7295772379600483,1.696766030737121,1.6587206950641227,1.7045566328422117],\"zmax\":1,\"type\":\"choropleth\"}],                        {\"template\":{\"data\":{\"bar\":[{\"error_x\":{\"color\":\"#2a3f5f\"},\"error_y\":{\"color\":\"#2a3f5f\"},\"marker\":{\"line\":{\"color\":\"#E5ECF6\",\"width\":0.5},\"pattern\":{\"fillmode\":\"overlay\",\"size\":10,\"solidity\":0.2}},\"type\":\"bar\"}],\"barpolar\":[{\"marker\":{\"line\":{\"color\":\"#E5ECF6\",\"width\":0.5},\"pattern\":{\"fillmode\":\"overlay\",\"size\":10,\"solidity\":0.2}},\"type\":\"barpolar\"}],\"carpet\":[{\"aaxis\":{\"endlinecolor\":\"#2a3f5f\",\"gridcolor\":\"white\",\"linecolor\":\"white\",\"minorgridcolor\":\"white\",\"startlinecolor\":\"#2a3f5f\"},\"baxis\":{\"endlinecolor\":\"#2a3f5f\",\"gridcolor\":\"white\",\"linecolor\":\"white\",\"minorgridcolor\":\"white\",\"startlinecolor\":\"#2a3f5f\"},\"type\":\"carpet\"}],\"choropleth\":[{\"colorbar\":{\"outlinewidth\":0,\"ticks\":\"\"},\"type\":\"choropleth\"}],\"contour\":[{\"colorbar\":{\"outlinewidth\":0,\"ticks\":\"\"},\"colorscale\":[[0.0,\"#0d0887\"],[0.1111111111111111,\"#46039f\"],[0.2222222222222222,\"#7201a8\"],[0.3333333333333333,\"#9c179e\"],[0.4444444444444444,\"#bd3786\"],[0.5555555555555556,\"#d8576b\"],[0.6666666666666666,\"#ed7953\"],[0.7777777777777778,\"#fb9f3a\"],[0.8888888888888888,\"#fdca26\"],[1.0,\"#f0f921\"]],\"type\":\"contour\"}],\"contourcarpet\":[{\"colorbar\":{\"outlinewidth\":0,\"ticks\":\"\"},\"type\":\"contourcarpet\"}],\"heatmap\":[{\"colorbar\":{\"outlinewidth\":0,\"ticks\":\"\"},\"colorscale\":[[0.0,\"#0d0887\"],[0.1111111111111111,\"#46039f\"],[0.2222222222222222,\"#7201a8\"],[0.3333333333333333,\"#9c179e\"],[0.4444444444444444,\"#bd3786\"],[0.5555555555555556,\"#d8576b\"],[0.6666666666666666,\"#ed7953\"],[0.7777777777777778,\"#fb9f3a\"],[0.8888888888888888,\"#fdca26\"],[1.0,\"#f0f921\"]],\"type\":\"heatmap\"}],\"heatmapgl\":[{\"colorbar\":{\"outlinewidth\":0,\"ticks\":\"\"},\"colorscale\":[[0.0,\"#0d0887\"],[0.1111111111111111,\"#46039f\"],[0.2222222222222222,\"#7201a8\"],[0.3333333333333333,\"#9c179e\"],[0.4444444444444444,\"#bd3786\"],[0.5555555555555556,\"#d8576b\"],[0.6666666666666666,\"#ed7953\"],[0.7777777777777778,\"#fb9f3a\"],[0.8888888888888888,\"#fdca26\"],[1.0,\"#f0f921\"]],\"type\":\"heatmapgl\"}],\"histogram\":[{\"marker\":{\"pattern\":{\"fillmode\":\"overlay\",\"size\":10,\"solidity\":0.2}},\"type\":\"histogram\"}],\"histogram2d\":[{\"colorbar\":{\"outlinewidth\":0,\"ticks\":\"\"},\"colorscale\":[[0.0,\"#0d0887\"],[0.1111111111111111,\"#46039f\"],[0.2222222222222222,\"#7201a8\"],[0.3333333333333333,\"#9c179e\"],[0.4444444444444444,\"#bd3786\"],[0.5555555555555556,\"#d8576b\"],[0.6666666666666666,\"#ed7953\"],[0.7777777777777778,\"#fb9f3a\"],[0.8888888888888888,\"#fdca26\"],[1.0,\"#f0f921\"]],\"type\":\"histogram2d\"}],\"histogram2dcontour\":[{\"colorbar\":{\"outlinewidth\":0,\"ticks\":\"\"},\"colorscale\":[[0.0,\"#0d0887\"],[0.1111111111111111,\"#46039f\"],[0.2222222222222222,\"#7201a8\"],[0.3333333333333333,\"#9c179e\"],[0.4444444444444444,\"#bd3786\"],[0.5555555555555556,\"#d8576b\"],[0.6666666666666666,\"#ed7953\"],[0.7777777777777778,\"#fb9f3a\"],[0.8888888888888888,\"#fdca26\"],[1.0,\"#f0f921\"]],\"type\":\"histogram2dcontour\"}],\"mesh3d\":[{\"colorbar\":{\"outlinewidth\":0,\"ticks\":\"\"},\"type\":\"mesh3d\"}],\"parcoords\":[{\"line\":{\"colorbar\":{\"outlinewidth\":0,\"ticks\":\"\"}},\"type\":\"parcoords\"}],\"pie\":[{\"automargin\":true,\"type\":\"pie\"}],\"scatter\":[{\"marker\":{\"colorbar\":{\"outlinewidth\":0,\"ticks\":\"\"}},\"type\":\"scatter\"}],\"scatter3d\":[{\"line\":{\"colorbar\":{\"outlinewidth\":0,\"ticks\":\"\"}},\"marker\":{\"colorbar\":{\"outlinewidth\":0,\"ticks\":\"\"}},\"type\":\"scatter3d\"}],\"scattercarpet\":[{\"marker\":{\"colorbar\":{\"outlinewidth\":0,\"ticks\":\"\"}},\"type\":\"scattercarpet\"}],\"scattergeo\":[{\"marker\":{\"colorbar\":{\"outlinewidth\":0,\"ticks\":\"\"}},\"type\":\"scattergeo\"}],\"scattergl\":[{\"marker\":{\"colorbar\":{\"outlinewidth\":0,\"ticks\":\"\"}},\"type\":\"scattergl\"}],\"scattermapbox\":[{\"marker\":{\"colorbar\":{\"outlinewidth\":0,\"ticks\":\"\"}},\"type\":\"scattermapbox\"}],\"scatterpolar\":[{\"marker\":{\"colorbar\":{\"outlinewidth\":0,\"ticks\":\"\"}},\"type\":\"scatterpolar\"}],\"scatterpolargl\":[{\"marker\":{\"colorbar\":{\"outlinewidth\":0,\"ticks\":\"\"}},\"type\":\"scatterpolargl\"}],\"scatterternary\":[{\"marker\":{\"colorbar\":{\"outlinewidth\":0,\"ticks\":\"\"}},\"type\":\"scatterternary\"}],\"surface\":[{\"colorbar\":{\"outlinewidth\":0,\"ticks\":\"\"},\"colorscale\":[[0.0,\"#0d0887\"],[0.1111111111111111,\"#46039f\"],[0.2222222222222222,\"#7201a8\"],[0.3333333333333333,\"#9c179e\"],[0.4444444444444444,\"#bd3786\"],[0.5555555555555556,\"#d8576b\"],[0.6666666666666666,\"#ed7953\"],[0.7777777777777778,\"#fb9f3a\"],[0.8888888888888888,\"#fdca26\"],[1.0,\"#f0f921\"]],\"type\":\"surface\"}],\"table\":[{\"cells\":{\"fill\":{\"color\":\"#EBF0F8\"},\"line\":{\"color\":\"white\"}},\"header\":{\"fill\":{\"color\":\"#C8D4E3\"},\"line\":{\"color\":\"white\"}},\"type\":\"table\"}]},\"layout\":{\"annotationdefaults\":{\"arrowcolor\":\"#2a3f5f\",\"arrowhead\":0,\"arrowwidth\":1},\"autotypenumbers\":\"strict\",\"coloraxis\":{\"colorbar\":{\"outlinewidth\":0,\"ticks\":\"\"}},\"colorscale\":{\"diverging\":[[0,\"#8e0152\"],[0.1,\"#c51b7d\"],[0.2,\"#de77ae\"],[0.3,\"#f1b6da\"],[0.4,\"#fde0ef\"],[0.5,\"#f7f7f7\"],[0.6,\"#e6f5d0\"],[0.7,\"#b8e186\"],[0.8,\"#7fbc41\"],[0.9,\"#4d9221\"],[1,\"#276419\"]],\"sequential\":[[0.0,\"#0d0887\"],[0.1111111111111111,\"#46039f\"],[0.2222222222222222,\"#7201a8\"],[0.3333333333333333,\"#9c179e\"],[0.4444444444444444,\"#bd3786\"],[0.5555555555555556,\"#d8576b\"],[0.6666666666666666,\"#ed7953\"],[0.7777777777777778,\"#fb9f3a\"],[0.8888888888888888,\"#fdca26\"],[1.0,\"#f0f921\"]],\"sequentialminus\":[[0.0,\"#0d0887\"],[0.1111111111111111,\"#46039f\"],[0.2222222222222222,\"#7201a8\"],[0.3333333333333333,\"#9c179e\"],[0.4444444444444444,\"#bd3786\"],[0.5555555555555556,\"#d8576b\"],[0.6666666666666666,\"#ed7953\"],[0.7777777777777778,\"#fb9f3a\"],[0.8888888888888888,\"#fdca26\"],[1.0,\"#f0f921\"]]},\"colorway\":[\"#636efa\",\"#EF553B\",\"#00cc96\",\"#ab63fa\",\"#FFA15A\",\"#19d3f3\",\"#FF6692\",\"#B6E880\",\"#FF97FF\",\"#FECB52\"],\"font\":{\"color\":\"#2a3f5f\"},\"geo\":{\"bgcolor\":\"white\",\"lakecolor\":\"white\",\"landcolor\":\"#E5ECF6\",\"showlakes\":true,\"showland\":true,\"subunitcolor\":\"white\"},\"hoverlabel\":{\"align\":\"left\"},\"hovermode\":\"closest\",\"mapbox\":{\"style\":\"light\"},\"paper_bgcolor\":\"white\",\"plot_bgcolor\":\"#E5ECF6\",\"polar\":{\"angularaxis\":{\"gridcolor\":\"white\",\"linecolor\":\"white\",\"ticks\":\"\"},\"bgcolor\":\"#E5ECF6\",\"radialaxis\":{\"gridcolor\":\"white\",\"linecolor\":\"white\",\"ticks\":\"\"}},\"scene\":{\"xaxis\":{\"backgroundcolor\":\"#E5ECF6\",\"gridcolor\":\"white\",\"gridwidth\":2,\"linecolor\":\"white\",\"showbackground\":true,\"ticks\":\"\",\"zerolinecolor\":\"white\"},\"yaxis\":{\"backgroundcolor\":\"#E5ECF6\",\"gridcolor\":\"white\",\"gridwidth\":2,\"linecolor\":\"white\",\"showbackground\":true,\"ticks\":\"\",\"zerolinecolor\":\"white\"},\"zaxis\":{\"backgroundcolor\":\"#E5ECF6\",\"gridcolor\":\"white\",\"gridwidth\":2,\"linecolor\":\"white\",\"showbackground\":true,\"ticks\":\"\",\"zerolinecolor\":\"white\"}},\"shapedefaults\":{\"line\":{\"color\":\"#2a3f5f\"}},\"ternary\":{\"aaxis\":{\"gridcolor\":\"white\",\"linecolor\":\"white\",\"ticks\":\"\"},\"baxis\":{\"gridcolor\":\"white\",\"linecolor\":\"white\",\"ticks\":\"\"},\"bgcolor\":\"#E5ECF6\",\"caxis\":{\"gridcolor\":\"white\",\"linecolor\":\"white\",\"ticks\":\"\"}},\"title\":{\"x\":0.05},\"xaxis\":{\"automargin\":true,\"gridcolor\":\"white\",\"linecolor\":\"white\",\"ticks\":\"\",\"title\":{\"standoff\":15},\"zerolinecolor\":\"white\",\"zerolinewidth\":2},\"yaxis\":{\"automargin\":true,\"gridcolor\":\"white\",\"linecolor\":\"white\",\"ticks\":\"\",\"title\":{\"standoff\":15},\"zerolinecolor\":\"white\",\"zerolinewidth\":2}}},\"title\":{\"text\":\"gtd_score prediction\"},\"geo\":{\"scope\":\"usa\"}},                        {\"responsive\": true}                    ).then(function(){\n",
       "                            \n",
       "var gd = document.getElementById('28f9b23b-048d-4f66-8a51-a88fec252aaf');\n",
       "var x = new MutationObserver(function (mutations, observer) {{\n",
       "        var display = window.getComputedStyle(gd).display;\n",
       "        if (!display || display === 'none') {{\n",
       "            console.log([gd, 'removed!']);\n",
       "            Plotly.purge(gd);\n",
       "            observer.disconnect();\n",
       "        }}\n",
       "}});\n",
       "\n",
       "// Listen for the removal of the full notebook cells\n",
       "var notebookContainer = gd.closest('#notebook-container');\n",
       "if (notebookContainer) {{\n",
       "    x.observe(notebookContainer, {childList: true});\n",
       "}}\n",
       "\n",
       "// Listen for the clearing of the current output cell\n",
       "var outputEl = gd.closest('.output');\n",
       "if (outputEl) {{\n",
       "    x.observe(outputEl, {childList: true});\n",
       "}}\n",
       "\n",
       "                        })                };                            </script>        </div>\n",
       "</body>\n",
       "</html>"
      ]
     },
     "metadata": {},
     "output_type": "display_data"
    }
   ],
   "source": [
    "prediction(water_score, picked.value, 'plot')"
   ]
  },
  {
   "cell_type": "code",
   "execution_count": 26,
   "metadata": {
    "colab": {
     "base_uri": "https://localhost:8080/"
    },
    "executionInfo": {
     "elapsed": 69875,
     "status": "ok",
     "timestamp": 1654352444339,
     "user": {
      "displayName": "Eva Rolland",
      "userId": "01449613398367393128"
     },
     "user_tz": -120
    },
    "id": "Dpw7h48WzbYe",
    "outputId": "4ff626e7-e7b6-47cc-d9a4-04ee096a3c7a"
   },
   "outputs": [
    {
     "name": "stdout",
     "output_type": "stream",
     "text": [
      "|   iter    |  target   | baggin... | baggin... | featur... | learni... |  max_bin  | num_le... |\n",
      "-------------------------------------------------------------------------------------------------\n"
     ]
    },
    {
     "name": "stderr",
     "output_type": "stream",
     "text": [
      "/usr/local/lib/python3.7/dist-packages/lightgbm/engine.py:430: UserWarning:\n",
      "\n",
      "Found `num_iterations` in params. Will use it instead of argument\n",
      "\n",
      "/usr/local/lib/python3.7/dist-packages/lightgbm/engine.py:435: UserWarning:\n",
      "\n",
      "Found `early_stopping_round` in params. Will use it instead of argument\n",
      "\n"
     ]
    },
    {
     "name": "stdout",
     "output_type": "stream",
     "text": [
      "[200]\tcv_agg's rmse: 0.761112 + 0.174869\n",
      "| \u001b[0m 1       \u001b[0m | \u001b[0m-0.7185  \u001b[0m | \u001b[0m 0.8749  \u001b[0m | \u001b[0m 9.556   \u001b[0m | \u001b[0m 0.6856  \u001b[0m | \u001b[0m 0.6027  \u001b[0m | \u001b[0m 73.4    \u001b[0m | \u001b[0m 6.56    \u001b[0m |\n",
      "[200]\tcv_agg's rmse: 0.799407 + 0.185324\n",
      "| \u001b[0m 2       \u001b[0m | \u001b[0m-0.7625  \u001b[0m | \u001b[0m 0.8116  \u001b[0m | \u001b[0m 8.796   \u001b[0m | \u001b[0m 0.5809  \u001b[0m | \u001b[0m 0.711   \u001b[0m | \u001b[0m 53.09   \u001b[0m | \u001b[0m 14.7    \u001b[0m |\n",
      "[200]\tcv_agg's rmse: 0.729765 + 0.163184\n",
      "| \u001b[95m 3       \u001b[0m | \u001b[95m-0.7134  \u001b[0m | \u001b[95m 0.9665  \u001b[0m | \u001b[95m 2.911   \u001b[0m | \u001b[95m 0.2455  \u001b[0m | \u001b[95m 0.1916  \u001b[0m | \u001b[95m 95.64   \u001b[0m | \u001b[95m 10.25   \u001b[0m |\n",
      "[200]\tcv_agg's rmse: 0.717823 + 0.182651\n",
      "| \u001b[95m 4       \u001b[0m | \u001b[95m-0.6896  \u001b[0m | \u001b[95m 0.8864  \u001b[0m | \u001b[95m 3.621   \u001b[0m | \u001b[95m 0.5895  \u001b[0m | \u001b[95m 0.1481  \u001b[0m | \u001b[95m 93.82   \u001b[0m | \u001b[95m 8.664   \u001b[0m |\n",
      "[200]\tcv_agg's rmse: 0.741501 + 0.146674\n",
      "| \u001b[0m 5       \u001b[0m | \u001b[0m-0.7203  \u001b[0m | \u001b[0m 0.8912  \u001b[0m | \u001b[0m 8.067   \u001b[0m | \u001b[0m 0.2597  \u001b[0m | \u001b[0m 0.5191  \u001b[0m | \u001b[0m 138.9   \u001b[0m | \u001b[0m 5.465   \u001b[0m |\n",
      "[200]\tcv_agg's rmse: 0.804161 + 0.148454\n",
      "| \u001b[0m 6       \u001b[0m | \u001b[0m-0.7548  \u001b[0m | \u001b[0m 0.9215  \u001b[0m | \u001b[0m 2.535   \u001b[0m | \u001b[0m 0.152   \u001b[0m | \u001b[0m 0.9494  \u001b[0m | \u001b[0m 194.8   \u001b[0m | \u001b[0m 13.08   \u001b[0m |\n",
      "[200]\tcv_agg's rmse: 0.744177 + 0.172154\n",
      "| \u001b[0m 7       \u001b[0m | \u001b[0m-0.7258  \u001b[0m | \u001b[0m 0.8609  \u001b[0m | \u001b[0m 1.879   \u001b[0m | \u001b[0m 0.6474  \u001b[0m | \u001b[0m 0.4458  \u001b[0m | \u001b[0m 68.31   \u001b[0m | \u001b[0m 9.952   \u001b[0m |\n",
      "[200]\tcv_agg's rmse: 0.794781 + 0.163168\n",
      "| \u001b[0m 8       \u001b[0m | \u001b[0m-0.7418  \u001b[0m | \u001b[0m 0.8069  \u001b[0m | \u001b[0m 9.184   \u001b[0m | \u001b[0m 0.307   \u001b[0m | \u001b[0m 0.6659  \u001b[0m | \u001b[0m 96.76   \u001b[0m | \u001b[0m 10.2    \u001b[0m |\n",
      "[200]\tcv_agg's rmse: 0.799334 + 0.164661\n",
      "| \u001b[0m 9       \u001b[0m | \u001b[0m-0.72    \u001b[0m | \u001b[0m 0.9093  \u001b[0m | \u001b[0m 2.664   \u001b[0m | \u001b[0m 0.8757  \u001b[0m | \u001b[0m 0.7774  \u001b[0m | \u001b[0m 190.9   \u001b[0m | \u001b[0m 13.95   \u001b[0m |\n",
      "[200]\tcv_agg's rmse: 0.722376 + 0.166617\n",
      "| \u001b[0m 10      \u001b[0m | \u001b[0m-0.7115  \u001b[0m | \u001b[0m 0.9196  \u001b[0m | \u001b[0m 9.297   \u001b[0m | \u001b[0m 0.1708  \u001b[0m | \u001b[0m 0.204   \u001b[0m | \u001b[0m 56.78   \u001b[0m | \u001b[0m 8.253   \u001b[0m |\n",
      "[200]\tcv_agg's rmse: 0.729693 + 0.184115\n",
      "| \u001b[95m 11      \u001b[0m | \u001b[95m-0.6884  \u001b[0m | \u001b[95m 0.8777  \u001b[0m | \u001b[95m 3.442   \u001b[0m | \u001b[95m 0.763   \u001b[0m | \u001b[95m 0.3632  \u001b[0m | \u001b[95m 92.14   \u001b[0m | \u001b[95m 10.43   \u001b[0m |\n",
      "[200]\tcv_agg's rmse: 0.794494 + 0.131432\n",
      "| \u001b[0m 12      \u001b[0m | \u001b[0m-0.7513  \u001b[0m | \u001b[0m 0.8282  \u001b[0m | \u001b[0m 8.22    \u001b[0m | \u001b[0m 0.1596  \u001b[0m | \u001b[0m 0.987   \u001b[0m | \u001b[0m 165.8   \u001b[0m | \u001b[0m 6.987   \u001b[0m |\n",
      "[200]\tcv_agg's rmse: 0.752156 + 0.174833\n",
      "| \u001b[0m 13      \u001b[0m | \u001b[0m-0.7253  \u001b[0m | \u001b[0m 0.8011  \u001b[0m | \u001b[0m 8.339   \u001b[0m | \u001b[0m 0.6655  \u001b[0m | \u001b[0m 0.7317  \u001b[0m | \u001b[0m 165.7   \u001b[0m | \u001b[0m 5.74    \u001b[0m |\n",
      "[200]\tcv_agg's rmse: 0.750687 + 0.151352\n",
      "| \u001b[0m 14      \u001b[0m | \u001b[0m-0.717   \u001b[0m | \u001b[0m 0.8717  \u001b[0m | \u001b[0m 2.043   \u001b[0m | \u001b[0m 0.7905  \u001b[0m | \u001b[0m 0.6271  \u001b[0m | \u001b[0m 99.63   \u001b[0m | \u001b[0m 5.636   \u001b[0m |\n",
      "[200]\tcv_agg's rmse: 0.781578 + 0.16993\n",
      "| \u001b[0m 15      \u001b[0m | \u001b[0m-0.737   \u001b[0m | \u001b[0m 0.8622  \u001b[0m | \u001b[0m 3.927   \u001b[0m | \u001b[0m 0.6837  \u001b[0m | \u001b[0m 0.6412  \u001b[0m | \u001b[0m 183.1   \u001b[0m | \u001b[0m 9.722   \u001b[0m |\n",
      "[200]\tcv_agg's rmse: 0.793185 + 0.204943\n",
      "| \u001b[0m 16      \u001b[0m | \u001b[0m-0.7407  \u001b[0m | \u001b[0m 0.8239  \u001b[0m | \u001b[0m 7.419   \u001b[0m | \u001b[0m 0.7086  \u001b[0m | \u001b[0m 0.5657  \u001b[0m | \u001b[0m 165.6   \u001b[0m | \u001b[0m 9.938   \u001b[0m |\n",
      "[200]\tcv_agg's rmse: 0.724142 + 0.160759\n",
      "| \u001b[0m 17      \u001b[0m | \u001b[0m-0.7193  \u001b[0m | \u001b[0m 0.9045  \u001b[0m | \u001b[0m 4.848   \u001b[0m | \u001b[0m 0.1203  \u001b[0m | \u001b[0m 0.1168  \u001b[0m | \u001b[0m 54.71   \u001b[0m | \u001b[0m 11.36   \u001b[0m |\n",
      "[200]\tcv_agg's rmse: 0.720246 + 0.183074\n",
      "| \u001b[0m 18      \u001b[0m | \u001b[0m-0.6962  \u001b[0m | \u001b[0m 0.8629  \u001b[0m | \u001b[0m 5.577   \u001b[0m | \u001b[0m 0.8261  \u001b[0m | \u001b[0m 0.2568  \u001b[0m | \u001b[0m 111.6   \u001b[0m | \u001b[0m 12.56   \u001b[0m |\n",
      "[200]\tcv_agg's rmse: 0.719182 + 0.15833\n",
      "| \u001b[0m 19      \u001b[0m | \u001b[0m-0.6969  \u001b[0m | \u001b[0m 0.8458  \u001b[0m | \u001b[0m 1.693   \u001b[0m | \u001b[0m 0.3318  \u001b[0m | \u001b[0m 0.1696  \u001b[0m | \u001b[0m 189.5   \u001b[0m | \u001b[0m 13.08   \u001b[0m |\n",
      "[200]\tcv_agg's rmse: 0.693696 + 0.179637\n",
      "| \u001b[95m 20      \u001b[0m | \u001b[95m-0.6838  \u001b[0m | \u001b[95m 0.9267  \u001b[0m | \u001b[95m 8.843   \u001b[0m | \u001b[95m 0.7429  \u001b[0m | \u001b[95m 0.1947  \u001b[0m | \u001b[95m 183.9   \u001b[0m | \u001b[95m 10.39   \u001b[0m |\n"
     ]
    },
    {
     "name": "stderr",
     "output_type": "stream",
     "text": [
      "/usr/local/lib/python3.7/dist-packages/lightgbm/engine.py:430: UserWarning:\n",
      "\n",
      "Found `num_iterations` in params. Will use it instead of argument\n",
      "\n",
      "/usr/local/lib/python3.7/dist-packages/lightgbm/engine.py:435: UserWarning:\n",
      "\n",
      "Found `early_stopping_round` in params. Will use it instead of argument\n",
      "\n"
     ]
    },
    {
     "name": "stdout",
     "output_type": "stream",
     "text": [
      "[200]\tcv_agg's rmse: 0.710343 + 0.179876\n",
      "| \u001b[0m 21      \u001b[0m | \u001b[0m-0.6926  \u001b[0m | \u001b[0m 0.8722  \u001b[0m | \u001b[0m 3.414   \u001b[0m | \u001b[0m 0.758   \u001b[0m | \u001b[0m 0.2371  \u001b[0m | \u001b[0m 92.49   \u001b[0m | \u001b[0m 9.122   \u001b[0m |\n"
     ]
    },
    {
     "name": "stderr",
     "output_type": "stream",
     "text": [
      "/usr/local/lib/python3.7/dist-packages/lightgbm/engine.py:430: UserWarning:\n",
      "\n",
      "Found `num_iterations` in params. Will use it instead of argument\n",
      "\n",
      "/usr/local/lib/python3.7/dist-packages/lightgbm/engine.py:435: UserWarning:\n",
      "\n",
      "Found `early_stopping_round` in params. Will use it instead of argument\n",
      "\n"
     ]
    },
    {
     "name": "stdout",
     "output_type": "stream",
     "text": [
      "[200]\tcv_agg's rmse: 0.717267 + 0.164742\n",
      "| \u001b[0m 22      \u001b[0m | \u001b[0m-0.6906  \u001b[0m | \u001b[0m 0.8668  \u001b[0m | \u001b[0m 9.38    \u001b[0m | \u001b[0m 0.4865  \u001b[0m | \u001b[0m 0.223   \u001b[0m | \u001b[0m 184.6   \u001b[0m | \u001b[0m 10.72   \u001b[0m |\n"
     ]
    },
    {
     "name": "stderr",
     "output_type": "stream",
     "text": [
      "/usr/local/lib/python3.7/dist-packages/lightgbm/engine.py:430: UserWarning:\n",
      "\n",
      "Found `num_iterations` in params. Will use it instead of argument\n",
      "\n",
      "/usr/local/lib/python3.7/dist-packages/lightgbm/engine.py:435: UserWarning:\n",
      "\n",
      "Found `early_stopping_round` in params. Will use it instead of argument\n",
      "\n"
     ]
    },
    {
     "name": "stdout",
     "output_type": "stream",
     "text": [
      "[200]\tcv_agg's rmse: 0.720138 + 0.172833\n",
      "[400]\tcv_agg's rmse: 0.691703 + 0.17853\n",
      "[600]\tcv_agg's rmse: 0.68427 + 0.180425\n",
      "[800]\tcv_agg's rmse: 0.683509 + 0.180152\n",
      "| \u001b[95m 23      \u001b[0m | \u001b[95m-0.6818  \u001b[0m | \u001b[95m 1.0     \u001b[0m | \u001b[95m 9.609   \u001b[0m | \u001b[95m 0.9     \u001b[0m | \u001b[95m 0.01    \u001b[0m | \u001b[95m 183.0   \u001b[0m | \u001b[95m 10.07   \u001b[0m |\n"
     ]
    },
    {
     "name": "stderr",
     "output_type": "stream",
     "text": [
      "/usr/local/lib/python3.7/dist-packages/lightgbm/engine.py:430: UserWarning:\n",
      "\n",
      "Found `num_iterations` in params. Will use it instead of argument\n",
      "\n",
      "/usr/local/lib/python3.7/dist-packages/lightgbm/engine.py:435: UserWarning:\n",
      "\n",
      "Found `early_stopping_round` in params. Will use it instead of argument\n",
      "\n"
     ]
    },
    {
     "name": "stdout",
     "output_type": "stream",
     "text": [
      "[200]\tcv_agg's rmse: 0.701275 + 0.188058\n",
      "| \u001b[95m 24      \u001b[0m | \u001b[95m-0.6663  \u001b[0m | \u001b[95m 1.0     \u001b[0m | \u001b[95m 9.32    \u001b[0m | \u001b[95m 0.9     \u001b[0m | \u001b[95m 0.2764  \u001b[0m | \u001b[95m 183.6   \u001b[0m | \u001b[95m 8.928   \u001b[0m |\n"
     ]
    },
    {
     "name": "stderr",
     "output_type": "stream",
     "text": [
      "/usr/local/lib/python3.7/dist-packages/lightgbm/engine.py:430: UserWarning:\n",
      "\n",
      "Found `num_iterations` in params. Will use it instead of argument\n",
      "\n",
      "/usr/local/lib/python3.7/dist-packages/lightgbm/engine.py:435: UserWarning:\n",
      "\n",
      "Found `early_stopping_round` in params. Will use it instead of argument\n",
      "\n"
     ]
    },
    {
     "name": "stdout",
     "output_type": "stream",
     "text": [
      "[200]\tcv_agg's rmse: 0.735623 + 0.169444\n",
      "[400]\tcv_agg's rmse: 0.698005 + 0.179508\n",
      "[600]\tcv_agg's rmse: 0.691341 + 0.18011\n",
      "[800]\tcv_agg's rmse: 0.687949 + 0.18163\n",
      "| \u001b[0m 25      \u001b[0m | \u001b[0m-0.6878  \u001b[0m | \u001b[0m 1.0     \u001b[0m | \u001b[0m 9.48    \u001b[0m | \u001b[0m 0.9     \u001b[0m | \u001b[0m 0.01    \u001b[0m | \u001b[0m 183.9   \u001b[0m | \u001b[0m 7.806   \u001b[0m |\n"
     ]
    },
    {
     "name": "stderr",
     "output_type": "stream",
     "text": [
      "/usr/local/lib/python3.7/dist-packages/lightgbm/engine.py:430: UserWarning:\n",
      "\n",
      "Found `num_iterations` in params. Will use it instead of argument\n",
      "\n",
      "/usr/local/lib/python3.7/dist-packages/lightgbm/engine.py:435: UserWarning:\n",
      "\n",
      "Found `early_stopping_round` in params. Will use it instead of argument\n",
      "\n"
     ]
    },
    {
     "name": "stdout",
     "output_type": "stream",
     "text": [
      "[200]\tcv_agg's rmse: 0.789226 + 0.175559\n",
      "| \u001b[0m 26      \u001b[0m | \u001b[0m-0.7226  \u001b[0m | \u001b[0m 0.966   \u001b[0m | \u001b[0m 8.865   \u001b[0m | \u001b[0m 0.6393  \u001b[0m | \u001b[0m 0.9036  \u001b[0m | \u001b[0m 183.6   \u001b[0m | \u001b[0m 8.498   \u001b[0m |\n"
     ]
    },
    {
     "name": "stderr",
     "output_type": "stream",
     "text": [
      "/usr/local/lib/python3.7/dist-packages/lightgbm/engine.py:430: UserWarning:\n",
      "\n",
      "Found `num_iterations` in params. Will use it instead of argument\n",
      "\n",
      "/usr/local/lib/python3.7/dist-packages/lightgbm/engine.py:435: UserWarning:\n",
      "\n",
      "Found `early_stopping_round` in params. Will use it instead of argument\n",
      "\n"
     ]
    },
    {
     "name": "stdout",
     "output_type": "stream",
     "text": [
      "[200]\tcv_agg's rmse: 0.695475 + 0.171115\n",
      "| \u001b[0m 27      \u001b[0m | \u001b[0m-0.6889  \u001b[0m | \u001b[0m 0.9857  \u001b[0m | \u001b[0m 9.369   \u001b[0m | \u001b[0m 0.3358  \u001b[0m | \u001b[0m 0.15    \u001b[0m | \u001b[0m 184.3   \u001b[0m | \u001b[0m 9.355   \u001b[0m |\n"
     ]
    },
    {
     "name": "stderr",
     "output_type": "stream",
     "text": [
      "/usr/local/lib/python3.7/dist-packages/lightgbm/engine.py:430: UserWarning:\n",
      "\n",
      "Found `num_iterations` in params. Will use it instead of argument\n",
      "\n",
      "/usr/local/lib/python3.7/dist-packages/lightgbm/engine.py:435: UserWarning:\n",
      "\n",
      "Found `early_stopping_round` in params. Will use it instead of argument\n",
      "\n"
     ]
    },
    {
     "name": "stdout",
     "output_type": "stream",
     "text": [
      "[200]\tcv_agg's rmse: 0.724256 + 0.172572\n",
      "| \u001b[0m 28      \u001b[0m | \u001b[0m-0.7057  \u001b[0m | \u001b[0m 0.8517  \u001b[0m | \u001b[0m 9.543   \u001b[0m | \u001b[0m 0.6909  \u001b[0m | \u001b[0m 0.3769  \u001b[0m | \u001b[0m 183.4   \u001b[0m | \u001b[0m 8.822   \u001b[0m |\n"
     ]
    },
    {
     "name": "stderr",
     "output_type": "stream",
     "text": [
      "/usr/local/lib/python3.7/dist-packages/lightgbm/engine.py:430: UserWarning:\n",
      "\n",
      "Found `num_iterations` in params. Will use it instead of argument\n",
      "\n",
      "/usr/local/lib/python3.7/dist-packages/lightgbm/engine.py:435: UserWarning:\n",
      "\n",
      "Found `early_stopping_round` in params. Will use it instead of argument\n",
      "\n"
     ]
    },
    {
     "name": "stdout",
     "output_type": "stream",
     "text": [
      "[200]\tcv_agg's rmse: 0.759537 + 0.13702\n",
      "| \u001b[0m 29      \u001b[0m | \u001b[0m-0.7069  \u001b[0m | \u001b[0m 0.915   \u001b[0m | \u001b[0m 9.535   \u001b[0m | \u001b[0m 0.8998  \u001b[0m | \u001b[0m 0.8522  \u001b[0m | \u001b[0m 184.3   \u001b[0m | \u001b[0m 9.564   \u001b[0m |\n"
     ]
    },
    {
     "name": "stderr",
     "output_type": "stream",
     "text": [
      "/usr/local/lib/python3.7/dist-packages/lightgbm/engine.py:430: UserWarning:\n",
      "\n",
      "Found `num_iterations` in params. Will use it instead of argument\n",
      "\n",
      "/usr/local/lib/python3.7/dist-packages/lightgbm/engine.py:435: UserWarning:\n",
      "\n",
      "Found `early_stopping_round` in params. Will use it instead of argument\n",
      "\n"
     ]
    },
    {
     "name": "stdout",
     "output_type": "stream",
     "text": [
      "[200]\tcv_agg's rmse: 0.807599 + 0.16638\n",
      "| \u001b[0m 30      \u001b[0m | \u001b[0m-0.7372  \u001b[0m | \u001b[0m 0.9751  \u001b[0m | \u001b[0m 4.011   \u001b[0m | \u001b[0m 0.3688  \u001b[0m | \u001b[0m 0.9414  \u001b[0m | \u001b[0m 132.1   \u001b[0m | \u001b[0m 7.241   \u001b[0m |\n"
     ]
    },
    {
     "name": "stderr",
     "output_type": "stream",
     "text": [
      "/usr/local/lib/python3.7/dist-packages/lightgbm/engine.py:430: UserWarning:\n",
      "\n",
      "Found `num_iterations` in params. Will use it instead of argument\n",
      "\n",
      "/usr/local/lib/python3.7/dist-packages/lightgbm/engine.py:435: UserWarning:\n",
      "\n",
      "Found `early_stopping_round` in params. Will use it instead of argument\n",
      "\n"
     ]
    },
    {
     "name": "stdout",
     "output_type": "stream",
     "text": [
      "[200]\tcv_agg's rmse: 0.720295 + 0.17496\n",
      "| \u001b[0m 31      \u001b[0m | \u001b[0m-0.7034  \u001b[0m | \u001b[0m 0.902   \u001b[0m | \u001b[0m 9.844   \u001b[0m | \u001b[0m 0.6547  \u001b[0m | \u001b[0m 0.3177  \u001b[0m | \u001b[0m 183.7   \u001b[0m | \u001b[0m 10.07   \u001b[0m |\n"
     ]
    },
    {
     "name": "stderr",
     "output_type": "stream",
     "text": [
      "/usr/local/lib/python3.7/dist-packages/lightgbm/engine.py:430: UserWarning:\n",
      "\n",
      "Found `num_iterations` in params. Will use it instead of argument\n",
      "\n",
      "/usr/local/lib/python3.7/dist-packages/lightgbm/engine.py:435: UserWarning:\n",
      "\n",
      "Found `early_stopping_round` in params. Will use it instead of argument\n",
      "\n"
     ]
    },
    {
     "name": "stdout",
     "output_type": "stream",
     "text": [
      "[200]\tcv_agg's rmse: 0.710704 + 0.177608\n",
      "| \u001b[0m 32      \u001b[0m | \u001b[0m-0.6869  \u001b[0m | \u001b[0m 0.8525  \u001b[0m | \u001b[0m 9.772   \u001b[0m | \u001b[0m 0.576   \u001b[0m | \u001b[0m 0.2243  \u001b[0m | \u001b[0m 184.4   \u001b[0m | \u001b[0m 8.473   \u001b[0m |\n"
     ]
    },
    {
     "name": "stderr",
     "output_type": "stream",
     "text": [
      "/usr/local/lib/python3.7/dist-packages/lightgbm/engine.py:430: UserWarning:\n",
      "\n",
      "Found `num_iterations` in params. Will use it instead of argument\n",
      "\n",
      "/usr/local/lib/python3.7/dist-packages/lightgbm/engine.py:435: UserWarning:\n",
      "\n",
      "Found `early_stopping_round` in params. Will use it instead of argument\n",
      "\n"
     ]
    },
    {
     "name": "stdout",
     "output_type": "stream",
     "text": [
      "[200]\tcv_agg's rmse: 0.722731 + 0.176583\n",
      "| \u001b[0m 33      \u001b[0m | \u001b[0m-0.6855  \u001b[0m | \u001b[0m 0.9293  \u001b[0m | \u001b[0m 8.576   \u001b[0m | \u001b[0m 0.4745  \u001b[0m | \u001b[0m 0.3676  \u001b[0m | \u001b[0m 183.8   \u001b[0m | \u001b[0m 9.544   \u001b[0m |\n"
     ]
    },
    {
     "name": "stderr",
     "output_type": "stream",
     "text": [
      "/usr/local/lib/python3.7/dist-packages/lightgbm/engine.py:430: UserWarning:\n",
      "\n",
      "Found `num_iterations` in params. Will use it instead of argument\n",
      "\n",
      "/usr/local/lib/python3.7/dist-packages/lightgbm/engine.py:435: UserWarning:\n",
      "\n",
      "Found `early_stopping_round` in params. Will use it instead of argument\n",
      "\n"
     ]
    },
    {
     "name": "stdout",
     "output_type": "stream",
     "text": [
      "[200]\tcv_agg's rmse: 0.739913 + 0.187885\n",
      "| \u001b[0m 34      \u001b[0m | \u001b[0m-0.6979  \u001b[0m | \u001b[0m 0.9148  \u001b[0m | \u001b[0m 8.609   \u001b[0m | \u001b[0m 0.7737  \u001b[0m | \u001b[0m 0.3414  \u001b[0m | \u001b[0m 184.3   \u001b[0m | \u001b[0m 9.927   \u001b[0m |\n"
     ]
    },
    {
     "name": "stderr",
     "output_type": "stream",
     "text": [
      "/usr/local/lib/python3.7/dist-packages/lightgbm/engine.py:430: UserWarning:\n",
      "\n",
      "Found `num_iterations` in params. Will use it instead of argument\n",
      "\n",
      "/usr/local/lib/python3.7/dist-packages/lightgbm/engine.py:435: UserWarning:\n",
      "\n",
      "Found `early_stopping_round` in params. Will use it instead of argument\n",
      "\n"
     ]
    },
    {
     "name": "stdout",
     "output_type": "stream",
     "text": [
      "[200]\tcv_agg's rmse: 0.684986 + 0.184798\n",
      "| \u001b[0m 35      \u001b[0m | \u001b[0m-0.6812  \u001b[0m | \u001b[0m 0.8966  \u001b[0m | \u001b[0m 3.05    \u001b[0m | \u001b[0m 0.6271  \u001b[0m | \u001b[0m 0.08545 \u001b[0m | \u001b[0m 92.55   \u001b[0m | \u001b[0m 10.15   \u001b[0m |\n"
     ]
    },
    {
     "name": "stderr",
     "output_type": "stream",
     "text": [
      "/usr/local/lib/python3.7/dist-packages/lightgbm/engine.py:430: UserWarning:\n",
      "\n",
      "Found `num_iterations` in params. Will use it instead of argument\n",
      "\n",
      "/usr/local/lib/python3.7/dist-packages/lightgbm/engine.py:435: UserWarning:\n",
      "\n",
      "Found `early_stopping_round` in params. Will use it instead of argument\n",
      "\n"
     ]
    },
    {
     "name": "stdout",
     "output_type": "stream",
     "text": [
      "[200]\tcv_agg's rmse: 0.733789 + 0.185734\n",
      "| \u001b[0m 36      \u001b[0m | \u001b[0m-0.6897  \u001b[0m | \u001b[0m 0.9923  \u001b[0m | \u001b[0m 9.018   \u001b[0m | \u001b[0m 0.855   \u001b[0m | \u001b[0m 0.3406  \u001b[0m | \u001b[0m 183.2   \u001b[0m | \u001b[0m 9.478   \u001b[0m |\n"
     ]
    },
    {
     "name": "stderr",
     "output_type": "stream",
     "text": [
      "/usr/local/lib/python3.7/dist-packages/lightgbm/engine.py:430: UserWarning:\n",
      "\n",
      "Found `num_iterations` in params. Will use it instead of argument\n",
      "\n",
      "/usr/local/lib/python3.7/dist-packages/lightgbm/engine.py:435: UserWarning:\n",
      "\n",
      "Found `early_stopping_round` in params. Will use it instead of argument\n",
      "\n"
     ]
    },
    {
     "name": "stdout",
     "output_type": "stream",
     "text": [
      "[200]\tcv_agg's rmse: 0.687822 + 0.178123\n",
      "| \u001b[0m 37      \u001b[0m | \u001b[0m-0.682   \u001b[0m | \u001b[0m 0.997   \u001b[0m | \u001b[0m 8.981   \u001b[0m | \u001b[0m 0.8016  \u001b[0m | \u001b[0m 0.091   \u001b[0m | \u001b[0m 184.8   \u001b[0m | \u001b[0m 8.76    \u001b[0m |\n"
     ]
    },
    {
     "name": "stderr",
     "output_type": "stream",
     "text": [
      "/usr/local/lib/python3.7/dist-packages/lightgbm/engine.py:430: UserWarning:\n",
      "\n",
      "Found `num_iterations` in params. Will use it instead of argument\n",
      "\n",
      "/usr/local/lib/python3.7/dist-packages/lightgbm/engine.py:435: UserWarning:\n",
      "\n",
      "Found `early_stopping_round` in params. Will use it instead of argument\n",
      "\n"
     ]
    },
    {
     "name": "stdout",
     "output_type": "stream",
     "text": [
      "[200]\tcv_agg's rmse: 0.680822 + 0.185687\n",
      "[400]\tcv_agg's rmse: 0.682064 + 0.181068\n",
      "| \u001b[0m 38      \u001b[0m | \u001b[0m-0.6792  \u001b[0m | \u001b[0m 0.8664  \u001b[0m | \u001b[0m 8.674   \u001b[0m | \u001b[0m 0.7892  \u001b[0m | \u001b[0m 0.05515 \u001b[0m | \u001b[0m 183.9   \u001b[0m | \u001b[0m 8.134   \u001b[0m |\n"
     ]
    },
    {
     "name": "stderr",
     "output_type": "stream",
     "text": [
      "/usr/local/lib/python3.7/dist-packages/lightgbm/engine.py:430: UserWarning:\n",
      "\n",
      "Found `num_iterations` in params. Will use it instead of argument\n",
      "\n",
      "/usr/local/lib/python3.7/dist-packages/lightgbm/engine.py:435: UserWarning:\n",
      "\n",
      "Found `early_stopping_round` in params. Will use it instead of argument\n",
      "\n"
     ]
    },
    {
     "name": "stdout",
     "output_type": "stream",
     "text": [
      "[200]\tcv_agg's rmse: 0.682506 + 0.173124\n",
      "[400]\tcv_agg's rmse: 0.684957 + 0.170887\n",
      "| \u001b[0m 39      \u001b[0m | \u001b[0m-0.6804  \u001b[0m | \u001b[0m 0.9308  \u001b[0m | \u001b[0m 2.884   \u001b[0m | \u001b[0m 0.3241  \u001b[0m | \u001b[0m 0.04166 \u001b[0m | \u001b[0m 93.47   \u001b[0m | \u001b[0m 9.411   \u001b[0m |\n"
     ]
    },
    {
     "name": "stderr",
     "output_type": "stream",
     "text": [
      "/usr/local/lib/python3.7/dist-packages/lightgbm/engine.py:430: UserWarning:\n",
      "\n",
      "Found `num_iterations` in params. Will use it instead of argument\n",
      "\n",
      "/usr/local/lib/python3.7/dist-packages/lightgbm/engine.py:435: UserWarning:\n",
      "\n",
      "Found `early_stopping_round` in params. Will use it instead of argument\n",
      "\n"
     ]
    },
    {
     "name": "stdout",
     "output_type": "stream",
     "text": [
      "[200]\tcv_agg's rmse: 0.731232 + 0.171342\n",
      "[400]\tcv_agg's rmse: 0.697231 + 0.17905\n",
      "[600]\tcv_agg's rmse: 0.687991 + 0.181687\n",
      "[800]\tcv_agg's rmse: 0.687715 + 0.180102\n",
      "| \u001b[0m 40      \u001b[0m | \u001b[0m-0.6865  \u001b[0m | \u001b[0m 1.0     \u001b[0m | \u001b[0m 9.141   \u001b[0m | \u001b[0m 0.9     \u001b[0m | \u001b[0m 0.01    \u001b[0m | \u001b[0m 183.9   \u001b[0m | \u001b[0m 8.93    \u001b[0m |\n"
     ]
    },
    {
     "name": "stderr",
     "output_type": "stream",
     "text": [
      "/usr/local/lib/python3.7/dist-packages/lightgbm/engine.py:430: UserWarning:\n",
      "\n",
      "Found `num_iterations` in params. Will use it instead of argument\n",
      "\n",
      "/usr/local/lib/python3.7/dist-packages/lightgbm/engine.py:435: UserWarning:\n",
      "\n",
      "Found `early_stopping_round` in params. Will use it instead of argument\n",
      "\n"
     ]
    },
    {
     "name": "stdout",
     "output_type": "stream",
     "text": [
      "[200]\tcv_agg's rmse: 0.726662 + 0.164076\n",
      "| \u001b[0m 41      \u001b[0m | \u001b[0m-0.7176  \u001b[0m | \u001b[0m 0.8556  \u001b[0m | \u001b[0m 9.273   \u001b[0m | \u001b[0m 0.1881  \u001b[0m | \u001b[0m 0.2021  \u001b[0m | \u001b[0m 184.2   \u001b[0m | \u001b[0m 9.122   \u001b[0m |\n"
     ]
    },
    {
     "name": "stderr",
     "output_type": "stream",
     "text": [
      "/usr/local/lib/python3.7/dist-packages/lightgbm/engine.py:430: UserWarning:\n",
      "\n",
      "Found `num_iterations` in params. Will use it instead of argument\n",
      "\n",
      "/usr/local/lib/python3.7/dist-packages/lightgbm/engine.py:435: UserWarning:\n",
      "\n",
      "Found `early_stopping_round` in params. Will use it instead of argument\n",
      "\n"
     ]
    },
    {
     "name": "stdout",
     "output_type": "stream",
     "text": [
      "[200]\tcv_agg's rmse: 0.72868 + 0.162676\n",
      "| \u001b[0m 42      \u001b[0m | \u001b[0m-0.7128  \u001b[0m | \u001b[0m 0.9938  \u001b[0m | \u001b[0m 9.607   \u001b[0m | \u001b[0m 0.1986  \u001b[0m | \u001b[0m 0.2081  \u001b[0m | \u001b[0m 184.4   \u001b[0m | \u001b[0m 9.779   \u001b[0m |\n"
     ]
    },
    {
     "name": "stderr",
     "output_type": "stream",
     "text": [
      "/usr/local/lib/python3.7/dist-packages/lightgbm/engine.py:430: UserWarning:\n",
      "\n",
      "Found `num_iterations` in params. Will use it instead of argument\n",
      "\n",
      "/usr/local/lib/python3.7/dist-packages/lightgbm/engine.py:435: UserWarning:\n",
      "\n",
      "Found `early_stopping_round` in params. Will use it instead of argument\n",
      "\n"
     ]
    },
    {
     "name": "stdout",
     "output_type": "stream",
     "text": [
      "[200]\tcv_agg's rmse: 0.73767 + 0.14261\n",
      "[400]\tcv_agg's rmse: 0.700348 + 0.159876\n",
      "[600]\tcv_agg's rmse: 0.690967 + 0.167487\n",
      "[800]\tcv_agg's rmse: 0.689536 + 0.169059\n",
      "| \u001b[0m 43      \u001b[0m | \u001b[0m-0.6885  \u001b[0m | \u001b[0m 0.8197  \u001b[0m | \u001b[0m 3.226   \u001b[0m | \u001b[0m 0.289   \u001b[0m | \u001b[0m 0.01207 \u001b[0m | \u001b[0m 93.26   \u001b[0m | \u001b[0m 9.927   \u001b[0m |\n"
     ]
    },
    {
     "name": "stderr",
     "output_type": "stream",
     "text": [
      "/usr/local/lib/python3.7/dist-packages/lightgbm/engine.py:430: UserWarning:\n",
      "\n",
      "Found `num_iterations` in params. Will use it instead of argument\n",
      "\n",
      "/usr/local/lib/python3.7/dist-packages/lightgbm/engine.py:435: UserWarning:\n",
      "\n",
      "Found `early_stopping_round` in params. Will use it instead of argument\n",
      "\n"
     ]
    },
    {
     "name": "stdout",
     "output_type": "stream",
     "text": [
      "[200]\tcv_agg's rmse: 0.903345 + 0.183213\n",
      "| \u001b[0m 44      \u001b[0m | \u001b[0m-0.7723  \u001b[0m | \u001b[0m 0.8131  \u001b[0m | \u001b[0m 3.863   \u001b[0m | \u001b[0m 0.4464  \u001b[0m | \u001b[0m 0.9987  \u001b[0m | \u001b[0m 59.65   \u001b[0m | \u001b[0m 11.96   \u001b[0m |\n"
     ]
    },
    {
     "name": "stderr",
     "output_type": "stream",
     "text": [
      "/usr/local/lib/python3.7/dist-packages/lightgbm/engine.py:430: UserWarning:\n",
      "\n",
      "Found `num_iterations` in params. Will use it instead of argument\n",
      "\n",
      "/usr/local/lib/python3.7/dist-packages/lightgbm/engine.py:435: UserWarning:\n",
      "\n",
      "Found `early_stopping_round` in params. Will use it instead of argument\n",
      "\n"
     ]
    },
    {
     "name": "stdout",
     "output_type": "stream",
     "text": [
      "[200]\tcv_agg's rmse: 0.7716 + 0.145529\n",
      "| \u001b[0m 45      \u001b[0m | \u001b[0m-0.7364  \u001b[0m | \u001b[0m 0.9068  \u001b[0m | \u001b[0m 5.256   \u001b[0m | \u001b[0m 0.1168  \u001b[0m | \u001b[0m 0.5827  \u001b[0m | \u001b[0m 144.4   \u001b[0m | \u001b[0m 11.32   \u001b[0m |\n",
      "=================================================================================================\n",
      "training data shape: (3186, 7)\n",
      "testing data shape: (131, 7)\n",
      "Training until validation scores don't improve for 200 rounds.\n",
      "[200]\ttrain's l1: 0.0877876\ttrain's l2: 0.0162455\tvalid's l1: 0.488021\tvalid's l2: 0.384868\n",
      "Early stopping, best iteration is:\n",
      "[14]\ttrain's l1: 0.224218\ttrain's l2: 0.0832899\tvalid's l1: 0.46126\tvalid's l2: 0.369587\n",
      "Training until validation scores don't improve for 200 rounds.\n",
      "[200]\ttrain's l1: 0.0839313\ttrain's l2: 0.0152731\tvalid's l1: 0.449439\tvalid's l2: 0.35867\n",
      "Early stopping, best iteration is:\n",
      "[6]\ttrain's l1: 0.263411\ttrain's l2: 0.108954\tvalid's l1: 0.428214\tvalid's l2: 0.317566\n",
      "Training until validation scores don't improve for 200 rounds.\n",
      "[200]\ttrain's l1: 0.084882\ttrain's l2: 0.0151322\tvalid's l1: 0.462723\tvalid's l2: 0.359037\n",
      "Early stopping, best iteration is:\n",
      "[13]\ttrain's l1: 0.22527\ttrain's l2: 0.0817938\tvalid's l1: 0.444388\tvalid's l2: 0.326744\n",
      "Training until validation scores don't improve for 200 rounds.\n",
      "[200]\ttrain's l1: 0.0853737\ttrain's l2: 0.0157138\tvalid's l1: 0.467448\tvalid's l2: 0.364873\n",
      "Early stopping, best iteration is:\n",
      "[10]\ttrain's l1: 0.233328\ttrain's l2: 0.0885233\tvalid's l1: 0.452857\tvalid's l2: 0.344661\n",
      "Training until validation scores don't improve for 200 rounds.\n",
      "[200]\ttrain's l1: 0.0878225\ttrain's l2: 0.01656\tvalid's l1: 0.439742\tvalid's l2: 0.343623\n",
      "Early stopping, best iteration is:\n",
      "[105]\ttrain's l1: 0.123534\ttrain's l2: 0.0301756\tvalid's l1: 0.42296\tvalid's l2: 0.329672\n",
      "overall validation score\n",
      "0.44194191004836253\n",
      "|   iter    |  target   | baggin... | baggin... | featur... | learni... |  max_bin  | num_le... |\n",
      "-------------------------------------------------------------------------------------------------\n"
     ]
    },
    {
     "name": "stderr",
     "output_type": "stream",
     "text": [
      "/usr/local/lib/python3.7/dist-packages/lightgbm/engine.py:430: UserWarning:\n",
      "\n",
      "Found `num_iterations` in params. Will use it instead of argument\n",
      "\n",
      "/usr/local/lib/python3.7/dist-packages/lightgbm/engine.py:435: UserWarning:\n",
      "\n",
      "Found `early_stopping_round` in params. Will use it instead of argument\n",
      "\n"
     ]
    },
    {
     "name": "stdout",
     "output_type": "stream",
     "text": [
      "[200]\tcv_agg's rmse: 0.761112 + 0.174869\n",
      "| \u001b[0m 1       \u001b[0m | \u001b[0m-0.7185  \u001b[0m | \u001b[0m 0.8749  \u001b[0m | \u001b[0m 9.556   \u001b[0m | \u001b[0m 0.6856  \u001b[0m | \u001b[0m 0.6027  \u001b[0m | \u001b[0m 73.4    \u001b[0m | \u001b[0m 6.56    \u001b[0m |\n",
      "[200]\tcv_agg's rmse: 0.799407 + 0.185324\n",
      "| \u001b[0m 2       \u001b[0m | \u001b[0m-0.7625  \u001b[0m | \u001b[0m 0.8116  \u001b[0m | \u001b[0m 8.796   \u001b[0m | \u001b[0m 0.5809  \u001b[0m | \u001b[0m 0.711   \u001b[0m | \u001b[0m 53.09   \u001b[0m | \u001b[0m 14.7    \u001b[0m |\n",
      "[200]\tcv_agg's rmse: 0.729765 + 0.163184\n",
      "| \u001b[95m 3       \u001b[0m | \u001b[95m-0.7134  \u001b[0m | \u001b[95m 0.9665  \u001b[0m | \u001b[95m 2.911   \u001b[0m | \u001b[95m 0.2455  \u001b[0m | \u001b[95m 0.1916  \u001b[0m | \u001b[95m 95.64   \u001b[0m | \u001b[95m 10.25   \u001b[0m |\n",
      "[200]\tcv_agg's rmse: 0.717823 + 0.182651\n",
      "| \u001b[95m 4       \u001b[0m | \u001b[95m-0.6896  \u001b[0m | \u001b[95m 0.8864  \u001b[0m | \u001b[95m 3.621   \u001b[0m | \u001b[95m 0.5895  \u001b[0m | \u001b[95m 0.1481  \u001b[0m | \u001b[95m 93.82   \u001b[0m | \u001b[95m 8.664   \u001b[0m |\n",
      "[200]\tcv_agg's rmse: 0.741501 + 0.146674\n",
      "| \u001b[0m 5       \u001b[0m | \u001b[0m-0.7203  \u001b[0m | \u001b[0m 0.8912  \u001b[0m | \u001b[0m 8.067   \u001b[0m | \u001b[0m 0.2597  \u001b[0m | \u001b[0m 0.5191  \u001b[0m | \u001b[0m 138.9   \u001b[0m | \u001b[0m 5.465   \u001b[0m |\n",
      "[200]\tcv_agg's rmse: 0.804161 + 0.148454\n",
      "| \u001b[0m 6       \u001b[0m | \u001b[0m-0.7548  \u001b[0m | \u001b[0m 0.9215  \u001b[0m | \u001b[0m 2.535   \u001b[0m | \u001b[0m 0.152   \u001b[0m | \u001b[0m 0.9494  \u001b[0m | \u001b[0m 194.8   \u001b[0m | \u001b[0m 13.08   \u001b[0m |\n",
      "[200]\tcv_agg's rmse: 0.744177 + 0.172154\n",
      "| \u001b[0m 7       \u001b[0m | \u001b[0m-0.7258  \u001b[0m | \u001b[0m 0.8609  \u001b[0m | \u001b[0m 1.879   \u001b[0m | \u001b[0m 0.6474  \u001b[0m | \u001b[0m 0.4458  \u001b[0m | \u001b[0m 68.31   \u001b[0m | \u001b[0m 9.952   \u001b[0m |\n",
      "[200]\tcv_agg's rmse: 0.794781 + 0.163168\n",
      "| \u001b[0m 8       \u001b[0m | \u001b[0m-0.7418  \u001b[0m | \u001b[0m 0.8069  \u001b[0m | \u001b[0m 9.184   \u001b[0m | \u001b[0m 0.307   \u001b[0m | \u001b[0m 0.6659  \u001b[0m | \u001b[0m 96.76   \u001b[0m | \u001b[0m 10.2    \u001b[0m |\n",
      "[200]\tcv_agg's rmse: 0.799334 + 0.164661\n",
      "| \u001b[0m 9       \u001b[0m | \u001b[0m-0.72    \u001b[0m | \u001b[0m 0.9093  \u001b[0m | \u001b[0m 2.664   \u001b[0m | \u001b[0m 0.8757  \u001b[0m | \u001b[0m 0.7774  \u001b[0m | \u001b[0m 190.9   \u001b[0m | \u001b[0m 13.95   \u001b[0m |\n",
      "[200]\tcv_agg's rmse: 0.722376 + 0.166617\n",
      "| \u001b[0m 10      \u001b[0m | \u001b[0m-0.7115  \u001b[0m | \u001b[0m 0.9196  \u001b[0m | \u001b[0m 9.297   \u001b[0m | \u001b[0m 0.1708  \u001b[0m | \u001b[0m 0.204   \u001b[0m | \u001b[0m 56.78   \u001b[0m | \u001b[0m 8.253   \u001b[0m |\n",
      "[200]\tcv_agg's rmse: 0.729693 + 0.184115\n",
      "| \u001b[95m 11      \u001b[0m | \u001b[95m-0.6884  \u001b[0m | \u001b[95m 0.8777  \u001b[0m | \u001b[95m 3.442   \u001b[0m | \u001b[95m 0.763   \u001b[0m | \u001b[95m 0.3632  \u001b[0m | \u001b[95m 92.14   \u001b[0m | \u001b[95m 10.43   \u001b[0m |\n",
      "[200]\tcv_agg's rmse: 0.794494 + 0.131432\n",
      "| \u001b[0m 12      \u001b[0m | \u001b[0m-0.7513  \u001b[0m | \u001b[0m 0.8282  \u001b[0m | \u001b[0m 8.22    \u001b[0m | \u001b[0m 0.1596  \u001b[0m | \u001b[0m 0.987   \u001b[0m | \u001b[0m 165.8   \u001b[0m | \u001b[0m 6.987   \u001b[0m |\n",
      "[200]\tcv_agg's rmse: 0.752156 + 0.174833\n",
      "| \u001b[0m 13      \u001b[0m | \u001b[0m-0.7253  \u001b[0m | \u001b[0m 0.8011  \u001b[0m | \u001b[0m 8.339   \u001b[0m | \u001b[0m 0.6655  \u001b[0m | \u001b[0m 0.7317  \u001b[0m | \u001b[0m 165.7   \u001b[0m | \u001b[0m 5.74    \u001b[0m |\n",
      "[200]\tcv_agg's rmse: 0.750687 + 0.151352\n",
      "| \u001b[0m 14      \u001b[0m | \u001b[0m-0.717   \u001b[0m | \u001b[0m 0.8717  \u001b[0m | \u001b[0m 2.043   \u001b[0m | \u001b[0m 0.7905  \u001b[0m | \u001b[0m 0.6271  \u001b[0m | \u001b[0m 99.63   \u001b[0m | \u001b[0m 5.636   \u001b[0m |\n",
      "[200]\tcv_agg's rmse: 0.781578 + 0.16993\n",
      "| \u001b[0m 15      \u001b[0m | \u001b[0m-0.737   \u001b[0m | \u001b[0m 0.8622  \u001b[0m | \u001b[0m 3.927   \u001b[0m | \u001b[0m 0.6837  \u001b[0m | \u001b[0m 0.6412  \u001b[0m | \u001b[0m 183.1   \u001b[0m | \u001b[0m 9.722   \u001b[0m |\n",
      "[200]\tcv_agg's rmse: 0.793185 + 0.204943\n",
      "| \u001b[0m 16      \u001b[0m | \u001b[0m-0.7407  \u001b[0m | \u001b[0m 0.8239  \u001b[0m | \u001b[0m 7.419   \u001b[0m | \u001b[0m 0.7086  \u001b[0m | \u001b[0m 0.5657  \u001b[0m | \u001b[0m 165.6   \u001b[0m | \u001b[0m 9.938   \u001b[0m |\n",
      "[200]\tcv_agg's rmse: 0.724142 + 0.160759\n",
      "| \u001b[0m 17      \u001b[0m | \u001b[0m-0.7193  \u001b[0m | \u001b[0m 0.9045  \u001b[0m | \u001b[0m 4.848   \u001b[0m | \u001b[0m 0.1203  \u001b[0m | \u001b[0m 0.1168  \u001b[0m | \u001b[0m 54.71   \u001b[0m | \u001b[0m 11.36   \u001b[0m |\n",
      "[200]\tcv_agg's rmse: 0.720246 + 0.183074\n",
      "| \u001b[0m 18      \u001b[0m | \u001b[0m-0.6962  \u001b[0m | \u001b[0m 0.8629  \u001b[0m | \u001b[0m 5.577   \u001b[0m | \u001b[0m 0.8261  \u001b[0m | \u001b[0m 0.2568  \u001b[0m | \u001b[0m 111.6   \u001b[0m | \u001b[0m 12.56   \u001b[0m |\n",
      "[200]\tcv_agg's rmse: 0.719182 + 0.15833\n",
      "| \u001b[0m 19      \u001b[0m | \u001b[0m-0.6969  \u001b[0m | \u001b[0m 0.8458  \u001b[0m | \u001b[0m 1.693   \u001b[0m | \u001b[0m 0.3318  \u001b[0m | \u001b[0m 0.1696  \u001b[0m | \u001b[0m 189.5   \u001b[0m | \u001b[0m 13.08   \u001b[0m |\n",
      "[200]\tcv_agg's rmse: 0.693696 + 0.179637\n",
      "| \u001b[95m 20      \u001b[0m | \u001b[95m-0.6838  \u001b[0m | \u001b[95m 0.9267  \u001b[0m | \u001b[95m 8.843   \u001b[0m | \u001b[95m 0.7429  \u001b[0m | \u001b[95m 0.1947  \u001b[0m | \u001b[95m 183.9   \u001b[0m | \u001b[95m 10.39   \u001b[0m |\n"
     ]
    },
    {
     "name": "stderr",
     "output_type": "stream",
     "text": [
      "/usr/local/lib/python3.7/dist-packages/lightgbm/engine.py:430: UserWarning:\n",
      "\n",
      "Found `num_iterations` in params. Will use it instead of argument\n",
      "\n",
      "/usr/local/lib/python3.7/dist-packages/lightgbm/engine.py:435: UserWarning:\n",
      "\n",
      "Found `early_stopping_round` in params. Will use it instead of argument\n",
      "\n"
     ]
    },
    {
     "name": "stdout",
     "output_type": "stream",
     "text": [
      "[200]\tcv_agg's rmse: 0.710343 + 0.179876\n",
      "| \u001b[0m 21      \u001b[0m | \u001b[0m-0.6926  \u001b[0m | \u001b[0m 0.8722  \u001b[0m | \u001b[0m 3.414   \u001b[0m | \u001b[0m 0.758   \u001b[0m | \u001b[0m 0.2371  \u001b[0m | \u001b[0m 92.49   \u001b[0m | \u001b[0m 9.122   \u001b[0m |\n"
     ]
    },
    {
     "name": "stderr",
     "output_type": "stream",
     "text": [
      "/usr/local/lib/python3.7/dist-packages/lightgbm/engine.py:430: UserWarning:\n",
      "\n",
      "Found `num_iterations` in params. Will use it instead of argument\n",
      "\n",
      "/usr/local/lib/python3.7/dist-packages/lightgbm/engine.py:435: UserWarning:\n",
      "\n",
      "Found `early_stopping_round` in params. Will use it instead of argument\n",
      "\n"
     ]
    },
    {
     "name": "stdout",
     "output_type": "stream",
     "text": [
      "[200]\tcv_agg's rmse: 0.717267 + 0.164742\n",
      "| \u001b[0m 22      \u001b[0m | \u001b[0m-0.6906  \u001b[0m | \u001b[0m 0.8668  \u001b[0m | \u001b[0m 9.38    \u001b[0m | \u001b[0m 0.4865  \u001b[0m | \u001b[0m 0.223   \u001b[0m | \u001b[0m 184.6   \u001b[0m | \u001b[0m 10.72   \u001b[0m |\n"
     ]
    },
    {
     "name": "stderr",
     "output_type": "stream",
     "text": [
      "/usr/local/lib/python3.7/dist-packages/lightgbm/engine.py:430: UserWarning:\n",
      "\n",
      "Found `num_iterations` in params. Will use it instead of argument\n",
      "\n",
      "/usr/local/lib/python3.7/dist-packages/lightgbm/engine.py:435: UserWarning:\n",
      "\n",
      "Found `early_stopping_round` in params. Will use it instead of argument\n",
      "\n"
     ]
    },
    {
     "name": "stdout",
     "output_type": "stream",
     "text": [
      "[200]\tcv_agg's rmse: 0.720138 + 0.172833\n",
      "[400]\tcv_agg's rmse: 0.691703 + 0.17853\n",
      "[600]\tcv_agg's rmse: 0.68427 + 0.180425\n",
      "[800]\tcv_agg's rmse: 0.683509 + 0.180152\n",
      "| \u001b[95m 23      \u001b[0m | \u001b[95m-0.6818  \u001b[0m | \u001b[95m 1.0     \u001b[0m | \u001b[95m 9.609   \u001b[0m | \u001b[95m 0.9     \u001b[0m | \u001b[95m 0.01    \u001b[0m | \u001b[95m 183.0   \u001b[0m | \u001b[95m 10.07   \u001b[0m |\n"
     ]
    },
    {
     "name": "stderr",
     "output_type": "stream",
     "text": [
      "/usr/local/lib/python3.7/dist-packages/lightgbm/engine.py:430: UserWarning:\n",
      "\n",
      "Found `num_iterations` in params. Will use it instead of argument\n",
      "\n",
      "/usr/local/lib/python3.7/dist-packages/lightgbm/engine.py:435: UserWarning:\n",
      "\n",
      "Found `early_stopping_round` in params. Will use it instead of argument\n",
      "\n"
     ]
    },
    {
     "name": "stdout",
     "output_type": "stream",
     "text": [
      "[200]\tcv_agg's rmse: 0.701275 + 0.188058\n",
      "| \u001b[95m 24      \u001b[0m | \u001b[95m-0.6663  \u001b[0m | \u001b[95m 1.0     \u001b[0m | \u001b[95m 9.32    \u001b[0m | \u001b[95m 0.9     \u001b[0m | \u001b[95m 0.2764  \u001b[0m | \u001b[95m 183.6   \u001b[0m | \u001b[95m 8.928   \u001b[0m |\n"
     ]
    },
    {
     "name": "stderr",
     "output_type": "stream",
     "text": [
      "/usr/local/lib/python3.7/dist-packages/lightgbm/engine.py:430: UserWarning:\n",
      "\n",
      "Found `num_iterations` in params. Will use it instead of argument\n",
      "\n",
      "/usr/local/lib/python3.7/dist-packages/lightgbm/engine.py:435: UserWarning:\n",
      "\n",
      "Found `early_stopping_round` in params. Will use it instead of argument\n",
      "\n"
     ]
    },
    {
     "name": "stdout",
     "output_type": "stream",
     "text": [
      "[200]\tcv_agg's rmse: 0.735623 + 0.169444\n",
      "[400]\tcv_agg's rmse: 0.698005 + 0.179508\n",
      "[600]\tcv_agg's rmse: 0.691341 + 0.18011\n",
      "[800]\tcv_agg's rmse: 0.687949 + 0.18163\n",
      "| \u001b[0m 25      \u001b[0m | \u001b[0m-0.6878  \u001b[0m | \u001b[0m 1.0     \u001b[0m | \u001b[0m 9.48    \u001b[0m | \u001b[0m 0.9     \u001b[0m | \u001b[0m 0.01    \u001b[0m | \u001b[0m 183.9   \u001b[0m | \u001b[0m 7.806   \u001b[0m |\n"
     ]
    },
    {
     "name": "stderr",
     "output_type": "stream",
     "text": [
      "/usr/local/lib/python3.7/dist-packages/lightgbm/engine.py:430: UserWarning:\n",
      "\n",
      "Found `num_iterations` in params. Will use it instead of argument\n",
      "\n",
      "/usr/local/lib/python3.7/dist-packages/lightgbm/engine.py:435: UserWarning:\n",
      "\n",
      "Found `early_stopping_round` in params. Will use it instead of argument\n",
      "\n"
     ]
    },
    {
     "name": "stdout",
     "output_type": "stream",
     "text": [
      "[200]\tcv_agg's rmse: 0.789226 + 0.175559\n",
      "| \u001b[0m 26      \u001b[0m | \u001b[0m-0.7226  \u001b[0m | \u001b[0m 0.966   \u001b[0m | \u001b[0m 8.865   \u001b[0m | \u001b[0m 0.6393  \u001b[0m | \u001b[0m 0.9036  \u001b[0m | \u001b[0m 183.6   \u001b[0m | \u001b[0m 8.498   \u001b[0m |\n"
     ]
    },
    {
     "name": "stderr",
     "output_type": "stream",
     "text": [
      "/usr/local/lib/python3.7/dist-packages/lightgbm/engine.py:430: UserWarning:\n",
      "\n",
      "Found `num_iterations` in params. Will use it instead of argument\n",
      "\n",
      "/usr/local/lib/python3.7/dist-packages/lightgbm/engine.py:435: UserWarning:\n",
      "\n",
      "Found `early_stopping_round` in params. Will use it instead of argument\n",
      "\n"
     ]
    },
    {
     "name": "stdout",
     "output_type": "stream",
     "text": [
      "[200]\tcv_agg's rmse: 0.695475 + 0.171115\n",
      "| \u001b[0m 27      \u001b[0m | \u001b[0m-0.6889  \u001b[0m | \u001b[0m 0.9857  \u001b[0m | \u001b[0m 9.369   \u001b[0m | \u001b[0m 0.3358  \u001b[0m | \u001b[0m 0.15    \u001b[0m | \u001b[0m 184.3   \u001b[0m | \u001b[0m 9.355   \u001b[0m |\n"
     ]
    },
    {
     "name": "stderr",
     "output_type": "stream",
     "text": [
      "/usr/local/lib/python3.7/dist-packages/lightgbm/engine.py:430: UserWarning:\n",
      "\n",
      "Found `num_iterations` in params. Will use it instead of argument\n",
      "\n",
      "/usr/local/lib/python3.7/dist-packages/lightgbm/engine.py:435: UserWarning:\n",
      "\n",
      "Found `early_stopping_round` in params. Will use it instead of argument\n",
      "\n"
     ]
    },
    {
     "name": "stdout",
     "output_type": "stream",
     "text": [
      "[200]\tcv_agg's rmse: 0.724256 + 0.172572\n",
      "| \u001b[0m 28      \u001b[0m | \u001b[0m-0.7057  \u001b[0m | \u001b[0m 0.8517  \u001b[0m | \u001b[0m 9.543   \u001b[0m | \u001b[0m 0.6909  \u001b[0m | \u001b[0m 0.3769  \u001b[0m | \u001b[0m 183.4   \u001b[0m | \u001b[0m 8.822   \u001b[0m |\n"
     ]
    },
    {
     "name": "stderr",
     "output_type": "stream",
     "text": [
      "/usr/local/lib/python3.7/dist-packages/lightgbm/engine.py:430: UserWarning:\n",
      "\n",
      "Found `num_iterations` in params. Will use it instead of argument\n",
      "\n",
      "/usr/local/lib/python3.7/dist-packages/lightgbm/engine.py:435: UserWarning:\n",
      "\n",
      "Found `early_stopping_round` in params. Will use it instead of argument\n",
      "\n"
     ]
    },
    {
     "name": "stdout",
     "output_type": "stream",
     "text": [
      "[200]\tcv_agg's rmse: 0.759537 + 0.13702\n",
      "| \u001b[0m 29      \u001b[0m | \u001b[0m-0.7069  \u001b[0m | \u001b[0m 0.915   \u001b[0m | \u001b[0m 9.535   \u001b[0m | \u001b[0m 0.8998  \u001b[0m | \u001b[0m 0.8522  \u001b[0m | \u001b[0m 184.3   \u001b[0m | \u001b[0m 9.564   \u001b[0m |\n"
     ]
    },
    {
     "name": "stderr",
     "output_type": "stream",
     "text": [
      "/usr/local/lib/python3.7/dist-packages/lightgbm/engine.py:430: UserWarning:\n",
      "\n",
      "Found `num_iterations` in params. Will use it instead of argument\n",
      "\n",
      "/usr/local/lib/python3.7/dist-packages/lightgbm/engine.py:435: UserWarning:\n",
      "\n",
      "Found `early_stopping_round` in params. Will use it instead of argument\n",
      "\n"
     ]
    },
    {
     "name": "stdout",
     "output_type": "stream",
     "text": [
      "[200]\tcv_agg's rmse: 0.807599 + 0.16638\n",
      "| \u001b[0m 30      \u001b[0m | \u001b[0m-0.7372  \u001b[0m | \u001b[0m 0.9751  \u001b[0m | \u001b[0m 4.011   \u001b[0m | \u001b[0m 0.3688  \u001b[0m | \u001b[0m 0.9414  \u001b[0m | \u001b[0m 132.1   \u001b[0m | \u001b[0m 7.241   \u001b[0m |\n"
     ]
    },
    {
     "name": "stderr",
     "output_type": "stream",
     "text": [
      "/usr/local/lib/python3.7/dist-packages/lightgbm/engine.py:430: UserWarning:\n",
      "\n",
      "Found `num_iterations` in params. Will use it instead of argument\n",
      "\n",
      "/usr/local/lib/python3.7/dist-packages/lightgbm/engine.py:435: UserWarning:\n",
      "\n",
      "Found `early_stopping_round` in params. Will use it instead of argument\n",
      "\n"
     ]
    },
    {
     "name": "stdout",
     "output_type": "stream",
     "text": [
      "[200]\tcv_agg's rmse: 0.720295 + 0.17496\n",
      "| \u001b[0m 31      \u001b[0m | \u001b[0m-0.7034  \u001b[0m | \u001b[0m 0.902   \u001b[0m | \u001b[0m 9.844   \u001b[0m | \u001b[0m 0.6547  \u001b[0m | \u001b[0m 0.3177  \u001b[0m | \u001b[0m 183.7   \u001b[0m | \u001b[0m 10.07   \u001b[0m |\n"
     ]
    },
    {
     "name": "stderr",
     "output_type": "stream",
     "text": [
      "/usr/local/lib/python3.7/dist-packages/lightgbm/engine.py:430: UserWarning:\n",
      "\n",
      "Found `num_iterations` in params. Will use it instead of argument\n",
      "\n",
      "/usr/local/lib/python3.7/dist-packages/lightgbm/engine.py:435: UserWarning:\n",
      "\n",
      "Found `early_stopping_round` in params. Will use it instead of argument\n",
      "\n"
     ]
    },
    {
     "name": "stdout",
     "output_type": "stream",
     "text": [
      "[200]\tcv_agg's rmse: 0.710704 + 0.177608\n",
      "| \u001b[0m 32      \u001b[0m | \u001b[0m-0.6869  \u001b[0m | \u001b[0m 0.8525  \u001b[0m | \u001b[0m 9.772   \u001b[0m | \u001b[0m 0.576   \u001b[0m | \u001b[0m 0.2243  \u001b[0m | \u001b[0m 184.4   \u001b[0m | \u001b[0m 8.473   \u001b[0m |\n"
     ]
    },
    {
     "name": "stderr",
     "output_type": "stream",
     "text": [
      "/usr/local/lib/python3.7/dist-packages/lightgbm/engine.py:430: UserWarning:\n",
      "\n",
      "Found `num_iterations` in params. Will use it instead of argument\n",
      "\n",
      "/usr/local/lib/python3.7/dist-packages/lightgbm/engine.py:435: UserWarning:\n",
      "\n",
      "Found `early_stopping_round` in params. Will use it instead of argument\n",
      "\n"
     ]
    },
    {
     "name": "stdout",
     "output_type": "stream",
     "text": [
      "[200]\tcv_agg's rmse: 0.722731 + 0.176583\n",
      "| \u001b[0m 33      \u001b[0m | \u001b[0m-0.6855  \u001b[0m | \u001b[0m 0.9293  \u001b[0m | \u001b[0m 8.576   \u001b[0m | \u001b[0m 0.4745  \u001b[0m | \u001b[0m 0.3676  \u001b[0m | \u001b[0m 183.8   \u001b[0m | \u001b[0m 9.544   \u001b[0m |\n"
     ]
    },
    {
     "name": "stderr",
     "output_type": "stream",
     "text": [
      "/usr/local/lib/python3.7/dist-packages/lightgbm/engine.py:430: UserWarning:\n",
      "\n",
      "Found `num_iterations` in params. Will use it instead of argument\n",
      "\n",
      "/usr/local/lib/python3.7/dist-packages/lightgbm/engine.py:435: UserWarning:\n",
      "\n",
      "Found `early_stopping_round` in params. Will use it instead of argument\n",
      "\n"
     ]
    },
    {
     "name": "stdout",
     "output_type": "stream",
     "text": [
      "[200]\tcv_agg's rmse: 0.739913 + 0.187885\n",
      "| \u001b[0m 34      \u001b[0m | \u001b[0m-0.6979  \u001b[0m | \u001b[0m 0.9148  \u001b[0m | \u001b[0m 8.609   \u001b[0m | \u001b[0m 0.7737  \u001b[0m | \u001b[0m 0.3414  \u001b[0m | \u001b[0m 184.3   \u001b[0m | \u001b[0m 9.927   \u001b[0m |\n"
     ]
    },
    {
     "name": "stderr",
     "output_type": "stream",
     "text": [
      "/usr/local/lib/python3.7/dist-packages/lightgbm/engine.py:430: UserWarning:\n",
      "\n",
      "Found `num_iterations` in params. Will use it instead of argument\n",
      "\n",
      "/usr/local/lib/python3.7/dist-packages/lightgbm/engine.py:435: UserWarning:\n",
      "\n",
      "Found `early_stopping_round` in params. Will use it instead of argument\n",
      "\n"
     ]
    },
    {
     "name": "stdout",
     "output_type": "stream",
     "text": [
      "[200]\tcv_agg's rmse: 0.684986 + 0.184798\n",
      "| \u001b[0m 35      \u001b[0m | \u001b[0m-0.6812  \u001b[0m | \u001b[0m 0.8966  \u001b[0m | \u001b[0m 3.05    \u001b[0m | \u001b[0m 0.6271  \u001b[0m | \u001b[0m 0.08545 \u001b[0m | \u001b[0m 92.55   \u001b[0m | \u001b[0m 10.15   \u001b[0m |\n"
     ]
    },
    {
     "name": "stderr",
     "output_type": "stream",
     "text": [
      "/usr/local/lib/python3.7/dist-packages/lightgbm/engine.py:430: UserWarning:\n",
      "\n",
      "Found `num_iterations` in params. Will use it instead of argument\n",
      "\n",
      "/usr/local/lib/python3.7/dist-packages/lightgbm/engine.py:435: UserWarning:\n",
      "\n",
      "Found `early_stopping_round` in params. Will use it instead of argument\n",
      "\n"
     ]
    },
    {
     "name": "stdout",
     "output_type": "stream",
     "text": [
      "[200]\tcv_agg's rmse: 0.733789 + 0.185734\n",
      "| \u001b[0m 36      \u001b[0m | \u001b[0m-0.6897  \u001b[0m | \u001b[0m 0.9923  \u001b[0m | \u001b[0m 9.018   \u001b[0m | \u001b[0m 0.855   \u001b[0m | \u001b[0m 0.3406  \u001b[0m | \u001b[0m 183.2   \u001b[0m | \u001b[0m 9.478   \u001b[0m |\n"
     ]
    },
    {
     "name": "stderr",
     "output_type": "stream",
     "text": [
      "/usr/local/lib/python3.7/dist-packages/lightgbm/engine.py:430: UserWarning:\n",
      "\n",
      "Found `num_iterations` in params. Will use it instead of argument\n",
      "\n",
      "/usr/local/lib/python3.7/dist-packages/lightgbm/engine.py:435: UserWarning:\n",
      "\n",
      "Found `early_stopping_round` in params. Will use it instead of argument\n",
      "\n"
     ]
    },
    {
     "name": "stdout",
     "output_type": "stream",
     "text": [
      "[200]\tcv_agg's rmse: 0.687822 + 0.178123\n",
      "| \u001b[0m 37      \u001b[0m | \u001b[0m-0.682   \u001b[0m | \u001b[0m 0.997   \u001b[0m | \u001b[0m 8.981   \u001b[0m | \u001b[0m 0.8016  \u001b[0m | \u001b[0m 0.091   \u001b[0m | \u001b[0m 184.8   \u001b[0m | \u001b[0m 8.76    \u001b[0m |\n"
     ]
    },
    {
     "name": "stderr",
     "output_type": "stream",
     "text": [
      "/usr/local/lib/python3.7/dist-packages/lightgbm/engine.py:430: UserWarning:\n",
      "\n",
      "Found `num_iterations` in params. Will use it instead of argument\n",
      "\n",
      "/usr/local/lib/python3.7/dist-packages/lightgbm/engine.py:435: UserWarning:\n",
      "\n",
      "Found `early_stopping_round` in params. Will use it instead of argument\n",
      "\n"
     ]
    },
    {
     "name": "stdout",
     "output_type": "stream",
     "text": [
      "[200]\tcv_agg's rmse: 0.680822 + 0.185687\n",
      "[400]\tcv_agg's rmse: 0.682064 + 0.181068\n",
      "| \u001b[0m 38      \u001b[0m | \u001b[0m-0.6792  \u001b[0m | \u001b[0m 0.8664  \u001b[0m | \u001b[0m 8.674   \u001b[0m | \u001b[0m 0.7892  \u001b[0m | \u001b[0m 0.05515 \u001b[0m | \u001b[0m 183.9   \u001b[0m | \u001b[0m 8.134   \u001b[0m |\n"
     ]
    },
    {
     "name": "stderr",
     "output_type": "stream",
     "text": [
      "/usr/local/lib/python3.7/dist-packages/lightgbm/engine.py:430: UserWarning:\n",
      "\n",
      "Found `num_iterations` in params. Will use it instead of argument\n",
      "\n",
      "/usr/local/lib/python3.7/dist-packages/lightgbm/engine.py:435: UserWarning:\n",
      "\n",
      "Found `early_stopping_round` in params. Will use it instead of argument\n",
      "\n"
     ]
    },
    {
     "name": "stdout",
     "output_type": "stream",
     "text": [
      "[200]\tcv_agg's rmse: 0.682506 + 0.173124\n",
      "[400]\tcv_agg's rmse: 0.684957 + 0.170887\n",
      "| \u001b[0m 39      \u001b[0m | \u001b[0m-0.6804  \u001b[0m | \u001b[0m 0.9308  \u001b[0m | \u001b[0m 2.884   \u001b[0m | \u001b[0m 0.3241  \u001b[0m | \u001b[0m 0.04166 \u001b[0m | \u001b[0m 93.47   \u001b[0m | \u001b[0m 9.411   \u001b[0m |\n"
     ]
    },
    {
     "name": "stderr",
     "output_type": "stream",
     "text": [
      "/usr/local/lib/python3.7/dist-packages/lightgbm/engine.py:430: UserWarning:\n",
      "\n",
      "Found `num_iterations` in params. Will use it instead of argument\n",
      "\n",
      "/usr/local/lib/python3.7/dist-packages/lightgbm/engine.py:435: UserWarning:\n",
      "\n",
      "Found `early_stopping_round` in params. Will use it instead of argument\n",
      "\n"
     ]
    },
    {
     "name": "stdout",
     "output_type": "stream",
     "text": [
      "[200]\tcv_agg's rmse: 0.731232 + 0.171342\n",
      "[400]\tcv_agg's rmse: 0.697231 + 0.17905\n",
      "[600]\tcv_agg's rmse: 0.687991 + 0.181687\n",
      "[800]\tcv_agg's rmse: 0.687715 + 0.180102\n",
      "| \u001b[0m 40      \u001b[0m | \u001b[0m-0.6865  \u001b[0m | \u001b[0m 1.0     \u001b[0m | \u001b[0m 9.141   \u001b[0m | \u001b[0m 0.9     \u001b[0m | \u001b[0m 0.01    \u001b[0m | \u001b[0m 183.9   \u001b[0m | \u001b[0m 8.93    \u001b[0m |\n"
     ]
    },
    {
     "name": "stderr",
     "output_type": "stream",
     "text": [
      "/usr/local/lib/python3.7/dist-packages/lightgbm/engine.py:430: UserWarning:\n",
      "\n",
      "Found `num_iterations` in params. Will use it instead of argument\n",
      "\n",
      "/usr/local/lib/python3.7/dist-packages/lightgbm/engine.py:435: UserWarning:\n",
      "\n",
      "Found `early_stopping_round` in params. Will use it instead of argument\n",
      "\n"
     ]
    },
    {
     "name": "stdout",
     "output_type": "stream",
     "text": [
      "[200]\tcv_agg's rmse: 0.726662 + 0.164076\n",
      "| \u001b[0m 41      \u001b[0m | \u001b[0m-0.7176  \u001b[0m | \u001b[0m 0.8556  \u001b[0m | \u001b[0m 9.273   \u001b[0m | \u001b[0m 0.1881  \u001b[0m | \u001b[0m 0.2021  \u001b[0m | \u001b[0m 184.2   \u001b[0m | \u001b[0m 9.122   \u001b[0m |\n"
     ]
    },
    {
     "name": "stderr",
     "output_type": "stream",
     "text": [
      "/usr/local/lib/python3.7/dist-packages/lightgbm/engine.py:430: UserWarning:\n",
      "\n",
      "Found `num_iterations` in params. Will use it instead of argument\n",
      "\n",
      "/usr/local/lib/python3.7/dist-packages/lightgbm/engine.py:435: UserWarning:\n",
      "\n",
      "Found `early_stopping_round` in params. Will use it instead of argument\n",
      "\n"
     ]
    },
    {
     "name": "stdout",
     "output_type": "stream",
     "text": [
      "[200]\tcv_agg's rmse: 0.72868 + 0.162676\n",
      "| \u001b[0m 42      \u001b[0m | \u001b[0m-0.7128  \u001b[0m | \u001b[0m 0.9938  \u001b[0m | \u001b[0m 9.607   \u001b[0m | \u001b[0m 0.1986  \u001b[0m | \u001b[0m 0.2081  \u001b[0m | \u001b[0m 184.4   \u001b[0m | \u001b[0m 9.779   \u001b[0m |\n"
     ]
    },
    {
     "name": "stderr",
     "output_type": "stream",
     "text": [
      "/usr/local/lib/python3.7/dist-packages/lightgbm/engine.py:430: UserWarning:\n",
      "\n",
      "Found `num_iterations` in params. Will use it instead of argument\n",
      "\n",
      "/usr/local/lib/python3.7/dist-packages/lightgbm/engine.py:435: UserWarning:\n",
      "\n",
      "Found `early_stopping_round` in params. Will use it instead of argument\n",
      "\n"
     ]
    },
    {
     "name": "stdout",
     "output_type": "stream",
     "text": [
      "[200]\tcv_agg's rmse: 0.73767 + 0.14261\n",
      "[400]\tcv_agg's rmse: 0.700348 + 0.159876\n",
      "[600]\tcv_agg's rmse: 0.690967 + 0.167487\n",
      "[800]\tcv_agg's rmse: 0.689536 + 0.169059\n",
      "| \u001b[0m 43      \u001b[0m | \u001b[0m-0.6885  \u001b[0m | \u001b[0m 0.8197  \u001b[0m | \u001b[0m 3.226   \u001b[0m | \u001b[0m 0.289   \u001b[0m | \u001b[0m 0.01207 \u001b[0m | \u001b[0m 93.26   \u001b[0m | \u001b[0m 9.927   \u001b[0m |\n"
     ]
    },
    {
     "name": "stderr",
     "output_type": "stream",
     "text": [
      "/usr/local/lib/python3.7/dist-packages/lightgbm/engine.py:430: UserWarning:\n",
      "\n",
      "Found `num_iterations` in params. Will use it instead of argument\n",
      "\n",
      "/usr/local/lib/python3.7/dist-packages/lightgbm/engine.py:435: UserWarning:\n",
      "\n",
      "Found `early_stopping_round` in params. Will use it instead of argument\n",
      "\n"
     ]
    },
    {
     "name": "stdout",
     "output_type": "stream",
     "text": [
      "[200]\tcv_agg's rmse: 0.903345 + 0.183213\n",
      "| \u001b[0m 44      \u001b[0m | \u001b[0m-0.7723  \u001b[0m | \u001b[0m 0.8131  \u001b[0m | \u001b[0m 3.863   \u001b[0m | \u001b[0m 0.4464  \u001b[0m | \u001b[0m 0.9987  \u001b[0m | \u001b[0m 59.65   \u001b[0m | \u001b[0m 11.96   \u001b[0m |\n"
     ]
    },
    {
     "name": "stderr",
     "output_type": "stream",
     "text": [
      "/usr/local/lib/python3.7/dist-packages/lightgbm/engine.py:430: UserWarning:\n",
      "\n",
      "Found `num_iterations` in params. Will use it instead of argument\n",
      "\n",
      "/usr/local/lib/python3.7/dist-packages/lightgbm/engine.py:435: UserWarning:\n",
      "\n",
      "Found `early_stopping_round` in params. Will use it instead of argument\n",
      "\n"
     ]
    },
    {
     "name": "stdout",
     "output_type": "stream",
     "text": [
      "[200]\tcv_agg's rmse: 0.7716 + 0.145529\n",
      "| \u001b[0m 45      \u001b[0m | \u001b[0m-0.7364  \u001b[0m | \u001b[0m 0.9068  \u001b[0m | \u001b[0m 5.256   \u001b[0m | \u001b[0m 0.1168  \u001b[0m | \u001b[0m 0.5827  \u001b[0m | \u001b[0m 144.4   \u001b[0m | \u001b[0m 11.32   \u001b[0m |\n",
      "=================================================================================================\n",
      "training data shape: (1080, 7)\n",
      "testing data shape: (2237, 7)\n",
      "Training until validation scores don't improve for 200 rounds.\n",
      "[200]\ttrain's l1: 0.226989\ttrain's l2: 0.148616\tvalid's l1: 1.00874\tvalid's l2: 1.37751\n",
      "Early stopping, best iteration is:\n",
      "[1]\ttrain's l1: 0.561655\ttrain's l2: 0.608707\tvalid's l1: 0.667029\tvalid's l2: 0.827827\n",
      "Training until validation scores don't improve for 200 rounds.\n",
      "[200]\ttrain's l1: 0.216554\ttrain's l2: 0.141209\tvalid's l1: 0.811939\tvalid's l2: 1.17254\n",
      "Early stopping, best iteration is:\n",
      "[1]\ttrain's l1: 0.565744\ttrain's l2: 0.61024\tvalid's l1: 0.648249\tvalid's l2: 0.749859\n",
      "Training until validation scores don't improve for 200 rounds.\n",
      "[200]\ttrain's l1: 0.226315\ttrain's l2: 0.14318\tvalid's l1: 0.84523\tvalid's l2: 1.11917\n",
      "Early stopping, best iteration is:\n",
      "[1]\ttrain's l1: 0.572805\ttrain's l2: 0.618412\tvalid's l1: 0.713905\tvalid's l2: 0.773885\n",
      "Training until validation scores don't improve for 200 rounds.\n",
      "[200]\ttrain's l1: 0.232632\ttrain's l2: 0.155648\tvalid's l1: 0.773394\tvalid's l2: 1.01565\n",
      "Early stopping, best iteration is:\n",
      "[14]\ttrain's l1: 0.407098\ttrain's l2: 0.332357\tvalid's l1: 0.735072\tvalid's l2: 0.808666\n",
      "Training until validation scores don't improve for 200 rounds.\n",
      "[200]\ttrain's l1: 0.214723\ttrain's l2: 0.129314\tvalid's l1: 0.748633\tvalid's l2: 0.97843\n",
      "Early stopping, best iteration is:\n",
      "[14]\ttrain's l1: 0.376384\ttrain's l2: 0.297999\tvalid's l1: 0.639814\tvalid's l2: 0.7284\n",
      "overall validation score\n",
      "0.6808139978131396\n"
     ]
    }
   ],
   "source": [
    "# get data for scores for rfr_score and drr_score\n",
    "drr_score_predict = prediction(water_score, 'drr_score', 'data')\n",
    "gtd_score_predict = prediction(water_score, 'gtd_score', 'data')"
   ]
  },
  {
   "cell_type": "code",
   "execution_count": 27,
   "metadata": {
    "colab": {
     "base_uri": "https://localhost:8080/",
     "height": 424
    },
    "executionInfo": {
     "elapsed": 15,
     "status": "ok",
     "timestamp": 1654352444340,
     "user": {
      "displayName": "Eva Rolland",
      "userId": "01449613398367393128"
     },
     "user_tz": -120
    },
    "id": "Rp46LRbOCCrX",
    "outputId": "33f3fb62-ca19-4419-8e4a-97cf55255cbb"
   },
   "outputs": [
    {
     "data": {
      "text/html": [
       "\n",
       "  <div id=\"df-8e23fd1b-54c0-4c9b-b16c-eb0eeb5316e3\">\n",
       "    <div class=\"colab-df-container\">\n",
       "      <div>\n",
       "<style scoped>\n",
       "    .dataframe tbody tr th:only-of-type {\n",
       "        vertical-align: middle;\n",
       "    }\n",
       "\n",
       "    .dataframe tbody tr th {\n",
       "        vertical-align: top;\n",
       "    }\n",
       "\n",
       "    .dataframe thead th {\n",
       "        text-align: right;\n",
       "    }\n",
       "</style>\n",
       "<table border=\"1\" class=\"dataframe\">\n",
       "  <thead>\n",
       "    <tr style=\"text-align: right;\">\n",
       "      <th></th>\n",
       "      <th>state</th>\n",
       "      <th>aq30_id</th>\n",
       "      <th>prediction</th>\n",
       "    </tr>\n",
       "  </thead>\n",
       "  <tbody>\n",
       "    <tr>\n",
       "      <th>0</th>\n",
       "      <td>AK</td>\n",
       "      <td>59662</td>\n",
       "      <td>1.910036</td>\n",
       "    </tr>\n",
       "    <tr>\n",
       "      <th>1</th>\n",
       "      <td>AK</td>\n",
       "      <td>59661</td>\n",
       "      <td>1.910036</td>\n",
       "    </tr>\n",
       "    <tr>\n",
       "      <th>2</th>\n",
       "      <td>AK</td>\n",
       "      <td>59652</td>\n",
       "      <td>1.541879</td>\n",
       "    </tr>\n",
       "    <tr>\n",
       "      <th>3</th>\n",
       "      <td>AK</td>\n",
       "      <td>59651</td>\n",
       "      <td>1.541879</td>\n",
       "    </tr>\n",
       "    <tr>\n",
       "      <th>4</th>\n",
       "      <td>AK</td>\n",
       "      <td>59648</td>\n",
       "      <td>1.961671</td>\n",
       "    </tr>\n",
       "    <tr>\n",
       "      <th>...</th>\n",
       "      <td>...</td>\n",
       "      <td>...</td>\n",
       "      <td>...</td>\n",
       "    </tr>\n",
       "    <tr>\n",
       "      <th>2232</th>\n",
       "      <td>WY</td>\n",
       "      <td>54995</td>\n",
       "      <td>1.965064</td>\n",
       "    </tr>\n",
       "    <tr>\n",
       "      <th>2233</th>\n",
       "      <td>WY</td>\n",
       "      <td>54997</td>\n",
       "      <td>1.657766</td>\n",
       "    </tr>\n",
       "    <tr>\n",
       "      <th>2234</th>\n",
       "      <td>WY</td>\n",
       "      <td>54998</td>\n",
       "      <td>1.778101</td>\n",
       "    </tr>\n",
       "    <tr>\n",
       "      <th>2235</th>\n",
       "      <td>WY</td>\n",
       "      <td>55000</td>\n",
       "      <td>1.744958</td>\n",
       "    </tr>\n",
       "    <tr>\n",
       "      <th>2236</th>\n",
       "      <td>WY</td>\n",
       "      <td>55041</td>\n",
       "      <td>1.657766</td>\n",
       "    </tr>\n",
       "  </tbody>\n",
       "</table>\n",
       "<p>2237 rows × 3 columns</p>\n",
       "</div>\n",
       "      <button class=\"colab-df-convert\" onclick=\"convertToInteractive('df-8e23fd1b-54c0-4c9b-b16c-eb0eeb5316e3')\"\n",
       "              title=\"Convert this dataframe to an interactive table.\"\n",
       "              style=\"display:none;\">\n",
       "        \n",
       "  <svg xmlns=\"http://www.w3.org/2000/svg\" height=\"24px\"viewBox=\"0 0 24 24\"\n",
       "       width=\"24px\">\n",
       "    <path d=\"M0 0h24v24H0V0z\" fill=\"none\"/>\n",
       "    <path d=\"M18.56 5.44l.94 2.06.94-2.06 2.06-.94-2.06-.94-.94-2.06-.94 2.06-2.06.94zm-11 1L8.5 8.5l.94-2.06 2.06-.94-2.06-.94L8.5 2.5l-.94 2.06-2.06.94zm10 10l.94 2.06.94-2.06 2.06-.94-2.06-.94-.94-2.06-.94 2.06-2.06.94z\"/><path d=\"M17.41 7.96l-1.37-1.37c-.4-.4-.92-.59-1.43-.59-.52 0-1.04.2-1.43.59L10.3 9.45l-7.72 7.72c-.78.78-.78 2.05 0 2.83L4 21.41c.39.39.9.59 1.41.59.51 0 1.02-.2 1.41-.59l7.78-7.78 2.81-2.81c.8-.78.8-2.07 0-2.86zM5.41 20L4 18.59l7.72-7.72 1.47 1.35L5.41 20z\"/>\n",
       "  </svg>\n",
       "      </button>\n",
       "      \n",
       "  <style>\n",
       "    .colab-df-container {\n",
       "      display:flex;\n",
       "      flex-wrap:wrap;\n",
       "      gap: 12px;\n",
       "    }\n",
       "\n",
       "    .colab-df-convert {\n",
       "      background-color: #E8F0FE;\n",
       "      border: none;\n",
       "      border-radius: 50%;\n",
       "      cursor: pointer;\n",
       "      display: none;\n",
       "      fill: #1967D2;\n",
       "      height: 32px;\n",
       "      padding: 0 0 0 0;\n",
       "      width: 32px;\n",
       "    }\n",
       "\n",
       "    .colab-df-convert:hover {\n",
       "      background-color: #E2EBFA;\n",
       "      box-shadow: 0px 1px 2px rgba(60, 64, 67, 0.3), 0px 1px 3px 1px rgba(60, 64, 67, 0.15);\n",
       "      fill: #174EA6;\n",
       "    }\n",
       "\n",
       "    [theme=dark] .colab-df-convert {\n",
       "      background-color: #3B4455;\n",
       "      fill: #D2E3FC;\n",
       "    }\n",
       "\n",
       "    [theme=dark] .colab-df-convert:hover {\n",
       "      background-color: #434B5C;\n",
       "      box-shadow: 0px 1px 3px 1px rgba(0, 0, 0, 0.15);\n",
       "      filter: drop-shadow(0px 1px 2px rgba(0, 0, 0, 0.3));\n",
       "      fill: #FFFFFF;\n",
       "    }\n",
       "  </style>\n",
       "\n",
       "      <script>\n",
       "        const buttonEl =\n",
       "          document.querySelector('#df-8e23fd1b-54c0-4c9b-b16c-eb0eeb5316e3 button.colab-df-convert');\n",
       "        buttonEl.style.display =\n",
       "          google.colab.kernel.accessAllowed ? 'block' : 'none';\n",
       "\n",
       "        async function convertToInteractive(key) {\n",
       "          const element = document.querySelector('#df-8e23fd1b-54c0-4c9b-b16c-eb0eeb5316e3');\n",
       "          const dataTable =\n",
       "            await google.colab.kernel.invokeFunction('convertToInteractive',\n",
       "                                                     [key], {});\n",
       "          if (!dataTable) return;\n",
       "\n",
       "          const docLinkHtml = 'Like what you see? Visit the ' +\n",
       "            '<a target=\"_blank\" href=https://colab.research.google.com/notebooks/data_table.ipynb>data table notebook</a>'\n",
       "            + ' to learn more about interactive tables.';\n",
       "          element.innerHTML = '';\n",
       "          dataTable['output_type'] = 'display_data';\n",
       "          await google.colab.output.renderOutput(dataTable, element);\n",
       "          const docLink = document.createElement('div');\n",
       "          docLink.innerHTML = docLinkHtml;\n",
       "          element.appendChild(docLink);\n",
       "        }\n",
       "      </script>\n",
       "    </div>\n",
       "  </div>\n",
       "  "
      ],
      "text/plain": [
       "     state  aq30_id  prediction\n",
       "0       AK    59662    1.910036\n",
       "1       AK    59661    1.910036\n",
       "2       AK    59652    1.541879\n",
       "3       AK    59651    1.541879\n",
       "4       AK    59648    1.961671\n",
       "...    ...      ...         ...\n",
       "2232    WY    54995    1.965064\n",
       "2233    WY    54997    1.657766\n",
       "2234    WY    54998    1.778101\n",
       "2235    WY    55000    1.744958\n",
       "2236    WY    55041    1.657766\n",
       "\n",
       "[2237 rows x 3 columns]"
      ]
     },
     "execution_count": 27,
     "metadata": {},
     "output_type": "execute_result"
    }
   ],
   "source": [
    "drr_score_predict\n",
    "gtd_score_predict"
   ]
  },
  {
   "cell_type": "code",
   "execution_count": 28,
   "metadata": {
    "executionInfo": {
     "elapsed": 545,
     "status": "ok",
     "timestamp": 1654352444880,
     "user": {
      "displayName": "Eva Rolland",
      "userId": "01449613398367393128"
     },
     "user_tz": -120
    },
    "id": "KjHD6o6qC8oB"
   },
   "outputs": [],
   "source": [
    "# merge all scores together\n",
    "merged = water_score.merge(drr_score_predict, on=['aq30_id'], how='left')\n",
    "merged2 = merged.merge(water_score_other_scores, on=['aq30_id'], how='left')\n",
    "merged_final = merged2.merge(gtd_score_predict, on=['aq30_id'], how='left')\n",
    "\n",
    "\n",
    "# take maximum value to replace NA\n",
    "merged_final['gtd_score'] = np.max(merged_final[['gtd_score', 'prediction_y']], axis=1)\n",
    "merged_final['drr_score'] = np.max(merged_final[['drr_score', 'prediction_x']], axis=1)\n",
    "# remove columns\n",
    "merged_final = merged_final.drop(columns=['state_x', 'state_y','prediction_x', 'prediction_y'], axis=1)\n",
    "\n",
    "# get long names of states again\n",
    "us_state_elon = {\n",
    "    'AL':'Alabama',\n",
    "    'AK':'Alaska',\n",
    "    'AZ':'Arizona',\n",
    "    'AR':'Arkansas',\n",
    "    'CA':'California',\n",
    "    'CO':'Colorado',\n",
    "    'CT':'Connecticut',\n",
    "    'DE':'Delaware',\n",
    "    'DC':'District of Columbia',\n",
    "    'FL': 'Florida',\n",
    "    'GA':'Georgia',\n",
    "    'ID':'Idaho',\n",
    "    'IL':'Illinois',\n",
    "    'IN':'Indiana',\n",
    "    'IA':'Iowa',\n",
    "    'KS':'Kansas',\n",
    "    'KY':'Kentucky',\n",
    "    'LA':'Louisiana',\n",
    "    'ME':'Maine',\n",
    "    'MD':'Maryland',\n",
    "    'MA':'Massachusetts',\n",
    "    'MI':'Michigan',\n",
    "    'MN':'Minnesota',\n",
    "    'MS':'Mississippi',\n",
    "    'MO':'Missouri',\n",
    "    'MT':'Montana',\n",
    "    'NE':'Nebraska',\n",
    "    'NV':'Nevada',\n",
    "    'NH':'New Hampshire',\n",
    "    'NJ':'New Jersey',\n",
    "    'NM':'New Mexico',\n",
    "    'NY':'New York',\n",
    "    'NC':'North Carolina',\n",
    "    'ND':'North Dakota',\n",
    "    'OH': 'Ohio',\n",
    "    'OK':'Oklahoma',\n",
    "    'OR':'Oregon',\n",
    "    'PA':'Pennsylvania',\n",
    "    'RI':'Rhode Island',\n",
    "    'SC':'South Carolina',\n",
    "    'SD':'South Dakota',\n",
    "    'TN':'Tennessee',\n",
    "    'TX':'Texas',\n",
    "    'UT':'Utah',\n",
    "    'VT':'Vermont',\n",
    "    'VA':'Virginia',\n",
    "    'WA':'Washington',\n",
    "    'WV':'West Virginia',\n",
    "    'WI':'Wisconsin',\n",
    "    'WY':'Wyoming'\n",
    "}\n",
    "\n",
    "# get loong names of state back\n",
    "merged_final['name_1'] = merged_final['name_1'].replace(us_state_elon)\n",
    "merged_final = merged_final.sort_values('name_1')\n",
    "\n",
    "# now aggregate scores by mean\n",
    "final = merged_final[['name_1', 'bws_score', 'bwd_score',  'sev_score', 'gtd_score',\n",
    "            'rfr_score',  'drr_score',  'cep_score', 'udw_score', 'usa_score', 'iav_score', 'cfr_score']].groupby('name_1').agg('mean')\n",
    "final = final.reset_index()\n",
    "# rename to state\n",
    "final.rename(columns = {'name_1':'State'}, inplace = True)\n",
    "final\n",
    "\n",
    "# write to csv\n",
    "final.to_csv('../data/water_scores.csv', index = False)"
   ]
  }
 ],
 "metadata": {
  "colab": {
   "collapsed_sections": [],
   "name": "Missing value prediction for water risk.ipynb",
   "provenance": []
  },
  "kernelspec": {
   "display_name": "Python 3 (ipykernel)",
   "language": "python",
   "name": "python3"
  },
  "language_info": {
   "codemirror_mode": {
    "name": "ipython",
    "version": 3
   },
   "file_extension": ".py",
   "mimetype": "text/x-python",
   "name": "python",
   "nbconvert_exporter": "python",
   "pygments_lexer": "ipython3",
   "version": "3.9.12"
  },
  "toc": {
   "base_numbering": 1,
   "nav_menu": {},
   "number_sections": true,
   "sideBar": true,
   "skip_h1_title": false,
   "title_cell": "Table of Contents",
   "title_sidebar": "Contents",
   "toc_cell": false,
   "toc_position": {},
   "toc_section_display": true,
   "toc_window_display": false
  },
  "varInspector": {
   "cols": {
    "lenName": 16,
    "lenType": 16,
    "lenVar": 40
   },
   "kernels_config": {
    "python": {
     "delete_cmd_postfix": "",
     "delete_cmd_prefix": "del ",
     "library": "var_list.py",
     "varRefreshCmd": "print(var_dic_list())"
    },
    "r": {
     "delete_cmd_postfix": ") ",
     "delete_cmd_prefix": "rm(",
     "library": "var_list.r",
     "varRefreshCmd": "cat(var_dic_list()) "
    }
   },
   "types_to_exclude": [
    "module",
    "function",
    "builtin_function_or_method",
    "instance",
    "_Feature"
   ],
   "window_display": false
  },
  "widgets": {
   "application/vnd.jupyter.widget-state+json": {
    "69897c3d81494b8381fefb4c81023b19": {
     "model_module": "@jupyter-widgets/controls",
     "model_module_version": "1.5.0",
     "model_name": "DropdownModel",
     "state": {
      "_dom_classes": [],
      "_model_module": "@jupyter-widgets/controls",
      "_model_module_version": "1.5.0",
      "_model_name": "DropdownModel",
      "_options_labels": [
       "Groundwater table decline",
       "Drought risk"
      ],
      "_view_count": null,
      "_view_module": "@jupyter-widgets/controls",
      "_view_module_version": "1.5.0",
      "_view_name": "DropdownView",
      "description": "Water Risk Prediction:",
      "description_tooltip": null,
      "disabled": false,
      "index": 0,
      "layout": "IPY_MODEL_7f922869c25747079f29e1b91874169a",
      "style": "IPY_MODEL_6f4010fb287745258dc14780cdf4f94e"
     }
    },
    "6f4010fb287745258dc14780cdf4f94e": {
     "model_module": "@jupyter-widgets/controls",
     "model_module_version": "1.5.0",
     "model_name": "DescriptionStyleModel",
     "state": {
      "_model_module": "@jupyter-widgets/controls",
      "_model_module_version": "1.5.0",
      "_model_name": "DescriptionStyleModel",
      "_view_count": null,
      "_view_module": "@jupyter-widgets/base",
      "_view_module_version": "1.2.0",
      "_view_name": "StyleView",
      "description_width": ""
     }
    },
    "7f922869c25747079f29e1b91874169a": {
     "model_module": "@jupyter-widgets/base",
     "model_module_version": "1.2.0",
     "model_name": "LayoutModel",
     "state": {
      "_model_module": "@jupyter-widgets/base",
      "_model_module_version": "1.2.0",
      "_model_name": "LayoutModel",
      "_view_count": null,
      "_view_module": "@jupyter-widgets/base",
      "_view_module_version": "1.2.0",
      "_view_name": "LayoutView",
      "align_content": null,
      "align_items": null,
      "align_self": null,
      "border": null,
      "bottom": null,
      "display": null,
      "flex": null,
      "flex_flow": null,
      "grid_area": null,
      "grid_auto_columns": null,
      "grid_auto_flow": null,
      "grid_auto_rows": null,
      "grid_column": null,
      "grid_gap": null,
      "grid_row": null,
      "grid_template_areas": null,
      "grid_template_columns": null,
      "grid_template_rows": null,
      "height": null,
      "justify_content": null,
      "justify_items": null,
      "left": null,
      "margin": null,
      "max_height": null,
      "max_width": null,
      "min_height": null,
      "min_width": null,
      "object_fit": null,
      "object_position": null,
      "order": null,
      "overflow": null,
      "overflow_x": null,
      "overflow_y": null,
      "padding": null,
      "right": null,
      "top": null,
      "visibility": null,
      "width": null
     }
    }
   }
  }
 },
 "nbformat": 4,
 "nbformat_minor": 1
}
