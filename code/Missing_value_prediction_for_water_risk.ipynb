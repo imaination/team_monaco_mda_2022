{
 "cells": [
  {
   "cell_type": "code",
   "execution_count": 1,
   "metadata": {
    "id": "dRmywNXTQ7kM"
   },
   "outputs": [],
   "source": [
    "# Load Modules\n",
    "import numpy as np\n",
    "import pandas as pd\n",
    "from sklearn.preprocessing import MinMaxScaler, StandardScaler\n",
    "import plotly.graph_objects as go\n",
    "import ipywidgets as widgets\n",
    "import lightgbm as lgb\n",
    "from sklearn.model_selection import KFold\n",
    "from sklearn.metrics import mean_squared_error, mean_absolute_error\n",
    "import gc\n",
    "import plotly.express as px\n",
    "import matplotlib.pyplot as plt"
   ]
  },
  {
   "cell_type": "code",
   "execution_count": null,
   "metadata": {
    "colab": {
     "base_uri": "https://localhost:8080/"
    },
    "id": "uXYtu5bdTwFo",
    "outputId": "b50c1790-6f4c-41bd-c00b-228ef9bc5da4"
   },
   "outputs": [
    {
     "name": "stdout",
     "output_type": "stream",
     "text": [
      "Cloning into 'team_monaco_mda_2022'...\n",
      "remote: Enumerating objects: 25, done.\u001b[K\n",
      "remote: Counting objects: 100% (25/25), done.\u001b[K\n",
      "remote: Compressing objects: 100% (21/21), done.\u001b[K\n",
      "remote: Total 25 (delta 4), reused 22 (delta 3), pack-reused 0\u001b[K\n",
      "Unpacking objects: 100% (25/25), done.\n",
      "/content/team_monaco_mda_2022/data\n"
     ]
    }
   ],
   "source": [
    "!git clone https://github.com/imaination/team_monaco_mda_2022.git\n",
    "%cd ./team_monaco_mda_2022/data\n",
    "!unzip ./Aqueduct\\ Water\\ Risk.csv.zip > /dev/null"
   ]
  },
  {
   "cell_type": "code",
   "execution_count": null,
   "metadata": {
    "colab": {
     "base_uri": "https://localhost:8080/"
    },
    "id": "n2GfXRRlSXp9",
    "outputId": "46d8eb85-1ffb-4deb-922f-a921357689f1"
   },
   "outputs": [
    {
     "name": "stderr",
     "output_type": "stream",
     "text": [
      "/usr/local/lib/python3.7/dist-packages/IPython/core/interactiveshell.py:2882: DtypeWarning:\n",
      "\n",
      "Columns (12,16,20,24,32,36,40,48) have mixed types.Specify dtype option on import or set low_memory=False.\n",
      "\n"
     ]
    }
   ],
   "source": [
    "data_all = pd.read_csv('/content/team_monaco_mda_2022/data/Aqueduct Water Risk.csv', encoding = 'latin-1')\n",
    "us_state_abbrev = {\n",
    "    'Alabama': 'AL',\n",
    "    'Alaska': 'AK',\n",
    "    'American Samoa': 'AS',\n",
    "    'Arizona': 'AZ',\n",
    "    'Arkansas': 'AR',\n",
    "    'California': 'CA',\n",
    "    'Colorado': 'CO',\n",
    "    'Connecticut': 'CT',\n",
    "    'Delaware': 'DE',\n",
    "    'District of Columbia': 'DC',\n",
    "    'Florida': 'FL',\n",
    "    'Georgia': 'GA',\n",
    "    'Guam': 'GU',\n",
    "    'Hawaii': 'HI',\n",
    "    'Idaho': 'ID',\n",
    "    'Illinois': 'IL',\n",
    "    'Indiana': 'IN',\n",
    "    'Iowa': 'IA',\n",
    "    'Kansas': 'KS',\n",
    "    'Kentucky': 'KY',\n",
    "    'Louisiana': 'LA',\n",
    "    'Maine': 'ME',\n",
    "    'Maryland': 'MD',\n",
    "    'Massachusetts': 'MA',\n",
    "    'Michigan': 'MI',\n",
    "    'Minnesota': 'MN',\n",
    "    'Mississippi': 'MS',\n",
    "    'Missouri': 'MO',\n",
    "    'Montana': 'MT',\n",
    "    'Nebraska': 'NE',\n",
    "    'Nevada': 'NV',\n",
    "    'New Hampshire': 'NH',\n",
    "    'New Jersey': 'NJ',\n",
    "    'New Mexico': 'NM',\n",
    "    'New York': 'NY',\n",
    "    'North Carolina': 'NC',\n",
    "    'North Dakota': 'ND',\n",
    "    'Northern Mariana Islands':'MP',\n",
    "    'Ohio': 'OH',\n",
    "    'Oklahoma': 'OK',\n",
    "    'Oregon': 'OR',\n",
    "    'Pennsylvania': 'PA',\n",
    "    'Puerto Rico': 'PR',\n",
    "    'Rhode Island': 'RI',\n",
    "    'South Carolina': 'SC',\n",
    "    'South Dakota': 'SD',\n",
    "    'Tennessee': 'TN',\n",
    "    'Texas': 'TX',\n",
    "    'Utah': 'UT',\n",
    "    'Vermont': 'VT',\n",
    "    'Virgin Islands': 'VI',\n",
    "    'Virginia': 'VA',\n",
    "    'Washington': 'WA',\n",
    "    'West Virginia': 'WV',\n",
    "    'Wisconsin': 'WI',\n",
    "    'Wyoming': 'WY'\n",
    "}\n",
    "data_all['name_1'] = data_all['name_1'].replace(us_state_abbrev)"
   ]
  },
  {
   "cell_type": "code",
   "execution_count": null,
   "metadata": {
    "id": "uJEh0IDBSa67"
   },
   "outputs": [],
   "source": [
    "water_score = data_all.loc[data_all['gid_0'] == \"USA\"]\n",
    "# keep only certain columns\n",
    "water_score = water_score[['aq30_id','name_1', 'bws_score', 'bwd_score',  'sev_score', 'gtd_score',\n",
    "            'rfr_score',  'drr_score',  'cep_score', 'udw_score', 'usa_score'#,'w_awr_def_tot_score' 'iav_score','cfr_score',\n",
    "            ]]\n",
    "water_score = water_score.sort_values('name_1')\n",
    "#water_score = df22.replace(-9999, np.nan)\n",
    "# drop rows having NA on score 'cep'\n",
    "water_score.dropna(subset = [\"cep_score\"], inplace=True)\n",
    "# Remove Hawaii\n",
    "water_score = water_score[water_score.name_1 != \"Hawaii\"]"
   ]
  },
  {
   "cell_type": "code",
   "execution_count": null,
   "metadata": {
    "id": "zirTMDNASiVu"
   },
   "outputs": [],
   "source": [
    "#Helper Functions\n",
    "#split train and test dataset based on prediction type\n",
    "def select_target(data, target):\n",
    "  if target == 'gtd_score':\n",
    "    model_df = data[data['gtd_score'] != -9999].drop('drr_score',axis=1)\n",
    "    test_set = data[data['gtd_score'] == -9999].drop('drr_score',axis=1)\n",
    "    model_df = model_df.replace(-9999, np.nan)\n",
    "    model_df.dropna(subset=['bws_score', 'bwd_score',  'sev_score', 'gtd_score',\n",
    "            'rfr_score', 'cep_score', 'udw_score', 'usa_score'], inplace=True)\n",
    "    model_df = model_df.reset_index(drop=True)\n",
    "    test_set = test_set.reset_index(drop=True)\n",
    "\n",
    "    \n",
    "  elif target == 'drr_score':\n",
    "    model_df = data[data['drr_score'] != -9999].drop('gtd_score',axis=1)\n",
    "    test_set = data[data['drr_score'] == -9999].drop('gtd_score',axis=1)\n",
    "    model_df = model_df.replace(-9999, np.nan)\n",
    "    model_df.dropna(subset=['bws_score', 'bwd_score',  'sev_score', \n",
    "            'rfr_score',  'drr_score',  'cep_score', 'udw_score', 'usa_score'], inplace=True)\n",
    "    model_df = model_df.reset_index(drop=True)\n",
    "    test_set = test_set.reset_index(drop=True)\n",
    "  return model_df, test_set\n",
    "\n",
    "# lightgbm regression model with kfold cross-validation\n",
    "def model(features_train, features_test, target, n_folds=5, scaler=MinMaxScaler()):\n",
    "    \n",
    "    train_ids = features_train['name_1']\n",
    "    test_ids = features_test['name_1']\n",
    "    test_aq30_id = features_test['aq30_id']\n",
    "    targets = features_train[target]\n",
    "    features_train =features_train.drop([target, 'name_1', 'aq30_id'], axis=1)\n",
    "    features_test = features_test.drop([target, 'name_1', 'aq30_id'], axis=1)\n",
    "    #features_train, features_test = features_train.align(features_test, join='inner', axis=1)\n",
    "    print('training data shape:', features_train.shape)\n",
    "    print('testing data shape:', features_test.shape)\n",
    "    \n",
    "    feature_names = list(features_train.columns)\n",
    "    features_train = np.array(features_train)\n",
    "    features_test = np.array(features_test)\n",
    "    feature_importance_values = np.zeros(len(feature_names))\n",
    "    test_predictions = np.zeros(features_test.shape[0])\n",
    "    out_of_fold = np.zeros(features_train.shape[0])\n",
    "\n",
    "\n",
    "    #create kfold object to maintain same class distribution\n",
    "    kfold = KFold(n_splits = n_folds, shuffle=True, random_state=42)\n",
    "    \n",
    "    #iterate through each fold\n",
    "    for train_indices, valid_indices in kfold.split(features_train, targets):\n",
    "        tr_features, tr_targets = features_train[train_indices], targets[train_indices]\n",
    "        val_features, val_targets = features_train[valid_indices], targets[valid_indices]\n",
    "\n",
    "        #scale the features\n",
    "        tr_features = scaler.fit_transform(tr_features)\n",
    "        val_featuress= scaler.transform(val_features)\n",
    "       \n",
    "        model = lgb.LGBMRegressor(n_estimators=5000, objective='regression',\n",
    "                                \n",
    "                                   num_leaves=10,\n",
    "                                       learning_rate=0.01, \n",
    "                                    \n",
    "                                       max_bin=200, \n",
    "                                       bagging_fraction=0.75,\n",
    "                                       bagging_freq=5, \n",
    "                                       bagging_seed=7,\n",
    "                                       feature_fraction=0.2,\n",
    "                                       feature_fraction_seed=7,\n",
    "                                       verbose=-1,\n",
    "                                   random_state=42)\n",
    "        #train the model\n",
    "        model.fit(tr_features, tr_targets, eval_metric='mae', \n",
    "                  eval_set=[(val_features, val_targets), (tr_features, tr_targets)],\n",
    "                  eval_names=['valid', 'train'],categorical_feature = 'auto', early_stopping_rounds=200, verbose=200)\n",
    "        \n",
    "        #record the best iteration\n",
    "        best_iteration = model.best_iteration_\n",
    "        #record the feature importance\n",
    "        feature_importance_values += model.feature_importances_ / kfold.n_splits\n",
    "        #make predictions\n",
    "        test_predictions += model.predict(features_test, num_interation =best_iteration)/ kfold.n_splits\n",
    "        #record the out of fold predictions\n",
    "        out_of_fold[valid_indices] = model.predict(val_features, num_iteration=best_iteration)\n",
    "        \n",
    "        #clean up memory\n",
    "        gc.enable()\n",
    "        del model, tr_features, val_features\n",
    "        gc.collect()\n",
    "      \n",
    "    \n",
    "    \n",
    "    #make feature importance dataframe\n",
    "    feature_importances = pd.DataFrame({'feature': feature_names, 'importance': feature_importance_values})\n",
    "    missing_value_prediction = pd.DataFrame({'state': test_ids, 'aq30_id' : test_aq30_id,'prediction': test_predictions})\n",
    "    #overall validation score\n",
    "    valid_rmse = mean_absolute_error(targets, out_of_fold)\n",
    "    #valid_rmse =mean_squared_error(targets, out_of_fold, squared=False)\n",
    "    print('overall validation score')\n",
    "    print(valid_rmse)\n",
    "\n",
    "    return  missing_value_prediction, feature_importances\n",
    "\n",
    "#plot normalised feature importance\n",
    "def plot_feature_importances(df):\n",
    "    \"\"\"\n",
    "    Plot importances returned by a model. This can work with any measure of\n",
    "    feature importance provided that higher importance is better. \n",
    "    \n",
    "    Args:\n",
    "        df (dataframe): feature importances. Must have the features in a column\n",
    "        called `features` and the importances in a column called `importance\n",
    "        \n",
    "    Returns:\n",
    "        shows a plot of the 15 most importance features\n",
    "        \n",
    "        df (dataframe): feature importances sorted by importance (highest to lowest) \n",
    "        with a column for normalized importance\n",
    "        \"\"\"\n",
    "    # Sort features according to importance\n",
    "    df = df.sort_values('importance', ascending = False).reset_index()\n",
    "    \n",
    "    # Normalize the feature importances to add up to one\n",
    "    df['importance_normalized'] = df['importance'] / df['importance'].sum()\n",
    "\n",
    "    # Make a horizontal bar chart of feature importances\n",
    "    plt.figure(figsize = (14, 8))\n",
    "    ax = plt.subplot()\n",
    "    \n",
    "    # Need to reverse the index to plot most important on top\n",
    "    ax.barh(list(reversed(list(df.index[:20]))), \n",
    "            df['importance_normalized'].head(20), \n",
    "            align = 'center', edgecolor = 'k')\n",
    "    \n",
    "    # Set the yticks and labels\n",
    "    ax.set_yticks(list(reversed(list(df.index[:20]))))\n",
    "    ax.set_yticklabels(df['feature'].head(20))\n",
    "    \n",
    "    # Plot labeling\n",
    "    plt.xlabel('Normalized Importance'); plt.title('Feature Importances')\n",
    "    plt.show()\n",
    "    \n",
    "    return df"
   ]
  },
  {
   "cell_type": "code",
   "execution_count": null,
   "metadata": {
    "id": "vvXRTdpBSlAJ"
   },
   "outputs": [],
   "source": [
    "def prediction(data, target):\n",
    "  model_df, test_set = select_target(data, target)\n",
    "  missing_value_prediction, fi= model(model_df, test_set, target)\n",
    "  fi_sorted = plot_feature_importances(fi)\n",
    "\n",
    "  df_geo = missing_value_prediction.groupby('state').agg({'prediction':'mean'})\n",
    "  df_geo = df_geo.reset_index()\n",
    "  fig = go.Figure()\n",
    "  layout = dict(\n",
    "    title_text = f'{target} prediction',\n",
    "    geo_scope='usa')\n",
    "\n",
    "  fig.add_trace(\n",
    "    go.Choropleth(\n",
    "        locations=df_geo.state,\n",
    "        zmax=1,\n",
    "        z = df_geo.prediction,\n",
    "        locationmode = 'USA-states', # set of locations match entries in `locations`\n",
    "        #lon = df5['Longitude'],\n",
    "        #lat = df5['Latitude'],\n",
    "        marker_line_color='grey',\n",
    "        geo='geo',\n",
    "        colorscale=px.colors.sequential.Blues))           \n",
    "  fig.update_layout(layout)   \n",
    "  fig.show()\n",
    "  #US_NA_prediction = missing_value_prediction['aq30_id','prediction']\n",
    "  missing_value_prediction.to_csv('US_NA_prediction.csv')\n",
    " "
   ]
  },
  {
   "cell_type": "code",
   "execution_count": null,
   "metadata": {
    "colab": {
     "base_uri": "https://localhost:8080/",
     "height": 49,
     "referenced_widgets": [
      "c9f7a53f215c4d1ea94ca5b553c7cc51",
      "52e83b5761de4cbaa92c55d9cd574bab",
      "f42ef82c923049c7841184cf7556c424"
     ]
    },
    "id": "Yunts5XiSnH2",
    "outputId": "fc1198f6-5185-4b63-83c4-9095a9eabb26"
   },
   "outputs": [
    {
     "data": {
      "application/vnd.jupyter.widget-view+json": {
       "model_id": "c9f7a53f215c4d1ea94ca5b553c7cc51",
       "version_major": 2,
       "version_minor": 0
      },
      "text/plain": [
       "Dropdown(description='Water Risk Prediction:', options=(('Groundwater table decline', 'gtd_score'), ('Drought …"
      ]
     },
     "metadata": {},
     "output_type": "display_data"
    }
   ],
   "source": [
    "picked = widgets.Dropdown(\n",
    "  options=[('Groundwater table decline', 'gtd_score'), ('Drought risk', 'drr_score')],\n",
    "  value='gtd_score',\n",
    "  description='Water Risk Prediction:',\n",
    ")\n",
    "picked\n"
   ]
  },
  {
   "cell_type": "code",
   "execution_count": null,
   "metadata": {
    "colab": {
     "base_uri": "https://localhost:8080/",
     "height": 1000
    },
    "id": "MlCvF9zVSpeq",
    "outputId": "244f5d64-b107-4a02-d814-62b214a1ab83"
   },
   "outputs": [
    {
     "name": "stdout",
     "output_type": "stream",
     "text": [
      "training data shape: (3186, 7)\n",
      "testing data shape: (235, 7)\n",
      "Training until validation scores don't improve for 200 rounds.\n",
      "[200]\ttrain's l2: 0.190411\ttrain's l1: 0.338067\tvalid's l2: 0.337832\tvalid's l1: 0.45802\n",
      "[400]\ttrain's l2: 0.131742\ttrain's l1: 0.282573\tvalid's l2: 0.329059\tvalid's l1: 0.456474\n",
      "Early stopping, best iteration is:\n",
      "[304]\ttrain's l2: 0.152099\ttrain's l1: 0.303381\tvalid's l2: 0.330635\tvalid's l1: 0.45494\n",
      "Training until validation scores don't improve for 200 rounds.\n",
      "[200]\ttrain's l2: 0.186016\ttrain's l1: 0.337754\tvalid's l2: 0.319073\tvalid's l1: 0.449075\n",
      "Early stopping, best iteration is:\n",
      "[105]\ttrain's l2: 0.246059\ttrain's l1: 0.386416\tvalid's l2: 0.32479\tvalid's l1: 0.445378\n",
      "Training until validation scores don't improve for 200 rounds.\n",
      "[200]\ttrain's l2: 0.189727\ttrain's l1: 0.337923\tvalid's l2: 0.326717\tvalid's l1: 0.447608\n",
      "[400]\ttrain's l2: 0.128958\ttrain's l1: 0.279081\tvalid's l2: 0.320176\tvalid's l1: 0.445506\n",
      "Early stopping, best iteration is:\n",
      "[332]\ttrain's l2: 0.144059\ttrain's l1: 0.295031\tvalid's l2: 0.320949\tvalid's l1: 0.444162\n",
      "Training until validation scores don't improve for 200 rounds.\n",
      "[200]\ttrain's l2: 0.190145\ttrain's l1: 0.340324\tvalid's l2: 0.330299\tvalid's l1: 0.459255\n",
      "Early stopping, best iteration is:\n",
      "[15]\ttrain's l2: 0.343688\ttrain's l1: 0.450454\tvalid's l2: 0.346767\tvalid's l1: 0.45512\n",
      "Training until validation scores don't improve for 200 rounds.\n",
      "[200]\ttrain's l2: 0.191611\ttrain's l1: 0.342281\tvalid's l2: 0.331671\tvalid's l1: 0.458057\n",
      "Early stopping, best iteration is:\n",
      "[168]\ttrain's l2: 0.211586\ttrain's l1: 0.359784\tvalid's l2: 0.331091\tvalid's l1: 0.455596\n",
      "overall validation score\n",
      "0.4510403188826366\n"
     ]
    },
    {
     "data": {
      "image/png": "[encoded data removed]",
      "text/plain": [
       "<Figure size 1008x576 with 1 Axes>"
      ]
     },
     "metadata": {
      "needs_background": "light"
     },
     "output_type": "display_data"
    },
    {
     "data": {
      "text/html": [
       "<html>\n",
       "<head><meta charset=\"utf-8\" /></head>\n",
       "<body>\n",
       "    <div>            <script src=\"https://cdnjs.cloudflare.com/ajax/libs/mathjax/2.7.5/MathJax.js?config=TeX-AMS-MML_SVG\"></script><script type=\"text/javascript\">if (window.MathJax) {MathJax.Hub.Config({SVG: {font: \"STIX-Web\"}});}</script>                <script type=\"text/javascript\">window.PlotlyConfig = {MathJaxConfig: 'local'};</script>\n",
       "        <script src=\"https://cdn.plot.ly/plotly-2.8.3.min.js\"></script>                <div id=\"b267e726-ce59-4227-8105-07fe5cec62be\" class=\"plotly-graph-div\" style=\"height:525px; width:100%;\"></div>            <script type=\"text/javascript\">                                    window.PLOTLYENV=window.PLOTLYENV || {};                                    if (document.getElementById(\"b267e726-ce59-4227-8105-07fe5cec62be\")) {                    Plotly.newPlot(                        \"b267e726-ce59-4227-8105-07fe5cec62be\",                        [{\"colorscale\":[[0.0,\"rgb(247,251,255)\"],[0.125,\"rgb(222,235,247)\"],[0.25,\"rgb(198,219,239)\"],[0.375,\"rgb(158,202,225)\"],[0.5,\"rgb(107,174,214)\"],[0.625,\"rgb(66,146,198)\"],[0.75,\"rgb(33,113,181)\"],[0.875,\"rgb(8,81,156)\"],[1.0,\"rgb(8,48,107)\"]],\"geo\":\"geo\",\"locationmode\":\"USA-states\",\"locations\":[\"AK\",\"AL\",\"CA\",\"CT\",\"DE\",\"FL\",\"GA\",\"HI\",\"LA\",\"MA\",\"MD\",\"ME\",\"MI\",\"MS\",\"NC\",\"NJ\",\"NY\",\"OR\",\"RI\",\"SC\",\"TX\",\"VA\",\"WA\",\"WI\"],\"marker\":{\"line\":{\"color\":\"grey\"}},\"z\":[1.5966685997934391,1.4892500087019906,1.4892500087019906,1.4892500087019906,1.4892500087019906,1.5491621039214702,1.4892500087019906,1.4892500087019906,1.4892500087019906,1.4892500087019906,1.4892500087019906,1.4892500087019906,1.5836068878765683,1.4892500087019906,1.4892500087019906,1.4892500087019906,1.4892500087019906,1.4892500087019906,1.4892500087019906,1.4892500087019906,1.4892500087019906,1.492111283832945,1.4892500087019906,1.5836068878765683],\"zmax\":1,\"type\":\"choropleth\"}],                        {\"template\":{\"data\":{\"bar\":[{\"error_x\":{\"color\":\"#2a3f5f\"},\"error_y\":{\"color\":\"#2a3f5f\"},\"marker\":{\"line\":{\"color\":\"#E5ECF6\",\"width\":0.5},\"pattern\":{\"fillmode\":\"overlay\",\"size\":10,\"solidity\":0.2}},\"type\":\"bar\"}],\"barpolar\":[{\"marker\":{\"line\":{\"color\":\"#E5ECF6\",\"width\":0.5},\"pattern\":{\"fillmode\":\"overlay\",\"size\":10,\"solidity\":0.2}},\"type\":\"barpolar\"}],\"carpet\":[{\"aaxis\":{\"endlinecolor\":\"#2a3f5f\",\"gridcolor\":\"white\",\"linecolor\":\"white\",\"minorgridcolor\":\"white\",\"startlinecolor\":\"#2a3f5f\"},\"baxis\":{\"endlinecolor\":\"#2a3f5f\",\"gridcolor\":\"white\",\"linecolor\":\"white\",\"minorgridcolor\":\"white\",\"startlinecolor\":\"#2a3f5f\"},\"type\":\"carpet\"}],\"choropleth\":[{\"colorbar\":{\"outlinewidth\":0,\"ticks\":\"\"},\"type\":\"choropleth\"}],\"contour\":[{\"colorbar\":{\"outlinewidth\":0,\"ticks\":\"\"},\"colorscale\":[[0.0,\"#0d0887\"],[0.1111111111111111,\"#46039f\"],[0.2222222222222222,\"#7201a8\"],[0.3333333333333333,\"#9c179e\"],[0.4444444444444444,\"#bd3786\"],[0.5555555555555556,\"#d8576b\"],[0.6666666666666666,\"#ed7953\"],[0.7777777777777778,\"#fb9f3a\"],[0.8888888888888888,\"#fdca26\"],[1.0,\"#f0f921\"]],\"type\":\"contour\"}],\"contourcarpet\":[{\"colorbar\":{\"outlinewidth\":0,\"ticks\":\"\"},\"type\":\"contourcarpet\"}],\"heatmap\":[{\"colorbar\":{\"outlinewidth\":0,\"ticks\":\"\"},\"colorscale\":[[0.0,\"#0d0887\"],[0.1111111111111111,\"#46039f\"],[0.2222222222222222,\"#7201a8\"],[0.3333333333333333,\"#9c179e\"],[0.4444444444444444,\"#bd3786\"],[0.5555555555555556,\"#d8576b\"],[0.6666666666666666,\"#ed7953\"],[0.7777777777777778,\"#fb9f3a\"],[0.8888888888888888,\"#fdca26\"],[1.0,\"#f0f921\"]],\"type\":\"heatmap\"}],\"heatmapgl\":[{\"colorbar\":{\"outlinewidth\":0,\"ticks\":\"\"},\"colorscale\":[[0.0,\"#0d0887\"],[0.1111111111111111,\"#46039f\"],[0.2222222222222222,\"#7201a8\"],[0.3333333333333333,\"#9c179e\"],[0.4444444444444444,\"#bd3786\"],[0.5555555555555556,\"#d8576b\"],[0.6666666666666666,\"#ed7953\"],[0.7777777777777778,\"#fb9f3a\"],[0.8888888888888888,\"#fdca26\"],[1.0,\"#f0f921\"]],\"type\":\"heatmapgl\"}],\"histogram\":[{\"marker\":{\"pattern\":{\"fillmode\":\"overlay\",\"size\":10,\"solidity\":0.2}},\"type\":\"histogram\"}],\"histogram2d\":[{\"colorbar\":{\"outlinewidth\":0,\"ticks\":\"\"},\"colorscale\":[[0.0,\"#0d0887\"],[0.1111111111111111,\"#46039f\"],[0.2222222222222222,\"#7201a8\"],[0.3333333333333333,\"#9c179e\"],[0.4444444444444444,\"#bd3786\"],[0.5555555555555556,\"#d8576b\"],[0.6666666666666666,\"#ed7953\"],[0.7777777777777778,\"#fb9f3a\"],[0.8888888888888888,\"#fdca26\"],[1.0,\"#f0f921\"]],\"type\":\"histogram2d\"}],\"histogram2dcontour\":[{\"colorbar\":{\"outlinewidth\":0,\"ticks\":\"\"},\"colorscale\":[[0.0,\"#0d0887\"],[0.1111111111111111,\"#46039f\"],[0.2222222222222222,\"#7201a8\"],[0.3333333333333333,\"#9c179e\"],[0.4444444444444444,\"#bd3786\"],[0.5555555555555556,\"#d8576b\"],[0.6666666666666666,\"#ed7953\"],[0.7777777777777778,\"#fb9f3a\"],[0.8888888888888888,\"#fdca26\"],[1.0,\"#f0f921\"]],\"type\":\"histogram2dcontour\"}],\"mesh3d\":[{\"colorbar\":{\"outlinewidth\":0,\"ticks\":\"\"},\"type\":\"mesh3d\"}],\"parcoords\":[{\"line\":{\"colorbar\":{\"outlinewidth\":0,\"ticks\":\"\"}},\"type\":\"parcoords\"}],\"pie\":[{\"automargin\":true,\"type\":\"pie\"}],\"scatter\":[{\"marker\":{\"colorbar\":{\"outlinewidth\":0,\"ticks\":\"\"}},\"type\":\"scatter\"}],\"scatter3d\":[{\"line\":{\"colorbar\":{\"outlinewidth\":0,\"ticks\":\"\"}},\"marker\":{\"colorbar\":{\"outlinewidth\":0,\"ticks\":\"\"}},\"type\":\"scatter3d\"}],\"scattercarpet\":[{\"marker\":{\"colorbar\":{\"outlinewidth\":0,\"ticks\":\"\"}},\"type\":\"scattercarpet\"}],\"scattergeo\":[{\"marker\":{\"colorbar\":{\"outlinewidth\":0,\"ticks\":\"\"}},\"type\":\"scattergeo\"}],\"scattergl\":[{\"marker\":{\"colorbar\":{\"outlinewidth\":0,\"ticks\":\"\"}},\"type\":\"scattergl\"}],\"scattermapbox\":[{\"marker\":{\"colorbar\":{\"outlinewidth\":0,\"ticks\":\"\"}},\"type\":\"scattermapbox\"}],\"scatterpolar\":[{\"marker\":{\"colorbar\":{\"outlinewidth\":0,\"ticks\":\"\"}},\"type\":\"scatterpolar\"}],\"scatterpolargl\":[{\"marker\":{\"colorbar\":{\"outlinewidth\":0,\"ticks\":\"\"}},\"type\":\"scatterpolargl\"}],\"scatterternary\":[{\"marker\":{\"colorbar\":{\"outlinewidth\":0,\"ticks\":\"\"}},\"type\":\"scatterternary\"}],\"surface\":[{\"colorbar\":{\"outlinewidth\":0,\"ticks\":\"\"},\"colorscale\":[[0.0,\"#0d0887\"],[0.1111111111111111,\"#46039f\"],[0.2222222222222222,\"#7201a8\"],[0.3333333333333333,\"#9c179e\"],[0.4444444444444444,\"#bd3786\"],[0.5555555555555556,\"#d8576b\"],[0.6666666666666666,\"#ed7953\"],[0.7777777777777778,\"#fb9f3a\"],[0.8888888888888888,\"#fdca26\"],[1.0,\"#f0f921\"]],\"type\":\"surface\"}],\"table\":[{\"cells\":{\"fill\":{\"color\":\"#EBF0F8\"},\"line\":{\"color\":\"white\"}},\"header\":{\"fill\":{\"color\":\"#C8D4E3\"},\"line\":{\"color\":\"white\"}},\"type\":\"table\"}]},\"layout\":{\"annotationdefaults\":{\"arrowcolor\":\"#2a3f5f\",\"arrowhead\":0,\"arrowwidth\":1},\"autotypenumbers\":\"strict\",\"coloraxis\":{\"colorbar\":{\"outlinewidth\":0,\"ticks\":\"\"}},\"colorscale\":{\"diverging\":[[0,\"#8e0152\"],[0.1,\"#c51b7d\"],[0.2,\"#de77ae\"],[0.3,\"#f1b6da\"],[0.4,\"#fde0ef\"],[0.5,\"#f7f7f7\"],[0.6,\"#e6f5d0\"],[0.7,\"#b8e186\"],[0.8,\"#7fbc41\"],[0.9,\"#4d9221\"],[1,\"#276419\"]],\"sequential\":[[0.0,\"#0d0887\"],[0.1111111111111111,\"#46039f\"],[0.2222222222222222,\"#7201a8\"],[0.3333333333333333,\"#9c179e\"],[0.4444444444444444,\"#bd3786\"],[0.5555555555555556,\"#d8576b\"],[0.6666666666666666,\"#ed7953\"],[0.7777777777777778,\"#fb9f3a\"],[0.8888888888888888,\"#fdca26\"],[1.0,\"#f0f921\"]],\"sequentialminus\":[[0.0,\"#0d0887\"],[0.1111111111111111,\"#46039f\"],[0.2222222222222222,\"#7201a8\"],[0.3333333333333333,\"#9c179e\"],[0.4444444444444444,\"#bd3786\"],[0.5555555555555556,\"#d8576b\"],[0.6666666666666666,\"#ed7953\"],[0.7777777777777778,\"#fb9f3a\"],[0.8888888888888888,\"#fdca26\"],[1.0,\"#f0f921\"]]},\"colorway\":[\"#636efa\",\"#EF553B\",\"#00cc96\",\"#ab63fa\",\"#FFA15A\",\"#19d3f3\",\"#FF6692\",\"#B6E880\",\"#FF97FF\",\"#FECB52\"],\"font\":{\"color\":\"#2a3f5f\"},\"geo\":{\"bgcolor\":\"white\",\"lakecolor\":\"white\",\"landcolor\":\"#E5ECF6\",\"showlakes\":true,\"showland\":true,\"subunitcolor\":\"white\"},\"hoverlabel\":{\"align\":\"left\"},\"hovermode\":\"closest\",\"mapbox\":{\"style\":\"light\"},\"paper_bgcolor\":\"white\",\"plot_bgcolor\":\"#E5ECF6\",\"polar\":{\"angularaxis\":{\"gridcolor\":\"white\",\"linecolor\":\"white\",\"ticks\":\"\"},\"bgcolor\":\"#E5ECF6\",\"radialaxis\":{\"gridcolor\":\"white\",\"linecolor\":\"white\",\"ticks\":\"\"}},\"scene\":{\"xaxis\":{\"backgroundcolor\":\"#E5ECF6\",\"gridcolor\":\"white\",\"gridwidth\":2,\"linecolor\":\"white\",\"showbackground\":true,\"ticks\":\"\",\"zerolinecolor\":\"white\"},\"yaxis\":{\"backgroundcolor\":\"#E5ECF6\",\"gridcolor\":\"white\",\"gridwidth\":2,\"linecolor\":\"white\",\"showbackground\":true,\"ticks\":\"\",\"zerolinecolor\":\"white\"},\"zaxis\":{\"backgroundcolor\":\"#E5ECF6\",\"gridcolor\":\"white\",\"gridwidth\":2,\"linecolor\":\"white\",\"showbackground\":true,\"ticks\":\"\",\"zerolinecolor\":\"white\"}},\"shapedefaults\":{\"line\":{\"color\":\"#2a3f5f\"}},\"ternary\":{\"aaxis\":{\"gridcolor\":\"white\",\"linecolor\":\"white\",\"ticks\":\"\"},\"baxis\":{\"gridcolor\":\"white\",\"linecolor\":\"white\",\"ticks\":\"\"},\"bgcolor\":\"#E5ECF6\",\"caxis\":{\"gridcolor\":\"white\",\"linecolor\":\"white\",\"ticks\":\"\"}},\"title\":{\"x\":0.05},\"xaxis\":{\"automargin\":true,\"gridcolor\":\"white\",\"linecolor\":\"white\",\"ticks\":\"\",\"title\":{\"standoff\":15},\"zerolinecolor\":\"white\",\"zerolinewidth\":2},\"yaxis\":{\"automargin\":true,\"gridcolor\":\"white\",\"linecolor\":\"white\",\"ticks\":\"\",\"title\":{\"standoff\":15},\"zerolinecolor\":\"white\",\"zerolinewidth\":2}}},\"title\":{\"text\":\"drr_score prediction\"},\"geo\":{\"scope\":\"usa\"}},                        {\"responsive\": true}                    ).then(function(){\n",
       "                            \n",
       "var gd = document.getElementById('b267e726-ce59-4227-8105-07fe5cec62be');\n",
       "var x = new MutationObserver(function (mutations, observer) {{\n",
       "        var display = window.getComputedStyle(gd).display;\n",
       "        if (!display || display === 'none') {{\n",
       "            console.log([gd, 'removed!']);\n",
       "            Plotly.purge(gd);\n",
       "            observer.disconnect();\n",
       "        }}\n",
       "}});\n",
       "\n",
       "// Listen for the removal of the full notebook cells\n",
       "var notebookContainer = gd.closest('#notebook-container');\n",
       "if (notebookContainer) {{\n",
       "    x.observe(notebookContainer, {childList: true});\n",
       "}}\n",
       "\n",
       "// Listen for the clearing of the current output cell\n",
       "var outputEl = gd.closest('.output');\n",
       "if (outputEl) {{\n",
       "    x.observe(outputEl, {childList: true});\n",
       "}}\n",
       "\n",
       "                        })                };                            </script>        </div>\n",
       "</body>\n",
       "</html>"
      ]
     },
     "metadata": {},
     "output_type": "display_data"
    }
   ],
   "source": [
    "prediction(water_score, picked.value)"
   ]
  }
 ],
 "metadata": {
  "colab": {
   "collapsed_sections": [],
   "name": "Missing value prediction for water risk.ipynb",
   "provenance": []
  },
  "kernelspec": {
   "display_name": "Python 3 (ipykernel)",
   "language": "python",
   "name": "python3"
  },
  "language_info": {
   "codemirror_mode": {
    "name": "ipython",
    "version": 3
   },
   "file_extension": ".py",
   "mimetype": "text/x-python",
   "name": "python",
   "nbconvert_exporter": "python",
   "pygments_lexer": "ipython3",
   "version": "3.9.12"
  },
  "toc": {
   "base_numbering": 1,
   "nav_menu": {},
   "number_sections": true,
   "sideBar": true,
   "skip_h1_title": false,
   "title_cell": "Table of Contents",
   "title_sidebar": "Contents",
   "toc_cell": false,
   "toc_position": {},
   "toc_section_display": true,
   "toc_window_display": false
  },
  "varInspector": {
   "cols": {
    "lenName": 16,
    "lenType": 16,
    "lenVar": 40
   },
   "kernels_config": {
    "python": {
     "delete_cmd_postfix": "",
     "delete_cmd_prefix": "del ",
     "library": "var_list.py",
     "varRefreshCmd": "print(var_dic_list())"
    },
    "r": {
     "delete_cmd_postfix": ") ",
     "delete_cmd_prefix": "rm(",
     "library": "var_list.r",
     "varRefreshCmd": "cat(var_dic_list()) "
    }
   },
   "types_to_exclude": [
    "module",
    "function",
    "builtin_function_or_method",
    "instance",
    "_Feature"
   ],
   "window_display": false
  },
  "widgets": {
   "application/vnd.jupyter.widget-state+json": {
    "52e83b5761de4cbaa92c55d9cd574bab": {
     "model_module": "@jupyter-widgets/base",
     "model_module_version": "1.2.0",
     "model_name": "LayoutModel",
     "state": {
      "_model_module": "@jupyter-widgets/base",
      "_model_module_version": "1.2.0",
      "_model_name": "LayoutModel",
      "_view_count": null,
      "_view_module": "@jupyter-widgets/base",
      "_view_module_version": "1.2.0",
      "_view_name": "LayoutView",
      "align_content": null,
      "align_items": null,
      "align_self": null,
      "border": null,
      "bottom": null,
      "display": null,
      "flex": null,
      "flex_flow": null,
      "grid_area": null,
      "grid_auto_columns": null,
      "grid_auto_flow": null,
      "grid_auto_rows": null,
      "grid_column": null,
      "grid_gap": null,
      "grid_row": null,
      "grid_template_areas": null,
      "grid_template_columns": null,
      "grid_template_rows": null,
      "height": null,
      "justify_content": null,
      "justify_items": null,
      "left": null,
      "margin": null,
      "max_height": null,
      "max_width": null,
      "min_height": null,
      "min_width": null,
      "object_fit": null,
      "object_position": null,
      "order": null,
      "overflow": null,
      "overflow_x": null,
      "overflow_y": null,
      "padding": null,
      "right": null,
      "top": null,
      "visibility": null,
      "width": null
     }
    },
    "c9f7a53f215c4d1ea94ca5b553c7cc51": {
     "model_module": "@jupyter-widgets/controls",
     "model_module_version": "1.5.0",
     "model_name": "DropdownModel",
     "state": {
      "_dom_classes": [],
      "_model_module": "@jupyter-widgets/controls",
      "_model_module_version": "1.5.0",
      "_model_name": "DropdownModel",
      "_options_labels": [
       "Groundwater table decline",
       "Drought risk"
      ],
      "_view_count": null,
      "_view_module": "@jupyter-widgets/controls",
      "_view_module_version": "1.5.0",
      "_view_name": "DropdownView",
      "description": "Water Risk Prediction:",
      "description_tooltip": null,
      "disabled": false,
      "index": 1,
      "layout": "IPY_MODEL_52e83b5761de4cbaa92c55d9cd574bab",
      "style": "IPY_MODEL_f42ef82c923049c7841184cf7556c424"
     }
    },
    "f42ef82c923049c7841184cf7556c424": {
     "model_module": "@jupyter-widgets/controls",
     "model_module_version": "1.5.0",
     "model_name": "DescriptionStyleModel",
     "state": {
      "_model_module": "@jupyter-widgets/controls",
      "_model_module_version": "1.5.0",
      "_model_name": "DescriptionStyleModel",
      "_view_count": null,
      "_view_module": "@jupyter-widgets/base",
      "_view_module_version": "1.2.0",
      "_view_name": "StyleView",
      "description_width": ""
     }
    }
   }
  }
 },
 "nbformat": 4,
 "nbformat_minor": 1
}
